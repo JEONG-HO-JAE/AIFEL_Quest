{
 "cells": [
  {
   "cell_type": "markdown",
   "id": "0503726c",
   "metadata": {},
   "source": [
    "# Multiclass Classification\n",
    "Reauters dataset  \n",
    "Classify 46 topics from the dataset"
   ]
  },
  {
   "cell_type": "code",
   "execution_count": 1,
   "id": "47360cd8",
   "metadata": {},
   "outputs": [],
   "source": [
    "from tensorflow.keras.datasets import reuters"
   ]
  },
  {
   "cell_type": "markdown",
   "id": "44b07b71",
   "metadata": {},
   "source": [
    "# Data Load"
   ]
  },
  {
   "cell_type": "code",
   "execution_count": 2,
   "id": "7a5e7bcd",
   "metadata": {},
   "outputs": [],
   "source": [
    "(train_data, train_labels), (test_data, test_labels) = reuters.load_data(num_words=10000)"
   ]
  },
  {
   "cell_type": "markdown",
   "id": "7faa7634",
   "metadata": {},
   "source": [
    "# Data Preprocessing"
   ]
  },
  {
   "cell_type": "code",
   "execution_count": 3,
   "id": "30de8404",
   "metadata": {},
   "outputs": [],
   "source": [
    "import numpy as np\n",
    "\n",
    "def vectorize_sequence(sequences, dimension=10000):\n",
    "    results = np.zeros((len(sequences), dimension))\n",
    "    for i, sequence in enumerate(sequences):\n",
    "        for j in sequence:\n",
    "            results[i, j] = 1.\n",
    "    return results\n",
    "\n",
    "x_train = vectorize_sequence(train_data)\n",
    "x_test = vectorize_sequence(test_data)"
   ]
  },
  {
   "cell_type": "code",
   "execution_count": 4,
   "id": "f5c4d58b",
   "metadata": {},
   "outputs": [],
   "source": [
    "x_train = vectorize_sequence(train_data)\n",
    "x_test = vectorize_sequence(test_data)"
   ]
  },
  {
   "cell_type": "code",
   "execution_count": 5,
   "id": "ddfeae94",
   "metadata": {},
   "outputs": [],
   "source": [
    "def to_one_hot(labels, dimension=46):\n",
    "    results = np.zeros((len(labels), dimension))\n",
    "    for i, label in enumerate(labels):\n",
    "        results[i, label] = 1.\n",
    "    return results"
   ]
  },
  {
   "cell_type": "code",
   "execution_count": 6,
   "id": "51580bed",
   "metadata": {},
   "outputs": [],
   "source": [
    "# y_train = to_categorical(train_lables)\n",
    "y_train = to_one_hot(train_labels)\n",
    "\n",
    "# y_test = to_categorical(test_labels)\n",
    "y_test = to_one_hot(test_labels)"
   ]
  },
  {
   "cell_type": "markdown",
   "id": "4f9d69e7",
   "metadata": {},
   "source": [
    "# Build & Train model"
   ]
  },
  {
   "cell_type": "code",
   "execution_count": 10,
   "id": "2e86eba9",
   "metadata": {},
   "outputs": [],
   "source": [
    "from tensorflow import keras\n",
    "from tensorflow.keras import layers\n",
    "\n",
    "model = keras.Sequential([\n",
    "    layers.Dense(64, activation=\"relu\"),\n",
    "    layers.Dense(64, activation=\"relu\"),\n",
    "    layers.Dense(46, activation=\"softmax\")\n",
    "])\n",
    "\n",
    "model.compile(optimizer=\"rmsprop\",\n",
    "             loss=\"categorical_crossentropy\",\n",
    "             metrics=[\"accuracy\"])"
   ]
  },
  {
   "cell_type": "code",
   "execution_count": 8,
   "id": "eccc3338",
   "metadata": {},
   "outputs": [],
   "source": [
    "x_val = x_train[:1000]\n",
    "partial_x_train = x_train[1000:]\n",
    "y_val = y_train[:1000]\n",
    "partial_y_train = y_train[1000:]"
   ]
  },
  {
   "cell_type": "code",
   "execution_count": 11,
   "id": "1c613b4d",
   "metadata": {},
   "outputs": [
    {
     "name": "stdout",
     "output_type": "stream",
     "text": [
      "Epoch 1/20\n",
      "16/16 [==============================] - 12s 25ms/step - loss: 2.6498 - accuracy: 0.5182 - val_loss: 1.7549 - val_accuracy: 0.6530\n",
      "Epoch 2/20\n",
      "16/16 [==============================] - 0s 13ms/step - loss: 1.4121 - accuracy: 0.7110 - val_loss: 1.2907 - val_accuracy: 0.7140\n",
      "Epoch 3/20\n",
      "16/16 [==============================] - 0s 12ms/step - loss: 1.0398 - accuracy: 0.7721 - val_loss: 1.1290 - val_accuracy: 0.7500\n",
      "Epoch 4/20\n",
      "16/16 [==============================] - 0s 12ms/step - loss: 0.8204 - accuracy: 0.8231 - val_loss: 1.0542 - val_accuracy: 0.7720\n",
      "Epoch 5/20\n",
      "16/16 [==============================] - 0s 12ms/step - loss: 0.6557 - accuracy: 0.8641 - val_loss: 0.9897 - val_accuracy: 0.7870\n",
      "Epoch 6/20\n",
      "16/16 [==============================] - 0s 13ms/step - loss: 0.5224 - accuracy: 0.8930 - val_loss: 0.9592 - val_accuracy: 0.8010\n",
      "Epoch 7/20\n",
      "16/16 [==============================] - 0s 12ms/step - loss: 0.4237 - accuracy: 0.9131 - val_loss: 0.9125 - val_accuracy: 0.8130\n",
      "Epoch 8/20\n",
      "16/16 [==============================] - 0s 12ms/step - loss: 0.3498 - accuracy: 0.9257 - val_loss: 0.8959 - val_accuracy: 0.8240\n",
      "Epoch 9/20\n",
      "16/16 [==============================] - 0s 13ms/step - loss: 0.2860 - accuracy: 0.9377 - val_loss: 0.8808 - val_accuracy: 0.8280\n",
      "Epoch 10/20\n",
      "16/16 [==============================] - 0s 12ms/step - loss: 0.2418 - accuracy: 0.9456 - val_loss: 0.9157 - val_accuracy: 0.8200\n",
      "Epoch 11/20\n",
      "16/16 [==============================] - 0s 13ms/step - loss: 0.2120 - accuracy: 0.9480 - val_loss: 0.9576 - val_accuracy: 0.8110\n",
      "Epoch 12/20\n",
      "16/16 [==============================] - 0s 12ms/step - loss: 0.1851 - accuracy: 0.9515 - val_loss: 0.9519 - val_accuracy: 0.8130\n",
      "Epoch 13/20\n",
      "16/16 [==============================] - 0s 12ms/step - loss: 0.1692 - accuracy: 0.9528 - val_loss: 0.9411 - val_accuracy: 0.8270\n",
      "Epoch 14/20\n",
      "16/16 [==============================] - 0s 13ms/step - loss: 0.1499 - accuracy: 0.9564 - val_loss: 0.9958 - val_accuracy: 0.8070\n",
      "Epoch 15/20\n",
      "16/16 [==============================] - 0s 12ms/step - loss: 0.1454 - accuracy: 0.9534 - val_loss: 0.9927 - val_accuracy: 0.8160\n",
      "Epoch 16/20\n",
      "16/16 [==============================] - 0s 12ms/step - loss: 0.1289 - accuracy: 0.9565 - val_loss: 1.0234 - val_accuracy: 0.8100\n",
      "Epoch 17/20\n",
      "16/16 [==============================] - 0s 12ms/step - loss: 0.1279 - accuracy: 0.9577 - val_loss: 1.0202 - val_accuracy: 0.8130\n",
      "Epoch 18/20\n",
      "16/16 [==============================] - 0s 11ms/step - loss: 0.1172 - accuracy: 0.9580 - val_loss: 1.0873 - val_accuracy: 0.8030\n",
      "Epoch 19/20\n",
      "16/16 [==============================] - 0s 12ms/step - loss: 0.1171 - accuracy: 0.9557 - val_loss: 1.0648 - val_accuracy: 0.8060\n",
      "Epoch 20/20\n",
      "16/16 [==============================] - 0s 11ms/step - loss: 0.1102 - accuracy: 0.9583 - val_loss: 1.0846 - val_accuracy: 0.8030\n"
     ]
    }
   ],
   "source": [
    "history = model.fit(partial_x_train,\n",
    "                    partial_y_train,\n",
    "                    epochs=20,\n",
    "                    batch_size=512,\n",
    "                    validation_data=(x_val, y_val))"
   ]
  },
  {
   "cell_type": "code",
   "execution_count": 13,
   "id": "a6450f2a",
   "metadata": {},
   "outputs": [
    {
     "data": {
      "image/png": "[encoded data removed]",
      "text/plain": [
       "<Figure size 432x288 with 1 Axes>"
      ]
     },
     "metadata": {
      "needs_background": "light"
     },
     "output_type": "display_data"
    }
   ],
   "source": [
    "import matplotlib.pyplot as plt\n",
    "\n",
    "loss = history.history[\"loss\"]\n",
    "val_loss = history.history[\"val_loss\"]\n",
    "epochs = range(1, len(loss) + 1)\n",
    "plt.plot(epochs, loss, \"bo\", label=\"Training loss\")\n",
    "plt.plot(epochs, val_loss, \"b\", label=\"Validation loss\")\n",
    "plt.title(\"Training and validation loss\")\n",
    "plt.xlabel(\"Epochs\")\n",
    "plt.ylabel(\"Loss\")\n",
    "plt.legend()\n",
    "plt.show()"
   ]
  },
  {
   "cell_type": "code",
   "execution_count": 14,
   "id": "a2bb3680",
   "metadata": {},
   "outputs": [
    {
     "data": {
      "image/png": "[encoded data removed]",
      "text/plain": [
       "<Figure size 432x288 with 1 Axes>"
      ]
     },
     "metadata": {
      "needs_background": "light"
     },
     "output_type": "display_data"
    }
   ],
   "source": [
    "plt.clf()\n",
    "acc = history.history[\"accuracy\"]\n",
    "val_acc = history.history[\"val_accuracy\"]\n",
    "plt.plot(epochs, acc, \"bo\", label=\"Training accuracy\")\n",
    "plt.plot(epochs, val_acc, \"b\", label=\"Validation accuracy\")\n",
    "plt.title(\"Training and validation accuracy\")\n",
    "plt.xlabel(\"Epochs\")\n",
    "plt.ylabel(\"Accuracy\")\n",
    "plt.legend()\n",
    "plt.show()"
   ]
  }
 ],
 "metadata": {
  "kernelspec": {
   "display_name": "Python 3 (ipykernel)",
   "language": "python",
   "name": "python3"
  },
  "language_info": {
   "codemirror_mode": {
    "name": "ipython",
    "version": 3
   },
   "file_extension": ".py",
   "mimetype": "text/x-python",
   "name": "python",
   "nbconvert_exporter": "python",
   "pygments_lexer": "ipython3",
   "version": "3.9.7"
  }
 },
 "nbformat": 4,
 "nbformat_minor": 5
}
