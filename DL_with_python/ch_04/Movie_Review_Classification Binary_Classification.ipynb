{
 "cells": [
  {
   "cell_type": "markdown",
   "id": "24b56e19",
   "metadata": {},
   "source": [
    "# Binary Classfication"
   ]
  },
  {
   "cell_type": "code",
   "execution_count": 1,
   "id": "832032db",
   "metadata": {},
   "outputs": [],
   "source": [
    "from tensorflow.keras.datasets import imdb"
   ]
  },
  {
   "cell_type": "markdown",
   "id": "3d17f37c",
   "metadata": {},
   "source": [
    "# Data Load"
   ]
  },
  {
   "cell_type": "code",
   "execution_count": 2,
   "id": "09cbc59f",
   "metadata": {},
   "outputs": [],
   "source": [
    "(train_data, train_labels), (test_data, test_labels) = imdb.load_data(num_words=10000)"
   ]
  },
  {
   "cell_type": "markdown",
   "id": "8618b285",
   "metadata": {},
   "source": [
    "# Data Preprocessing"
   ]
  },
  {
   "cell_type": "code",
   "execution_count": 3,
   "id": "bdeecfda",
   "metadata": {},
   "outputs": [],
   "source": [
    "import numpy as np\n",
    "\n",
    "def vectorize_sequence(sequences, dimension=10000):\n",
    "    results = np.zeros((len(sequences), dimension))\n",
    "    for i, sequence in enumerate(sequences):\n",
    "        for j in sequence:\n",
    "            results[i, j] = 1.\n",
    "    return results\n",
    "\n",
    "x_train = vectorize_sequence(train_data)\n",
    "x_test = vectorize_sequence(test_data)"
   ]
  },
  {
   "cell_type": "code",
   "execution_count": 4,
   "id": "144d51d0",
   "metadata": {},
   "outputs": [
    {
     "name": "stdout",
     "output_type": "stream",
     "text": [
      "[0. 1. 1. ... 0. 0. 0.]\n",
      "(25000, 10000)\n"
     ]
    }
   ],
   "source": [
    "print(x_train[0])\n",
    "print(x_train.shape)"
   ]
  },
  {
   "cell_type": "code",
   "execution_count": 5,
   "id": "519f02a9",
   "metadata": {},
   "outputs": [],
   "source": [
    "y_train = np.array(train_labels).astype('float32')\n",
    "y_test = np.array(test_labels).astype('float32')"
   ]
  },
  {
   "cell_type": "code",
   "execution_count": 6,
   "id": "bd361ffd",
   "metadata": {},
   "outputs": [
    {
     "name": "stdout",
     "output_type": "stream",
     "text": [
      "[1. 0. 0. ... 0. 1. 0.]\n"
     ]
    }
   ],
   "source": [
    "print(y_train)"
   ]
  },
  {
   "cell_type": "code",
   "execution_count": 7,
   "id": "02688cb4",
   "metadata": {},
   "outputs": [],
   "source": [
    "x_val = x_train[:10000]\n",
    "partial_x_train = x_train[10000:]\n",
    "y_val = y_train[:10000]\n",
    "partial_y_train = y_train[10000:]"
   ]
  },
  {
   "cell_type": "markdown",
   "id": "9fa292ad",
   "metadata": {},
   "source": [
    "# Build & Train Model"
   ]
  },
  {
   "cell_type": "code",
   "execution_count": 8,
   "id": "7bd55182",
   "metadata": {},
   "outputs": [],
   "source": [
    "from tensorflow import keras\n",
    "from tensorflow.keras import layers\n",
    "\n",
    "model = keras.Sequential([\n",
    "    layers.Dense(16, activation='relu'),\n",
    "    layers.Dense(16, activation='relu'),\n",
    "    layers.Dense(1, activation='sigmoid')\n",
    "])"
   ]
  },
  {
   "cell_type": "markdown",
   "id": "a10c816f",
   "metadata": {},
   "source": [
    "## Why are activation functions necessary?\n",
    "\n",
    "Without an activation function like 'relu', the Dense layer would only learn linear transformations of input data.  \n",
    "Such a hypothesis space is too restricted and wouldn't benefit from multiple layers of representations, because a deep stack of linear layers would still implement a linear operation"
   ]
  },
  {
   "cell_type": "code",
   "execution_count": 9,
   "id": "8b21c6f0",
   "metadata": {},
   "outputs": [],
   "source": [
    "model.compile(optimizer=\"rmsprop\",\n",
    "             loss = \"binary_crossentropy\",\n",
    "             metrics=['accuracy'])"
   ]
  },
  {
   "cell_type": "code",
   "execution_count": 10,
   "id": "96fa460b",
   "metadata": {},
   "outputs": [
    {
     "name": "stdout",
     "output_type": "stream",
     "text": [
      "Epoch 1/20\n",
      "30/30 [==============================] - 3s 56ms/step - loss: 0.5082 - accuracy: 0.7854 - val_loss: 0.3883 - val_accuracy: 0.8638\n",
      "Epoch 2/20\n",
      "30/30 [==============================] - 0s 15ms/step - loss: 0.3002 - accuracy: 0.9044 - val_loss: 0.3028 - val_accuracy: 0.8868\n",
      "Epoch 3/20\n",
      "30/30 [==============================] - 0s 16ms/step - loss: 0.2204 - accuracy: 0.9273 - val_loss: 0.2952 - val_accuracy: 0.8830\n",
      "Epoch 4/20\n",
      "30/30 [==============================] - 0s 16ms/step - loss: 0.1682 - accuracy: 0.9468 - val_loss: 0.2747 - val_accuracy: 0.8890\n",
      "Epoch 5/20\n",
      "30/30 [==============================] - 0s 15ms/step - loss: 0.1372 - accuracy: 0.9559 - val_loss: 0.2813 - val_accuracy: 0.8878\n",
      "Epoch 6/20\n",
      "30/30 [==============================] - 0s 15ms/step - loss: 0.1147 - accuracy: 0.9645 - val_loss: 0.3188 - val_accuracy: 0.8781\n",
      "Epoch 7/20\n",
      "30/30 [==============================] - 0s 15ms/step - loss: 0.0923 - accuracy: 0.9729 - val_loss: 0.3285 - val_accuracy: 0.8809\n",
      "Epoch 8/20\n",
      "30/30 [==============================] - 0s 16ms/step - loss: 0.0746 - accuracy: 0.9799 - val_loss: 0.3574 - val_accuracy: 0.8729\n",
      "Epoch 9/20\n",
      "30/30 [==============================] - 0s 16ms/step - loss: 0.0625 - accuracy: 0.9831 - val_loss: 0.3587 - val_accuracy: 0.8783\n",
      "Epoch 10/20\n",
      "30/30 [==============================] - 0s 17ms/step - loss: 0.0482 - accuracy: 0.9884 - val_loss: 0.3943 - val_accuracy: 0.8762\n",
      "Epoch 11/20\n",
      "30/30 [==============================] - 0s 15ms/step - loss: 0.0402 - accuracy: 0.9909 - val_loss: 0.4192 - val_accuracy: 0.8753\n",
      "Epoch 12/20\n",
      "30/30 [==============================] - 0s 16ms/step - loss: 0.0289 - accuracy: 0.9945 - val_loss: 0.5284 - val_accuracy: 0.8584\n",
      "Epoch 13/20\n",
      "30/30 [==============================] - 0s 15ms/step - loss: 0.0234 - accuracy: 0.9965 - val_loss: 0.4779 - val_accuracy: 0.8717\n",
      "Epoch 14/20\n",
      "30/30 [==============================] - 0s 15ms/step - loss: 0.0184 - accuracy: 0.9973 - val_loss: 0.5247 - val_accuracy: 0.8685\n",
      "Epoch 15/20\n",
      "30/30 [==============================] - 0s 15ms/step - loss: 0.0149 - accuracy: 0.9975 - val_loss: 0.5451 - val_accuracy: 0.8702\n",
      "Epoch 16/20\n",
      "30/30 [==============================] - 0s 14ms/step - loss: 0.0105 - accuracy: 0.9993 - val_loss: 0.5871 - val_accuracy: 0.8689\n",
      "Epoch 17/20\n",
      "30/30 [==============================] - 0s 14ms/step - loss: 0.0079 - accuracy: 0.9995 - val_loss: 0.7683 - val_accuracy: 0.8477\n",
      "Epoch 18/20\n",
      "30/30 [==============================] - 0s 15ms/step - loss: 0.0063 - accuracy: 0.9996 - val_loss: 0.6562 - val_accuracy: 0.8677\n",
      "Epoch 19/20\n",
      "30/30 [==============================] - 0s 15ms/step - loss: 0.0096 - accuracy: 0.9971 - val_loss: 0.6962 - val_accuracy: 0.8680\n",
      "Epoch 20/20\n",
      "30/30 [==============================] - 0s 15ms/step - loss: 0.0024 - accuracy: 0.9999 - val_loss: 0.7174 - val_accuracy: 0.8661\n"
     ]
    }
   ],
   "source": [
    "history_1 = model.fit(partial_x_train,\n",
    "                    partial_y_train,\n",
    "                    epochs=20,\n",
    "                    batch_size=512,\n",
    "                    validation_data=(x_val, y_val))"
   ]
  },
  {
   "cell_type": "code",
   "execution_count": 11,
   "id": "344c1089",
   "metadata": {},
   "outputs": [
    {
     "data": {
      "image/png": "[encoded data removed]",
      "text/plain": [
       "<Figure size 432x288 with 1 Axes>"
      ]
     },
     "metadata": {
      "needs_background": "light"
     },
     "output_type": "display_data"
    }
   ],
   "source": [
    "import matplotlib.pyplot as plt\n",
    "\n",
    "history_dict_1 = history_1.history\n",
    "loss_values_1 = history_dict_1[\"loss\"]\n",
    "val_loss_values_1 = history_dict_1[\"val_loss\"]\n",
    "epochs = range(1, len(loss_values_1) + 1)\n",
    "plt.plot(epochs, loss_values_1, \"bo\", label=\"Training loss\")\n",
    "plt.plot(epochs, val_loss_values_1, \"b\", label=\"Validation loss\")\n",
    "plt.title(\"Training and validation loss\")\n",
    "plt.xlabel(\"Epochs\")\n",
    "plt.ylabel(\"Loss\")\n",
    "plt.legend()\n",
    "plt.show()"
   ]
  },
  {
   "cell_type": "code",
   "execution_count": 12,
   "id": "194c8dd0",
   "metadata": {},
   "outputs": [
    {
     "data": {
      "image/png": "[encoded data removed]",
      "text/plain": [
       "<Figure size 432x288 with 1 Axes>"
      ]
     },
     "metadata": {
      "needs_background": "light"
     },
     "output_type": "display_data"
    }
   ],
   "source": [
    "plt.clf()\n",
    "acc_1 = history_dict_1[\"accuracy\"]\n",
    "val_acc_1 = history_dict_1[\"val_accuracy\"]\n",
    "plt.plot(epochs, acc_1, \"bo\", label=\"Training acc\")\n",
    "plt.plot(epochs, val_acc_1, \"b\", label=\"Validation acc\")\n",
    "plt.title(\"Training and validation accuracy\")\n",
    "plt.xlabel(\"Epochs\")\n",
    "plt.ylabel(\"Accuracy\")\n",
    "plt.legend()\n",
    "plt.show()"
   ]
  },
  {
   "cell_type": "markdown",
   "id": "b32f94a8",
   "metadata": {},
   "source": [
    "- Training loss decrease  \n",
    "- Training accuracy increase  \n",
    "Peak at the fourth epoch, after the fourth, -> overfitting  \n",
    "It means the model ended up learning representations that are specific to the traning data and don't generalize to data outside of the training set  "
   ]
  },
  {
   "cell_type": "code",
   "execution_count": 13,
   "id": "faa09d32",
   "metadata": {},
   "outputs": [
    {
     "name": "stdout",
     "output_type": "stream",
     "text": [
      "Epoch 1/4\n",
      "30/30 [==============================] - 0s 9ms/step - loss: 0.0020 - accuracy: 0.9999\n",
      "Epoch 2/4\n",
      "30/30 [==============================] - 0s 9ms/step - loss: 0.0043 - accuracy: 0.9993\n",
      "Epoch 3/4\n",
      "30/30 [==============================] - 0s 9ms/step - loss: 9.7889e-04 - accuracy: 0.9999\n",
      "Epoch 4/4\n",
      "30/30 [==============================] - 0s 8ms/step - loss: 7.7695e-04 - accuracy: 0.9999\n",
      "782/782 [==============================] - 2s 2ms/step - loss: 0.9544 - accuracy: 0.8493\n"
     ]
    }
   ],
   "source": [
    "history_2 = model.fit(partial_x_train, partial_y_train, epochs=4, batch_size=512)\n",
    "results = model.evaluate(x_test, y_test)"
   ]
  },
  {
   "cell_type": "code",
   "execution_count": 14,
   "id": "89317307",
   "metadata": {},
   "outputs": [
    {
     "data": {
      "image/png": "[encoded data removed]",
      "text/plain": [
       "<Figure size 432x288 with 1 Axes>"
      ]
     },
     "metadata": {
      "needs_background": "light"
     },
     "output_type": "display_data"
    }
   ],
   "source": [
    "history_dict_1 = history_1.history\n",
    "loss_values_1 = history_dict_1[\"loss\"]\n",
    "val_loss_values_1 = history_dict_1[\"val_loss\"]\n",
    "epochs = range(1, len(loss_values_1) + 1)\n",
    "plt.plot(epochs, loss_values_1, \"bo\", label=\"Training loss\")\n",
    "plt.plot(epochs, val_loss_values_1, \"b\", label=\"Validation loss\")\n",
    "\n",
    "\n",
    "history_dict_2 = history_2.history\n",
    "loss_values_2 = history_dict_2[\"loss\"]\n",
    "epochs = range(20, 24)\n",
    "plt.plot(epochs, loss_values_2, \"ro\", label=\"test loss\")\n",
    "plt.ylim(0, 0.8)\n",
    "plt.title(\"Training and validation loss\")\n",
    "plt.xlabel(\"Epochs\")\n",
    "plt.ylabel(\"Loss\")\n",
    "plt.legend()\n",
    "plt.show()"
   ]
  },
  {
   "cell_type": "code",
   "execution_count": 15,
   "id": "dd1b7e36",
   "metadata": {},
   "outputs": [
    {
     "data": {
      "image/png": "[encoded data removed]",
      "text/plain": [
       "<Figure size 432x288 with 1 Axes>"
      ]
     },
     "metadata": {
      "needs_background": "light"
     },
     "output_type": "display_data"
    }
   ],
   "source": [
    "history_dict_2 = history_2.history\n",
    "loss_values_2 = history_dict_2[\"loss\"]\n",
    "epochs = range(20, 24)\n",
    "plt.plot(epochs, loss_values_2, \"ro\", label=\"test loss\")\n",
    "plt.title(\"Training and validation loss\")\n",
    "plt.xlabel(\"Epochs\")\n",
    "plt.ylabel(\"Loss\")\n",
    "plt.legend()\n",
    "plt.show()"
   ]
  },
  {
   "cell_type": "code",
   "execution_count": 16,
   "id": "065ff64e",
   "metadata": {},
   "outputs": [
    {
     "data": {
      "image/png": "[encoded data removed]",
      "text/plain": [
       "<Figure size 432x288 with 1 Axes>"
      ]
     },
     "metadata": {
      "needs_background": "light"
     },
     "output_type": "display_data"
    }
   ],
   "source": [
    "plt.clf()\n",
    "\n",
    "acc_1 = history_dict_1[\"accuracy\"]\n",
    "val_acc_1 = history_dict_1[\"val_accuracy\"]\n",
    "plt.plot(range(0,20), acc_1, \"bo\", label=\"Training acc\")\n",
    "plt.plot(range(0,20), val_acc_1, \"b\", label=\"Validation acc\")\n",
    "\n",
    "acc_2 = history_dict_2[\"accuracy\"]\n",
    "plt.plot(range(20,24), acc_2, \"ro\", label=\"Training acc\")\n",
    "plt.title(\"Training and validation accuracy\")\n",
    "plt.xlabel(\"Epochs\")\n",
    "plt.ylabel(\"Accuracy\")\n",
    "plt.legend()\n",
    "plt.show()"
   ]
  },
  {
   "cell_type": "code",
   "execution_count": 17,
   "id": "879bc0f0",
   "metadata": {},
   "outputs": [
    {
     "data": {
      "text/plain": [
       "[0.9543701410293579, 0.8493199944496155]"
      ]
     },
     "execution_count": 17,
     "metadata": {},
     "output_type": "execute_result"
    }
   ],
   "source": [
    "results"
   ]
  },
  {
   "cell_type": "code",
   "execution_count": 18,
   "id": "857b275d",
   "metadata": {},
   "outputs": [
    {
     "data": {
      "text/plain": [
       "array([[9.5428195e-04],\n",
       "       [1.0000000e+00],\n",
       "       [5.7635063e-01],\n",
       "       ...,\n",
       "       [1.7150913e-03],\n",
       "       [2.4144771e-03],\n",
       "       [5.7413232e-01]], dtype=float32)"
      ]
     },
     "execution_count": 18,
     "metadata": {},
     "output_type": "execute_result"
    }
   ],
   "source": [
    "model.predict(x_test)"
   ]
  },
  {
   "cell_type": "code",
   "execution_count": 19,
   "id": "27e5e1e8",
   "metadata": {},
   "outputs": [
    {
     "name": "stdout",
     "output_type": "stream",
     "text": [
      "Epoch 1/4\n",
      "49/49 [==============================] - 1s 9ms/step - loss: 0.4701 - accuracy: 0.8222\n",
      "Epoch 2/4\n",
      "49/49 [==============================] - 0s 9ms/step - loss: 0.2744 - accuracy: 0.9042\n",
      "Epoch 3/4\n",
      "49/49 [==============================] - 0s 10ms/step - loss: 0.2089 - accuracy: 0.9255\n",
      "Epoch 4/4\n",
      "49/49 [==============================] - 0s 9ms/step - loss: 0.1723 - accuracy: 0.9386\n",
      "782/782 [==============================] - 2s 2ms/step - loss: 0.2910 - accuracy: 0.8842\n"
     ]
    },
    {
     "data": {
      "image/png": "[encoded data removed]",
      "text/plain": [
       "<Figure size 432x288 with 1 Axes>"
      ]
     },
     "metadata": {
      "needs_background": "light"
     },
     "output_type": "display_data"
    }
   ],
   "source": [
    "model = keras.Sequential([\n",
    "    layers.Dense(16, activation='relu'),\n",
    "    layers.Dense(16, activation='relu'),\n",
    "    layers.Dense(1, activation='sigmoid')\n",
    "])\n",
    "model.compile(optimizer=\"rmsprop\",\n",
    "             loss = \"binary_crossentropy\",\n",
    "             metrics=['accuracy'])\n",
    "\n",
    "history = model.fit(x_train, y_train, epochs=4, batch_size=512)\n",
    "results = model.evaluate(x_test, y_test)\n",
    "\n",
    "history_dict = history.history\n",
    "loss_values = history_dict[\"loss\"]\n",
    "epochs = range(1, len(loss_values) + 1)\n",
    "plt.plot(epochs, loss_values, \"bo\", label=\"Training loss\")\n",
    "plt.title(\"Training and validation loss\")\n",
    "plt.xlabel(\"Epochs\")\n",
    "plt.ylabel(\"Loss\")\n",
    "plt.legend()\n",
    "plt.show()"
   ]
  },
  {
   "cell_type": "code",
   "execution_count": 20,
   "id": "3d66d06a",
   "metadata": {},
   "outputs": [
    {
     "name": "stdout",
     "output_type": "stream",
     "text": [
      "Epoch 1/20\n",
      "49/49 [==============================] - 1s 9ms/step - loss: 0.1648 - accuracy: 0.8126\n",
      "Epoch 2/20\n",
      "49/49 [==============================] - 0s 9ms/step - loss: 0.0864 - accuracy: 0.9042\n",
      "Epoch 3/20\n",
      "49/49 [==============================] - 0s 9ms/step - loss: 0.0617 - accuracy: 0.9281\n",
      "Epoch 4/20\n",
      "49/49 [==============================] - 0s 9ms/step - loss: 0.0502 - accuracy: 0.9407\n",
      "Epoch 5/20\n",
      "49/49 [==============================] - 0s 9ms/step - loss: 0.0422 - accuracy: 0.9509\n",
      "Epoch 6/20\n",
      "49/49 [==============================] - 0s 9ms/step - loss: 0.0362 - accuracy: 0.9596\n",
      "Epoch 7/20\n",
      "49/49 [==============================] - 0s 9ms/step - loss: 0.0318 - accuracy: 0.9650\n",
      "Epoch 8/20\n",
      "49/49 [==============================] - 0s 9ms/step - loss: 0.0278 - accuracy: 0.9702\n",
      "Epoch 9/20\n",
      "49/49 [==============================] - 0s 9ms/step - loss: 0.0246 - accuracy: 0.9736\n",
      "Epoch 10/20\n",
      "49/49 [==============================] - 0s 9ms/step - loss: 0.0212 - accuracy: 0.9784\n",
      "Epoch 11/20\n",
      "49/49 [==============================] - 0s 9ms/step - loss: 0.0193 - accuracy: 0.9800\n",
      "Epoch 12/20\n",
      "49/49 [==============================] - 0s 9ms/step - loss: 0.0174 - accuracy: 0.9822\n",
      "Epoch 13/20\n",
      "49/49 [==============================] - 0s 9ms/step - loss: 0.0147 - accuracy: 0.9858\n",
      "Epoch 14/20\n",
      "49/49 [==============================] - 0s 9ms/step - loss: 0.0135 - accuracy: 0.9869\n",
      "Epoch 15/20\n",
      "49/49 [==============================] - 0s 9ms/step - loss: 0.0122 - accuracy: 0.9882\n",
      "Epoch 16/20\n",
      "49/49 [==============================] - 0s 9ms/step - loss: 0.0112 - accuracy: 0.9892\n",
      "Epoch 17/20\n",
      "49/49 [==============================] - 0s 9ms/step - loss: 0.0094 - accuracy: 0.9912\n",
      "Epoch 18/20\n",
      "49/49 [==============================] - 0s 8ms/step - loss: 0.0095 - accuracy: 0.9908\n",
      "Epoch 19/20\n",
      "49/49 [==============================] - 0s 9ms/step - loss: 0.0083 - accuracy: 0.9925\n",
      "Epoch 20/20\n",
      "49/49 [==============================] - 0s 10ms/step - loss: 0.0078 - accuracy: 0.9924\n",
      "782/782 [==============================] - 2s 2ms/step - loss: 0.1213 - accuracy: 0.8563\n"
     ]
    },
    {
     "data": {
      "image/png": "[encoded data removed]",
      "text/plain": [
       "<Figure size 432x288 with 1 Axes>"
      ]
     },
     "metadata": {
      "needs_background": "light"
     },
     "output_type": "display_data"
    }
   ],
   "source": [
    "model = keras.Sequential([\n",
    "    layers.Dense(16, activation='relu'),\n",
    "    layers.Dense(16, activation='relu'),\n",
    "    layers.Dense(1, activation='sigmoid')\n",
    "])\n",
    "model.compile(optimizer=\"rmsprop\",\n",
    "             loss = \"mse\",\n",
    "             metrics=['accuracy'])\n",
    "\n",
    "history = model.fit(x_train, y_train, epochs=20, batch_size=512)\n",
    "results = model.evaluate(x_test, y_test)\n",
    "\n",
    "history_dict = history.history\n",
    "loss_values = history_dict[\"loss\"]\n",
    "epochs = range(1, len(loss_values) + 1)\n",
    "plt.plot(epochs, loss_values, \"bo\", label=\"Training loss\")\n",
    "plt.title(\"Training and validation loss\")\n",
    "plt.xlabel(\"Epochs\")\n",
    "plt.ylabel(\"Loss\")\n",
    "plt.legend()\n",
    "plt.show()"
   ]
  }
 ],
 "metadata": {
  "kernelspec": {
   "display_name": "Python 3 (ipykernel)",
   "language": "python",
   "name": "python3"
  },
  "language_info": {
   "codemirror_mode": {
    "name": "ipython",
    "version": 3
   },
   "file_extension": ".py",
   "mimetype": "text/x-python",
   "name": "python",
   "nbconvert_exporter": "python",
   "pygments_lexer": "ipython3",
   "version": "3.9.7"
  }
 },
 "nbformat": 4,
 "nbformat_minor": 5
}
