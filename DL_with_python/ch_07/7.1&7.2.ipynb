{
 "cells": [
  {
   "cell_type": "markdown",
   "id": "b1112f23",
   "metadata": {},
   "source": [
    "# 1. Sequential"
   ]
  },
  {
   "cell_type": "code",
   "execution_count": 1,
   "id": "575a1f42",
   "metadata": {},
   "outputs": [],
   "source": [
    "from tensorflow import keras\n",
    "from tensorflow.keras import layers\n",
    "\n",
    "model = keras.Sequential([\n",
    "    layers.Dense(64, activation='relu'),\n",
    "    layers.Dense(10, activation='softmax')\n",
    "])"
   ]
  },
  {
   "cell_type": "code",
   "execution_count": 2,
   "id": "9565fd32",
   "metadata": {},
   "outputs": [],
   "source": [
    "model = keras.Sequential()\n",
    "model.add(layers.Dense(64, activation='relu'))\n",
    "model.add(layers.Dense(10, activation='softmax'))"
   ]
  },
  {
   "cell_type": "code",
   "execution_count": 4,
   "id": "1be94e79",
   "metadata": {},
   "outputs": [],
   "source": [
    "model.build(input_shape=(None, 3))"
   ]
  },
  {
   "cell_type": "code",
   "execution_count": 5,
   "id": "c7ee0ed1",
   "metadata": {},
   "outputs": [
    {
     "data": {
      "text/plain": [
       "[<tf.Variable 'dense_2/kernel:0' shape=(3, 64) dtype=float32, numpy=\n",
       " array([[-1.19219482e-01,  1.51557356e-01, -2.62126744e-01,\n",
       "         -1.84459999e-01, -1.98381528e-01,  2.17429996e-01,\n",
       "          6.65263534e-02,  8.90417993e-02, -2.53296226e-01,\n",
       "         -2.95251280e-01,  2.93059468e-01, -6.20846003e-02,\n",
       "          4.90050614e-02, -1.30125433e-01,  1.00961328e-01,\n",
       "         -1.53458476e-01, -1.97716922e-01,  5.26626110e-02,\n",
       "         -1.19690880e-01, -3.60578597e-02,  2.36293137e-01,\n",
       "         -1.05087698e-01,  4.99983430e-02, -2.07381785e-01,\n",
       "         -2.63623893e-02, -2.61260301e-01, -1.98520154e-01,\n",
       "          2.91050911e-01, -2.66410083e-01,  1.63238645e-02,\n",
       "          1.08954102e-01,  1.55871660e-01,  9.39447284e-02,\n",
       "          1.36580825e-01, -1.73541784e-01,  1.46152794e-01,\n",
       "          2.51610041e-01, -7.79693276e-02, -1.33035630e-01,\n",
       "          5.66517711e-02, -2.85770923e-01,  5.52857816e-02,\n",
       "          1.47787780e-01,  2.72791445e-01, -6.09450489e-02,\n",
       "          1.43272877e-02,  2.28507221e-01, -4.99798805e-02,\n",
       "          1.19722486e-01, -1.46617398e-01,  6.71805143e-02,\n",
       "         -2.10740894e-01, -1.92015767e-02,  5.58913648e-02,\n",
       "         -2.88251191e-01,  8.49756300e-02, -5.25893271e-02,\n",
       "         -2.10777581e-01, -4.61589396e-02, -1.39102951e-01,\n",
       "          2.05331445e-02, -1.39019176e-01, -2.80511111e-01,\n",
       "         -1.49444118e-01],\n",
       "        [ 2.03839242e-01,  1.59655631e-01,  2.90903211e-01,\n",
       "         -1.19024783e-01,  1.97964221e-01,  1.67914689e-01,\n",
       "         -2.66818553e-01,  1.33898646e-01, -6.38960451e-02,\n",
       "          1.09714299e-01,  1.61033154e-01, -7.08692521e-02,\n",
       "         -5.96384555e-02,  2.64437199e-01, -1.09216571e-02,\n",
       "          1.85367316e-01,  2.86754072e-01, -1.90674424e-01,\n",
       "          9.85046923e-02, -1.88011467e-01,  2.83729076e-01,\n",
       "          1.84307247e-01,  1.64676785e-01,  1.81717038e-01,\n",
       "         -2.23694593e-01, -6.45418167e-02, -1.13231003e-01,\n",
       "         -1.40582979e-01, -1.80978745e-01,  2.86853611e-01,\n",
       "         -3.11517715e-03, -2.14290798e-01, -9.22934711e-02,\n",
       "         -1.01245567e-01,  1.23014450e-01, -2.29763478e-01,\n",
       "         -1.94110885e-01, -4.11448479e-02,  1.63615495e-01,\n",
       "          1.90386534e-01, -1.71607330e-01, -1.97204083e-01,\n",
       "         -5.53291440e-02,  2.40334749e-01,  2.84974337e-01,\n",
       "         -2.60943949e-01, -2.90198624e-02,  1.59511745e-01,\n",
       "         -9.97553319e-02, -6.77147806e-02,  2.64238060e-01,\n",
       "         -2.36757517e-01,  2.37792969e-01, -1.03372797e-01,\n",
       "          3.10203731e-02, -1.65742934e-01, -4.83632088e-02,\n",
       "         -1.67884216e-01,  2.42285371e-01, -2.65301287e-01,\n",
       "          1.43646836e-01, -7.05382079e-02,  1.23807132e-01,\n",
       "          2.65896320e-03],\n",
       "        [ 1.26931936e-01, -2.20581144e-01, -2.89763182e-01,\n",
       "         -2.32663184e-01, -1.63948476e-01, -1.53900549e-01,\n",
       "         -2.06765994e-01, -4.46828902e-02, -2.64679760e-01,\n",
       "          2.67778695e-01, -1.25217021e-01,  2.73370028e-01,\n",
       "          2.46060193e-02, -1.60218716e-01, -2.09629536e-04,\n",
       "          7.55281150e-02, -9.02432203e-02,  3.02183628e-03,\n",
       "         -1.69880018e-01, -2.42129982e-01, -2.45165110e-01,\n",
       "          2.16201961e-01, -1.05135441e-02, -1.80240512e-01,\n",
       "          1.52260840e-01, -2.37768888e-02,  9.14547145e-02,\n",
       "         -2.52661526e-01, -2.41473734e-01,  1.65960342e-01,\n",
       "         -2.81759709e-01,  5.94766438e-02, -2.42117494e-01,\n",
       "          1.57609105e-01, -9.69410390e-02,  1.73995554e-01,\n",
       "          2.08578944e-01, -2.34107539e-01,  1.53553069e-01,\n",
       "          1.29374504e-01,  2.75311351e-01,  9.13722217e-02,\n",
       "          7.01879561e-02, -2.43512556e-01,  2.12052166e-01,\n",
       "         -1.72213495e-01, -1.47716582e-01, -2.86807686e-01,\n",
       "         -1.66787818e-01, -2.55435079e-01, -5.31116128e-03,\n",
       "          2.26347804e-01,  1.30765080e-01,  1.17167532e-02,\n",
       "          1.60408646e-01, -1.97985470e-01, -9.90691930e-02,\n",
       "          2.65692115e-01, -2.12737560e-01,  2.83783019e-01,\n",
       "          5.69067895e-02,  7.90965557e-03, -1.68958277e-01,\n",
       "          1.45116895e-01]], dtype=float32)>,\n",
       " <tf.Variable 'dense_2/bias:0' shape=(64,) dtype=float32, numpy=\n",
       " array([0., 0., 0., 0., 0., 0., 0., 0., 0., 0., 0., 0., 0., 0., 0., 0., 0.,\n",
       "        0., 0., 0., 0., 0., 0., 0., 0., 0., 0., 0., 0., 0., 0., 0., 0., 0.,\n",
       "        0., 0., 0., 0., 0., 0., 0., 0., 0., 0., 0., 0., 0., 0., 0., 0., 0.,\n",
       "        0., 0., 0., 0., 0., 0., 0., 0., 0., 0., 0., 0., 0.], dtype=float32)>,\n",
       " <tf.Variable 'dense_3/kernel:0' shape=(64, 10) dtype=float32, numpy=\n",
       " array([[ 0.15537459,  0.16432059, -0.15756646, -0.09734036, -0.01405236,\n",
       "         -0.15662287, -0.21273074, -0.22957863,  0.06951386,  0.0183813 ],\n",
       "        [ 0.10169715,  0.1568602 ,  0.04495248, -0.19641271, -0.26638708,\n",
       "          0.00042573, -0.05041809, -0.04312877, -0.13365151, -0.13796912],\n",
       "        [-0.20834191,  0.13302681, -0.00387442, -0.26303655, -0.11920737,\n",
       "          0.17578965,  0.01214129,  0.11460069,  0.1275743 ,  0.20493361],\n",
       "        [ 0.04674909, -0.07076505,  0.27942267, -0.13644582,  0.00059634,\n",
       "          0.03918198, -0.11991408,  0.2712175 , -0.14607854, -0.01912946],\n",
       "        [-0.03733213, -0.12126264, -0.1078299 , -0.1567061 ,  0.10031012,\n",
       "         -0.2808761 ,  0.09109905,  0.06008473, -0.18522637,  0.05004776],\n",
       "        [ 0.09204435,  0.00765428, -0.18751097, -0.00247604,  0.16996822,\n",
       "         -0.05051042, -0.10079551, -0.15435767,  0.12130493, -0.22930925],\n",
       "        [-0.09992571, -0.02248743, -0.09595305, -0.09389547, -0.14030641,\n",
       "         -0.04659492,  0.06032094, -0.10810173,  0.15401796, -0.03455371],\n",
       "        [-0.25835788,  0.15049371,  0.16306806, -0.24802816, -0.12132782,\n",
       "          0.07682917,  0.13200155, -0.05704902,  0.05545831, -0.1728375 ],\n",
       "        [ 0.02602148, -0.04939011,  0.08860874, -0.19983473,  0.14014217,\n",
       "         -0.11403382, -0.22110486, -0.19943392, -0.08711125,  0.13076684],\n",
       "        [-0.1383679 , -0.14628288, -0.00762314,  0.00912783,  0.13853484,\n",
       "          0.23678157,  0.20295411,  0.17845157, -0.1305206 , -0.08137307],\n",
       "        [-0.0534213 , -0.09479663,  0.08337063,  0.2254192 ,  0.22831592,\n",
       "          0.12935725,  0.07441571,  0.0159398 ,  0.16706291,  0.02706772],\n",
       "        [-0.27061614,  0.25279203, -0.2538466 , -0.1700863 , -0.2794282 ,\n",
       "         -0.07961956,  0.13500386, -0.20401433,  0.01642853, -0.08855912],\n",
       "        [ 0.0284445 , -0.02599865, -0.2594156 ,  0.12007052, -0.12094593,\n",
       "          0.09805387,  0.2070041 ,  0.0242607 ,  0.09865999,  0.15633965],\n",
       "        [-0.03327793, -0.03275716,  0.07287824,  0.22913441,  0.25984433,\n",
       "         -0.1329697 ,  0.17653641, -0.19113216,  0.04914361, -0.2746385 ],\n",
       "        [ 0.26505473,  0.1395882 ,  0.1450989 ,  0.15936348, -0.23025602,\n",
       "         -0.23077661, -0.27391568,  0.00227964,  0.25718537, -0.2332673 ],\n",
       "        [ 0.13119665,  0.1831474 , -0.16487172, -0.06590433,  0.19803491,\n",
       "         -0.25338218, -0.10373443, -0.10250625,  0.06298169, -0.26812562],\n",
       "        [-0.22472286, -0.20522377,  0.02030873,  0.23214552, -0.00305453,\n",
       "         -0.0220598 ,  0.02203631,  0.1681987 ,  0.0337249 , -0.20499179],\n",
       "        [ 0.22963277, -0.02417096, -0.28365758,  0.24894705,  0.0544911 ,\n",
       "          0.15895772,  0.02544802,  0.09918797, -0.20632541,  0.17040741],\n",
       "        [ 0.11987105, -0.13602078,  0.24826333, -0.21732798, -0.08757968,\n",
       "         -0.03067568, -0.11620179,  0.20437032, -0.24140634,  0.21988842],\n",
       "        [-0.11092009,  0.20036957, -0.1727311 ,  0.036044  ,  0.27094945,\n",
       "          0.25096843, -0.04575934,  0.02616572, -0.01800817, -0.01032642],\n",
       "        [ 0.06519216, -0.0934696 , -0.04629932, -0.2133173 ,  0.18592346,\n",
       "         -0.15233716, -0.10162044,  0.05255237, -0.23155794, -0.23354723],\n",
       "        [ 0.27647695,  0.15883857, -0.0818624 ,  0.27463958, -0.14753924,\n",
       "          0.10220313,  0.13359314,  0.14506489,  0.17274326,  0.01744193],\n",
       "        [-0.19314432,  0.05729118,  0.2218363 ,  0.2501544 , -0.0751012 ,\n",
       "         -0.06539476, -0.21992135, -0.10797173, -0.00527111,  0.26036832],\n",
       "        [-0.27234006, -0.10786121, -0.11813506,  0.15512577,  0.02588522,\n",
       "          0.12929901,  0.17460579, -0.09161466,  0.02487367, -0.20599417],\n",
       "        [ 0.19559866,  0.2650791 ,  0.1062288 , -0.1510098 , -0.16768627,\n",
       "         -0.08730148,  0.04964158,  0.2733148 ,  0.18395439,  0.22882715],\n",
       "        [ 0.28400502,  0.22411004,  0.09059227, -0.15256792, -0.2190508 ,\n",
       "         -0.17418304, -0.27977479, -0.14415239,  0.04832852,  0.04947993],\n",
       "        [ 0.12967959, -0.23018739, -0.132105  ,  0.07695341,  0.25710914,\n",
       "         -0.24264523, -0.02044737, -0.19659072, -0.1884642 , -0.12471887],\n",
       "        [ 0.09701994, -0.27783316, -0.26293632,  0.1852085 , -0.04705167,\n",
       "         -0.10610287,  0.14007634, -0.05410419, -0.23963742, -0.05899824],\n",
       "        [-0.17579785,  0.2638941 ,  0.21398118, -0.00312841, -0.04324445,\n",
       "          0.08753839,  0.04012963,  0.09689686,  0.10688171,  0.12900558],\n",
       "        [ 0.07634032, -0.07997122, -0.02810267,  0.25211796, -0.14348586,\n",
       "         -0.14297642, -0.09732556, -0.09614912, -0.15437968,  0.20587653],\n",
       "        [-0.08460777,  0.2215353 , -0.09700628, -0.0476328 , -0.25261956,\n",
       "         -0.1323386 , -0.2232513 ,  0.12466183, -0.23823394,  0.04587066],\n",
       "        [ 0.06192917, -0.15258442,  0.11087093,  0.2664921 ,  0.26681057,\n",
       "         -0.13451934, -0.08683698,  0.20963642, -0.26639032, -0.03570952],\n",
       "        [ 0.08292148, -0.15203798, -0.16051732, -0.24773264,  0.03539538,\n",
       "          0.10780811, -0.22337723, -0.26427037,  0.2712632 , -0.18402758],\n",
       "        [ 0.15359238,  0.18820038, -0.08864622, -0.11825339,  0.15206209,\n",
       "          0.10147032,  0.23260596,  0.0599927 , -0.08311088,  0.21011925],\n",
       "        [ 0.22481373,  0.23629102, -0.20179245,  0.28195426,  0.08486867,\n",
       "          0.04162848,  0.00896516, -0.10692053,  0.10168099, -0.24792266],\n",
       "        [-0.04366177, -0.27092987, -0.10923691, -0.24073423,  0.18645182,\n",
       "         -0.23568559,  0.09856969,  0.14647332, -0.16758329, -0.2320534 ],\n",
       "        [ 0.2733027 ,  0.11474705,  0.01917186,  0.13157111,  0.11360243,\n",
       "          0.14686298, -0.15118536,  0.1306881 , -0.07520649,  0.03236762],\n",
       "        [-0.1486552 , -0.01812488,  0.14444736,  0.23859838, -0.11868156,\n",
       "          0.22448942, -0.26992333,  0.0167259 , -0.01136097, -0.15518409],\n",
       "        [-0.01537421, -0.12198457,  0.07538173, -0.0612984 ,  0.13758567,\n",
       "          0.09966645,  0.00929645, -0.23240933,  0.08734018, -0.03868428],\n",
       "        [ 0.22419122,  0.25955632,  0.20499343,  0.0369271 , -0.18648258,\n",
       "         -0.08464457,  0.27041343,  0.08982843, -0.13009726,  0.10717064],\n",
       "        [-0.01978281, -0.04521812,  0.13013011,  0.1986599 ,  0.24457338,\n",
       "         -0.02342254,  0.2582648 ,  0.1861198 ,  0.14556122,  0.09385106],\n",
       "        [-0.06961447, -0.07043234, -0.06895839, -0.12822786, -0.00480601,\n",
       "         -0.14680882,  0.15876788, -0.21867551, -0.11956079,  0.09581169],\n",
       "        [ 0.12042278, -0.05442747,  0.19698685,  0.26853785, -0.15261428,\n",
       "          0.06629238,  0.1521278 , -0.22574235,  0.12911788, -0.24291524],\n",
       "        [ 0.11766928,  0.1802065 ,  0.15874067, -0.28393346, -0.2706974 ,\n",
       "         -0.25644022,  0.27844796, -0.22169141, -0.00600499,  0.00722393],\n",
       "        [ 0.2184631 , -0.08035506,  0.00784439, -0.07098271, -0.17325494,\n",
       "          0.20927164,  0.25095078,  0.20402518, -0.17704587, -0.12993859],\n",
       "        [-0.04340895,  0.09886569, -0.02457964,  0.19191656, -0.16850787,\n",
       "          0.11578962,  0.10506314, -0.14050281,  0.08637682,  0.04484093],\n",
       "        [-0.04415892,  0.18054107,  0.08601314, -0.26853243, -0.08054441,\n",
       "         -0.25789768, -0.06549266,  0.09753793, -0.27237624,  0.26767418],\n",
       "        [-0.2785614 , -0.22358152,  0.03664443, -0.15089886, -0.08005255,\n",
       "          0.12237725, -0.05776198, -0.01041296,  0.02161324,  0.08882347],\n",
       "        [ 0.27731606,  0.15317404, -0.08438537,  0.25342962,  0.1285601 ,\n",
       "         -0.13653769, -0.04965596, -0.26298228, -0.01000917,  0.16317356],\n",
       "        [-0.17090163, -0.21139514,  0.09927186, -0.02857646, -0.07003342,\n",
       "          0.20339626,  0.02720776, -0.14490134,  0.21678677,  0.07675782],\n",
       "        [-0.05083825,  0.08255264, -0.20466945, -0.24584003,  0.04250392,\n",
       "          0.02882537,  0.11545166,  0.20415601,  0.2189506 , -0.25299546],\n",
       "        [-0.20216584, -0.06512219,  0.28135756,  0.14018583, -0.11055498,\n",
       "          0.18369973,  0.13991883,  0.27416977,  0.13528907, -0.12187928],\n",
       "        [-0.1182411 ,  0.14652056,  0.14727345, -0.2827587 ,  0.22416237,\n",
       "         -0.08287816, -0.2154414 ,  0.10320869, -0.21944259, -0.17147449],\n",
       "        [-0.1670883 ,  0.19442526,  0.14268437,  0.15372658,  0.14405584,\n",
       "         -0.25194237,  0.16656631,  0.00959069,  0.01848632,  0.04152462],\n",
       "        [-0.18525562,  0.00237015, -0.10686147, -0.03623559,  0.26467088,\n",
       "         -0.18405065, -0.12013337, -0.23344417,  0.09735373, -0.07046036],\n",
       "        [ 0.2657489 , -0.17724743,  0.09650296, -0.2093265 , -0.18244882,\n",
       "         -0.17441836, -0.06233343,  0.15485016,  0.21685031, -0.06247546],\n",
       "        [-0.19519934,  0.19084162, -0.19897641,  0.24216816, -0.14514364,\n",
       "          0.24680373, -0.00731274,  0.00617057, -0.02072626,  0.20401162],\n",
       "        [ 0.2155303 ,  0.0606679 , -0.2122397 , -0.14941148,  0.03322062,\n",
       "         -0.00527954, -0.07103857, -0.15314247,  0.23281422,  0.16274884],\n",
       "        [-0.14985962, -0.02185714, -0.15360378, -0.05582701, -0.2432354 ,\n",
       "          0.2608525 , -0.1467078 , -0.03726642,  0.2676005 ,  0.10623384],\n",
       "        [ 0.154942  , -0.15813781, -0.0737316 ,  0.09078786,  0.18645027,\n",
       "         -0.27238262,  0.05650923,  0.24345323,  0.00299922,  0.21233541],\n",
       "        [ 0.21696904,  0.1525453 , -0.02998489, -0.00298196,  0.17055166,\n",
       "          0.07661656, -0.17806888,  0.02424711, -0.06924427,  0.12104818],\n",
       "        [ 0.25302717, -0.00875014, -0.20402709,  0.08928397,  0.27246085,\n",
       "          0.03037566, -0.00068372, -0.2788498 , -0.23322067,  0.28470132],\n",
       "        [-0.14627454,  0.27134946,  0.07855079, -0.1307407 , -0.22287914,\n",
       "         -0.15307859, -0.10451414, -0.10711734,  0.04089543, -0.15814045],\n",
       "        [-0.00519568,  0.14359698, -0.23137626, -0.12416659, -0.19849834,\n",
       "         -0.19793439, -0.13670014,  0.23087683, -0.04440278, -0.09822197]],\n",
       "       dtype=float32)>,\n",
       " <tf.Variable 'dense_3/bias:0' shape=(10,) dtype=float32, numpy=array([0., 0., 0., 0., 0., 0., 0., 0., 0., 0.], dtype=float32)>]"
      ]
     },
     "execution_count": 5,
     "metadata": {},
     "output_type": "execute_result"
    }
   ],
   "source": [
    "model.weights"
   ]
  },
  {
   "cell_type": "code",
   "execution_count": 6,
   "id": "237bacbd",
   "metadata": {},
   "outputs": [
    {
     "name": "stdout",
     "output_type": "stream",
     "text": [
      "Model: \"sequential_1\"\n",
      "_________________________________________________________________\n",
      "Layer (type)                 Output Shape              Param #   \n",
      "=================================================================\n",
      "dense_2 (Dense)              (None, 64)                256       \n",
      "_________________________________________________________________\n",
      "dense_3 (Dense)              (None, 10)                650       \n",
      "=================================================================\n",
      "Total params: 906\n",
      "Trainable params: 906\n",
      "Non-trainable params: 0\n",
      "_________________________________________________________________\n"
     ]
    }
   ],
   "source": [
    "model.summary()"
   ]
  },
  {
   "cell_type": "code",
   "execution_count": 7,
   "id": "c948e728",
   "metadata": {},
   "outputs": [],
   "source": [
    "model = keras.Sequential()\n",
    "model.add(keras.Input(shape=(3,)))\n",
    "model.add(layers.Dense(64, activation=\"relu\"))"
   ]
  },
  {
   "cell_type": "markdown",
   "id": "ae084cc6",
   "metadata": {},
   "source": [
    "# Function API"
   ]
  },
  {
   "cell_type": "code",
   "execution_count": 9,
   "id": "f4e871c9",
   "metadata": {},
   "outputs": [],
   "source": [
    "inputs = keras.Input(shape=(3,), name='my_input')\n",
    "features = layers.Dense(64, activation=\"relu\")(inputs)\n",
    "outputs = layers.Dense(10, activation=\"softmax\")(features)\n",
    "\n",
    "model = keras.Model(inputs=inputs, outputs=outputs)"
   ]
  },
  {
   "cell_type": "code",
   "execution_count": 10,
   "id": "000496bd",
   "metadata": {},
   "outputs": [
    {
     "data": {
      "text/plain": [
       "TensorShape([None, 3])"
      ]
     },
     "execution_count": 10,
     "metadata": {},
     "output_type": "execute_result"
    }
   ],
   "source": [
    "inputs.shape"
   ]
  },
  {
   "cell_type": "code",
   "execution_count": 11,
   "id": "43a24cd4",
   "metadata": {},
   "outputs": [
    {
     "data": {
      "text/plain": [
       "tf.float32"
      ]
     },
     "execution_count": 11,
     "metadata": {},
     "output_type": "execute_result"
    }
   ],
   "source": [
    "inputs.dtype"
   ]
  },
  {
   "cell_type": "code",
   "execution_count": 12,
   "id": "8cd571e0",
   "metadata": {},
   "outputs": [
    {
     "data": {
      "text/plain": [
       "TensorShape([None, 64])"
      ]
     },
     "execution_count": 12,
     "metadata": {},
     "output_type": "execute_result"
    }
   ],
   "source": [
    "features.shape"
   ]
  },
  {
   "cell_type": "code",
   "execution_count": 13,
   "id": "f0ea0ca1",
   "metadata": {},
   "outputs": [
    {
     "data": {
      "text/plain": [
       "tf.float32"
      ]
     },
     "execution_count": 13,
     "metadata": {},
     "output_type": "execute_result"
    }
   ],
   "source": [
    "features.dtype"
   ]
  },
  {
   "cell_type": "markdown",
   "id": "a7c49c4d",
   "metadata": {},
   "source": [
    "## Multi Input & Output"
   ]
  },
  {
   "cell_type": "code",
   "execution_count": 14,
   "id": "acad3415",
   "metadata": {},
   "outputs": [],
   "source": [
    "vocabulary_size = 10000\n",
    "num_tags = 100\n",
    "num_departments = 4"
   ]
  },
  {
   "cell_type": "code",
   "execution_count": 21,
   "id": "503a6cdf",
   "metadata": {},
   "outputs": [],
   "source": [
    "title = keras.Input(shape=(vocabulary_size,), name=\"title\")\n",
    "text_body = keras.Input(shape=(vocabulary_size,), name=\"text_body\")\n",
    "tags = keras.Input(shape=(num_tags,), name=\"tags\")\n",
    "\n",
    "features = layers.Concatenate()([title, text_body, tags])\n",
    "features = layers.Dense(64, activation=\"relu\")(features)\n",
    "\n",
    "priority = layers.Dense(1, activation=\"sigmoid\", name=\"priority\")(features)\n",
    "departments = layers.Dense(num_departments, activation=\"softmax\", name=\"department\")(features)\n",
    "\n",
    "model = keras.Model(inputs=[title, text_body, tags],\n",
    "                   outputs=[priority, departments])"
   ]
  },
  {
   "cell_type": "code",
   "execution_count": 22,
   "id": "edfc7e73",
   "metadata": {},
   "outputs": [
    {
     "name": "stdout",
     "output_type": "stream",
     "text": [
      "40/40 [==============================] - 2s 5ms/step - loss: 32.1736 - priority_loss: 0.3317 - department_loss: 31.8419 - priority_mean_squared_error: 0.3317 - department_accuracy: 0.2430\n",
      "40/40 [==============================] - 0s 4ms/step - loss: 40.1710 - priority_loss: 0.3357 - department_loss: 39.8353 - priority_mean_squared_error: 0.3357 - department_accuracy: 0.1187\n"
     ]
    }
   ],
   "source": [
    "import numpy as np\n",
    "\n",
    "num_samples = 1280\n",
    "\n",
    "title_data = np.random.randint(0, 2, size=(num_samples, vocabulary_size))\n",
    "text_body_data = np.random.randint(0, 2, size=(num_samples, vocabulary_size))\n",
    "tags_data = np.random.randint(0,2, size=(num_samples, num_tags))\n",
    "\n",
    "priority_data = np.random.random(size=(num_samples, 1))\n",
    "department_data = np.random.randint(0, 2, size=(num_samples, num_departments))\n",
    "\n",
    "model.compile(optimizer='rmsprop',\n",
    "             loss=[\"mean_squared_error\", \"categorical_crossentropy\"],\n",
    "             metrics=[[\"mean_squared_error\"], [\"accuracy\"]])\n",
    "\n",
    "model.fit([title_data, text_body_data, tags_data],\n",
    "         [priority_data, department_data],\n",
    "         epochs=1)\n",
    "\n",
    "model.evaluate([title_data, text_body_data, tags_data],\n",
    "         [priority_data, department_data])\n",
    "\n",
    "priority_preds, department_preds = model.predict([title_data, text_body_data, tags_data])"
   ]
  },
  {
   "cell_type": "code",
   "execution_count": 23,
   "id": "573a84bd",
   "metadata": {},
   "outputs": [
    {
     "data": {
      "image/png": "[encoded data removed]",
      "text/plain": [
       "<IPython.core.display.Image object>"
      ]
     },
     "execution_count": 23,
     "metadata": {},
     "output_type": "execute_result"
    }
   ],
   "source": [
    "keras.utils.plot_model(model, \"ticket_classifier.png\")"
   ]
  },
  {
   "cell_type": "markdown",
   "id": "b6f0bace",
   "metadata": {},
   "source": [
    "# Subclassing"
   ]
  },
  {
   "cell_type": "code",
   "execution_count": 24,
   "id": "0d93e99b",
   "metadata": {},
   "outputs": [],
   "source": [
    "class CustomerTicketModel(keras.Model):\n",
    "    def __init__(self, num_departments):\n",
    "        super().__init__()\n",
    "        self.concat_layer = layers.Concatenate()\n",
    "        self.mixing_layer = layers.Dense(64, activation=\"relu\")\n",
    "        self.priority_scorer = layers.Dense(1, activation=\"sigmoid\")\n",
    "        self.department_classifier = layers.Dense(num_departments, activation=\"softmax\")\n",
    "        \n",
    "    def call(self, inputs):\n",
    "        title = inputs[\"title\"]\n",
    "        text_body = inputs[\"text_body\"]\n",
    "        tags = inputs[\"tags\"]\n",
    "        features = self.concat_layer([title, text_body, tags])\n",
    "        features = self.mixing_layer(features)\n",
    "        priority = self.priority_scorer(features)\n",
    "        department = self.department_classifier(features)\n",
    "        return priority, department\n",
    "    \n",
    "model = CustomerTicketModel(num_departments=4)"
   ]
  },
  {
   "cell_type": "code",
   "execution_count": 25,
   "id": "b2b9b5e8",
   "metadata": {},
   "outputs": [
    {
     "name": "stdout",
     "output_type": "stream",
     "text": [
      "40/40 [==============================] - 1s 5ms/step - loss: 38.5603 - output_1_loss: 0.3314 - output_2_loss: 38.2290 - output_1_mean_squared_error: 0.3314 - output_2_accuracy: 0.2586\n",
      "40/40 [==============================] - 0s 4ms/step - loss: 22.7827 - output_1_loss: 0.3357 - output_2_loss: 22.4470 - output_1_mean_squared_error: 0.3357 - output_2_accuracy: 0.5797\n"
     ]
    }
   ],
   "source": [
    "model.compile(optimizer='rmsprop',\n",
    "             loss=[\"mean_squared_error\", \"categorical_crossentropy\"],\n",
    "             metrics=[[\"mean_squared_error\"], [\"accuracy\"]])\n",
    "\n",
    "model.fit({\"title\":title_data, \"text_body\": text_body_data, \"tags\": tags_data},\n",
    "         [priority_data, department_data],\n",
    "         epochs=1)\n",
    "\n",
    "model.evaluate({\"title\":title_data, \"text_body\": text_body_data, \"tags\": tags_data},\n",
    "         [priority_data, department_data])\n",
    "\n",
    "priority_preds, department_preds = model.predict({\"title\":title_data, \"text_body\": text_body_data, \"tags\": tags_data})"
   ]
  }
 ],
 "metadata": {
  "kernelspec": {
   "display_name": "Python 3 (ipykernel)",
   "language": "python",
   "name": "python3"
  },
  "language_info": {
   "codemirror_mode": {
    "name": "ipython",
    "version": 3
   },
   "file_extension": ".py",
   "mimetype": "text/x-python",
   "name": "python",
   "nbconvert_exporter": "python",
   "pygments_lexer": "ipython3",
   "version": "3.9.7"
  }
 },
 "nbformat": 4,
 "nbformat_minor": 5
}
