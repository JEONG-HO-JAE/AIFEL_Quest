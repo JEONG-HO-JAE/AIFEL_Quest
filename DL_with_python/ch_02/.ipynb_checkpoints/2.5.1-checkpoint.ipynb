{
 "cells": [
  {
   "cell_type": "code",
   "execution_count": 1,
   "id": "829be183",
   "metadata": {},
   "outputs": [],
   "source": [
    "import tensorflow as tf"
   ]
  },
  {
   "cell_type": "markdown",
   "id": "9a681a5a",
   "metadata": {},
   "source": [
    "# Dense Class"
   ]
  },
  {
   "cell_type": "code",
   "execution_count": 2,
   "id": "3b3186ff",
   "metadata": {},
   "outputs": [],
   "source": [
    "class NaiveDense:\n",
    "    def __init__(self, input_size, output_size, activation):\n",
    "        self.activation = activation\n",
    "        \n",
    "        w_shape = (input_size, output_size)\n",
    "        w_initial_value = tf.random.uniform(w_shape, minval=0, maxval=1e-1)\n",
    "        self.W = tf.Variable(w_initial_value)\n",
    "        \n",
    "        b_shape = (output_size, )\n",
    "        b_initial_value = tf.zeros(b_shape)\n",
    "        self.b = tf.Variable(b_initial_value)\n",
    "        \n",
    "    def __call__(self, inputs):\n",
    "        return self.activation(tf.matmul(inputs, self.W) + self.b)\n",
    "    \n",
    "    @property\n",
    "    def weights(self):\n",
    "        return[self.W, self.b]"
   ]
  },
  {
   "cell_type": "markdown",
   "id": "4a0dd928",
   "metadata": {},
   "source": [
    "# Sequential Class"
   ]
  },
  {
   "cell_type": "code",
   "execution_count": 3,
   "id": "87b4aa8d",
   "metadata": {},
   "outputs": [],
   "source": [
    "class NaiveSequential:\n",
    "    def __init__(self, layers):\n",
    "        self.layers = layers\n",
    "\n",
    "    def __call__(self, inputs):\n",
    "        x = inputs\n",
    "        for layer in self.layers:\n",
    "            x = layer(x)\n",
    "        return x\n",
    "\n",
    "    @property\n",
    "    def weights(self):\n",
    "        weights = []\n",
    "        for layer in self.layers:\n",
    "            weights += layer.weights\n",
    "        return weights\n"
   ]
  },
  {
   "cell_type": "code",
   "execution_count": 4,
   "id": "1644d917",
   "metadata": {},
   "outputs": [],
   "source": [
    "model = NaiveSequential([\n",
    "    NaiveDense(input_size=28*28, output_size=512, activation=tf.nn.relu),\n",
    "    NaiveDense(input_size=512, output_size=10, activation=tf.nn.softmax)\n",
    "])\n",
    "assert len(model.weights) == 4"
   ]
  },
  {
   "cell_type": "markdown",
   "id": "5a920390",
   "metadata": {},
   "source": [
    "# Batch Generator"
   ]
  },
  {
   "cell_type": "code",
   "execution_count": 5,
   "id": "45c8d3a1",
   "metadata": {},
   "outputs": [],
   "source": [
    "import math\n",
    "\n",
    "class BatchGenerator:\n",
    "    def __init__(self, images, labels, batch_size=128):\n",
    "        assert len(images) == len(labels)\n",
    "        self.index = 0\n",
    "        self.images = images\n",
    "        self.labels = labels\n",
    "        self.batch_size = batch_size\n",
    "        self.num_batches = math.ceil(len(images) / batch_size)\n",
    "        \n",
    "    def next(self):\n",
    "        images = self.images[self.index : self.index + self.batch_size]\n",
    "        labels = self.labels[self.index : self.index + self.batch_size]\n",
    "        self.index += self.batch_size\n",
    "        return images, labels"
   ]
  },
  {
   "cell_type": "markdown",
   "id": "14b7b719",
   "metadata": {},
   "source": [
    "# Training Step"
   ]
  },
  {
   "cell_type": "code",
   "execution_count": 14,
   "id": "ffaa18cf",
   "metadata": {},
   "outputs": [],
   "source": [
    "from tensorflow.keras import optimizers\n",
    "\n",
    "LEARNING_RATE = 1e-3\n",
    "\n",
    "optimizer = optimizers.SGD(learning_rate=LEARNING_RATE)\n",
    "\n",
    "def update_weights(gradients, weights):\n",
    "    optimizer.apply_gradients(zip(gradients, weights))\n",
    "\n",
    "def one_training_step(model, images_batch, labels_batch):\n",
    "    with tf.GradientTape() as tape:\n",
    "        predictions = model(images_batch)\n",
    "        per_sample_losses = tf.keras.losses.sparse_categorical_crossentropy(\n",
    "            labels_batch, predictions)\n",
    "        average_loss = tf.reduce_mean(per_sample_losses)\n",
    "    gradients = tape.gradient(average_loss, model.weights)\n",
    "    update_weights(gradients, model.weights)\n",
    "    return average_loss"
   ]
  },
  {
   "cell_type": "code",
   "execution_count": 7,
   "id": "a29c0812",
   "metadata": {},
   "outputs": [],
   "source": [
    "def fit(model, images, labels, epochs, batch_size=128):\n",
    "    for epoch_counter in range(epochs):\n",
    "        print(f\"epoch {epoch_counter}\")\n",
    "        batch_generator = BatchGenerator(images, labels)\n",
    "        for batch_counter in range (batch_generator.num_batches):\n",
    "            image_batch, labels_batch = batch_generator.next()\n",
    "            loss = one_training_step(model, image_batch, labels_batch)\n",
    "            if batch_counter % 100 == 0:\n",
    "                print(f\"{batch_counter} batch loss: {loss:.2f}\")"
   ]
  },
  {
   "cell_type": "code",
   "execution_count": 15,
   "id": "334890f8",
   "metadata": {},
   "outputs": [
    {
     "name": "stdout",
     "output_type": "stream",
     "text": [
      "epoch 0\n",
      "0 batch loss: 3.96\n",
      "100 batch loss: 2.26\n",
      "200 batch loss: 2.21\n",
      "300 batch loss: 2.11\n",
      "400 batch loss: 2.25\n",
      "epoch 1\n",
      "0 batch loss: 1.92\n",
      "100 batch loss: 1.88\n",
      "200 batch loss: 1.81\n",
      "300 batch loss: 1.74\n",
      "400 batch loss: 1.85\n",
      "epoch 2\n",
      "0 batch loss: 1.59\n",
      "100 batch loss: 1.57\n",
      "200 batch loss: 1.48\n",
      "300 batch loss: 1.43\n",
      "400 batch loss: 1.52\n",
      "epoch 3\n",
      "0 batch loss: 1.32\n",
      "100 batch loss: 1.32\n",
      "200 batch loss: 1.21\n",
      "300 batch loss: 1.21\n",
      "400 batch loss: 1.28\n",
      "epoch 4\n",
      "0 batch loss: 1.12\n",
      "100 batch loss: 1.14\n",
      "200 batch loss: 1.02\n",
      "300 batch loss: 1.04\n",
      "400 batch loss: 1.11\n",
      "epoch 5\n",
      "0 batch loss: 0.97\n",
      "100 batch loss: 1.00\n",
      "200 batch loss: 0.88\n",
      "300 batch loss: 0.92\n",
      "400 batch loss: 0.98\n",
      "epoch 6\n",
      "0 batch loss: 0.87\n",
      "100 batch loss: 0.89\n",
      "200 batch loss: 0.78\n",
      "300 batch loss: 0.83\n",
      "400 batch loss: 0.89\n",
      "epoch 7\n",
      "0 batch loss: 0.78\n",
      "100 batch loss: 0.81\n",
      "200 batch loss: 0.71\n",
      "300 batch loss: 0.76\n",
      "400 batch loss: 0.83\n",
      "epoch 8\n",
      "0 batch loss: 0.72\n",
      "100 batch loss: 0.74\n",
      "200 batch loss: 0.65\n",
      "300 batch loss: 0.71\n",
      "400 batch loss: 0.77\n",
      "epoch 9\n",
      "0 batch loss: 0.67\n",
      "100 batch loss: 0.69\n",
      "200 batch loss: 0.60\n",
      "300 batch loss: 0.67\n",
      "400 batch loss: 0.73\n"
     ]
    }
   ],
   "source": [
    "from tensorflow.keras.datasets import mnist\n",
    "(train_images, train_labels), (test_images, test_labels) = mnist.load_data()\n",
    "\n",
    "train_images = train_images.reshape((60000, 28*28))\n",
    "train_images = train_images.astype(\"float32\") / 255\n",
    "test_images = test_images.reshape((10000, 28*28))\n",
    "test_images = test_images.astype(\"float32\") / 255\n",
    "\n",
    "fit(model, train_images, train_labels, epochs=10)"
   ]
  }
 ],
 "metadata": {
  "kernelspec": {
   "display_name": "Python 3 (ipykernel)",
   "language": "python",
   "name": "python3"
  },
  "language_info": {
   "codemirror_mode": {
    "name": "ipython",
    "version": 3
   },
   "file_extension": ".py",
   "mimetype": "text/x-python",
   "name": "python",
   "nbconvert_exporter": "python",
   "pygments_lexer": "ipython3",
   "version": "3.9.7"
  }
 },
 "nbformat": 4,
 "nbformat_minor": 5
}
