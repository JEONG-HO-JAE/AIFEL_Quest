{
 "cells": [
  {
   "cell_type": "code",
   "execution_count": 1,
   "id": "28e082e8",
   "metadata": {},
   "outputs": [],
   "source": [
    "import pandas as pd\n",
    "import konlpy\n",
    "import gensim\n",
    "import tensorflow as tf\n",
    "\n",
    "from konlpy.tag import Mecab\n",
    "import numpy as np\n",
    "from collections import Counter"
   ]
  },
  {
   "cell_type": "markdown",
   "id": "850ab69e",
   "metadata": {},
   "source": [
    "# 1. Upload Data"
   ]
  },
  {
   "cell_type": "code",
   "execution_count": 2,
   "id": "ce774c56",
   "metadata": {},
   "outputs": [
    {
     "data": {
      "text/html": [
       "<div>\n",
       "<style scoped>\n",
       "    .dataframe tbody tr th:only-of-type {\n",
       "        vertical-align: middle;\n",
       "    }\n",
       "\n",
       "    .dataframe tbody tr th {\n",
       "        vertical-align: top;\n",
       "    }\n",
       "\n",
       "    .dataframe thead th {\n",
       "        text-align: right;\n",
       "    }\n",
       "</style>\n",
       "<table border=\"1\" class=\"dataframe\">\n",
       "  <thead>\n",
       "    <tr style=\"text-align: right;\">\n",
       "      <th></th>\n",
       "      <th>id</th>\n",
       "      <th>document</th>\n",
       "      <th>label</th>\n",
       "    </tr>\n",
       "  </thead>\n",
       "  <tbody>\n",
       "    <tr>\n",
       "      <th>0</th>\n",
       "      <td>9976970</td>\n",
       "      <td>아 더빙.. 진짜 짜증나네요 목소리</td>\n",
       "      <td>0</td>\n",
       "    </tr>\n",
       "    <tr>\n",
       "      <th>1</th>\n",
       "      <td>3819312</td>\n",
       "      <td>흠...포스터보고 초딩영화줄....오버연기조차 가볍지 않구나</td>\n",
       "      <td>1</td>\n",
       "    </tr>\n",
       "    <tr>\n",
       "      <th>2</th>\n",
       "      <td>10265843</td>\n",
       "      <td>너무재밓었다그래서보는것을추천한다</td>\n",
       "      <td>0</td>\n",
       "    </tr>\n",
       "    <tr>\n",
       "      <th>3</th>\n",
       "      <td>9045019</td>\n",
       "      <td>교도소 이야기구먼 ..솔직히 재미는 없다..평점 조정</td>\n",
       "      <td>0</td>\n",
       "    </tr>\n",
       "    <tr>\n",
       "      <th>4</th>\n",
       "      <td>6483659</td>\n",
       "      <td>사이몬페그의 익살스런 연기가 돋보였던 영화!스파이더맨에서 늙어보이기만 했던 커스틴 ...</td>\n",
       "      <td>1</td>\n",
       "    </tr>\n",
       "  </tbody>\n",
       "</table>\n",
       "</div>"
      ],
      "text/plain": [
       "         id                                           document  label\n",
       "0   9976970                                아 더빙.. 진짜 짜증나네요 목소리      0\n",
       "1   3819312                  흠...포스터보고 초딩영화줄....오버연기조차 가볍지 않구나      1\n",
       "2  10265843                                  너무재밓었다그래서보는것을추천한다      0\n",
       "3   9045019                      교도소 이야기구먼 ..솔직히 재미는 없다..평점 조정      0\n",
       "4   6483659  사이몬페그의 익살스런 연기가 돋보였던 영화!스파이더맨에서 늙어보이기만 했던 커스틴 ...      1"
      ]
     },
     "execution_count": 2,
     "metadata": {},
     "output_type": "execute_result"
    }
   ],
   "source": [
    "train_data = pd.read_table('sentiment_classification/data/ratings_train.txt')\n",
    "test_data = pd.read_table('sentiment_classification/data/ratings_test.txt')\n",
    "\n",
    "train_data.head()"
   ]
  },
  {
   "cell_type": "markdown",
   "id": "7de5f396",
   "metadata": {},
   "source": [
    "# 2. Define load_data( ) & Encoding, Decoding functions\n",
    "- [ ] 데이터의 중복 제거\n",
    "- [ ] NaN 결측치 제거\n",
    "- [ ] 한국어 토크나이저로 토큰화\n",
    "- [ ] 불용어(Stopwords) 제거\n",
    "- [ ] 사전word_to_index 구성\n",
    "- [ ] 텍스트 스트링을 사전 인덱스 스트링으로 변환\n",
    "- [ ] X_train, y_train, X_test, y_test, word_to_index 리턴"
   ]
  },
  {
   "cell_type": "markdown",
   "id": "f0c964e5",
   "metadata": {},
   "source": [
    "tokenizer = Mecab()\n",
    "stopwords = ['의','가','이','은','들','는','좀','잘','걍','과','도','를','으로','자','에','와','한','하다']\n",
    "\n",
    "def load_data(train_data, test_data, num_words=10000):\n",
    "    #Remove duplicated rows\n",
    "    train_data.drop_duplicates(subset=['document'], inplace=True)\n",
    "    test_data.drop_duplicates(subset=['document'], inplace=True)\n",
    "    \n",
    "    #Remove NaN - missing value\n",
    "    train_data = train_data.dropna(how = 'any') \n",
    "    test_data = test_data.dropna(how = 'any')\n",
    "    \n",
    "    #Return Value\n",
    "    X_train = []\n",
    "    X_test = []\n",
    "    \n",
    "    #Tokenizer & Remove Stopwords\n",
    "    for train_sentence in train_data['document']:\n",
    "        temp_train = tokenizer.morphs(train_sentence)\n",
    "        temp_train = [word for word in temp_train if word not in stopwords]\n",
    "        X_train.append(temp_train)\n",
    "\n",
    "    for test_sentence in test_data['document']:\n",
    "        temp_test = tokenizer.morphs(test_sentence)\n",
    "        temp_test = [word for word in temp_test if word not in stopwords]\n",
    "        X_test.append(temp_test)\n",
    "    \n",
    "    # Create word_to_index as a dictionary\n",
    "    word_to_index = {}\n",
    "    \n",
    "    words = set()\n",
    "    for sentence in X_train:\n",
    "        for word in sentence:\n",
    "            words.add(word)\n",
    "    \n",
    "    for sentence in X_test:\n",
    "        for word in sentence:\n",
    "            words.add(word)\n",
    "    \n",
    "    for word in words:\n",
    "        if word not in word_to_index:\n",
    "            word_to_index[word] = len(word_to_index)\n",
    "\n",
    "    X_train_indices = []\n",
    "    X_test_indices = []\n",
    "    \n",
    "    for sentence in X_train:\n",
    "        X_train_indices.append([word_to_index.get(word) for word in sentence])\n",
    "    \n",
    "    for sentence in X_test:\n",
    "        X_test_indices.append([word_to_index.get(word) for word in sentence])\n",
    "    \n",
    "    y_train = np.array(list(train_data['label']))\n",
    "    y_test = np.array(list(test_data['label']))\n",
    "    \n",
    "    return X_train_indices, y_train, X_test_indices, y_test, word_to_index\n",
    "\n",
    "X_train, y_train, X_test, y_test, word_to_index = load_data(train_data, test_data)"
   ]
  },
  {
   "cell_type": "code",
   "execution_count": 79,
   "id": "430d2362",
   "metadata": {},
   "outputs": [],
   "source": [
    "tokenizer = Mecab()\n",
    "stopwords = ['의','가','이','은','들','는','좀','잘','걍','과','도','를','으로','자','에','와','한','하다']\n",
    "\n",
    "\n",
    "def load_data(train_data, test_data, num_words=10000):\n",
    "    train_data.drop_duplicates(subset=['document'], inplace=True)\n",
    "    train_data = train_data.dropna(how = 'any') \n",
    "    test_data.drop_duplicates(subset=['document'], inplace=True)\n",
    "    test_data = test_data.dropna(how = 'any') \n",
    "    \n",
    "    X_train = []\n",
    "    for sentence in train_data['document']:\n",
    "        temp_X = tokenizer.morphs(sentence) # 토큰화\n",
    "        temp_X = [word for word in temp_X if not word in stopwords] # 불용어 제거\n",
    "        X_train.append(temp_X)\n",
    "\n",
    "    X_test = []\n",
    "    for sentence in test_data['document']:\n",
    "        temp_X = tokenizer.morphs(sentence) # 토큰화\n",
    "        temp_X = [word for word in temp_X if not word in stopwords] # 불용어 제거\n",
    "        X_test.append(temp_X)\n",
    "    \n",
    "    words = np.concatenate(X_train).tolist()\n",
    "    counter = Counter(words)\n",
    "    counter = counter.most_common(10000-4)\n",
    "    vocab = ['', '', '', ''] + [key for key, _ in counter]\n",
    "    word_to_index = {word:index for index, word in enumerate(vocab)}\n",
    "    \n",
    "    word_to_index[\"<PAD>\"] = 0\n",
    "    word_to_index[\"<BOS>\"] = 1\n",
    "    word_to_index[\"<UNK>\"] = 2\n",
    "    word_to_index[\"<UNUSED>\"] = 3\n",
    "    \n",
    "    def wordlist_to_indexlist(wordlist):\n",
    "        return [word_to_index[word] if word in word_to_index else word_to_index[''] for word in wordlist]\n",
    "        \n",
    "    X_train = list(map(wordlist_to_indexlist, X_train))\n",
    "    X_test = list(map(wordlist_to_indexlist, X_test))\n",
    "        \n",
    "    return X_train, np.array(list(train_data['label'])), X_test, np.array(list(test_data['label'])), word_to_index\n",
    "    \n",
    "X_train, y_train, X_test, y_test, word_to_index = load_data(train_data, test_data)\n",
    "\n"
   ]
  },
  {
   "cell_type": "code",
   "execution_count": 80,
   "id": "d6ad5593",
   "metadata": {},
   "outputs": [
    {
     "name": "stdout",
     "output_type": "stream",
     "text": [
      "Shpae of list X_train 146182\n",
      "Shpae of list y_train 146182\n",
      "Shpae of list X_test 49157\n",
      "Shpae of list y_test 49157\n",
      "Shpae of list word_to_index 10001\n"
     ]
    }
   ],
   "source": [
    "print(\"Shpae of list X_train\",len(X_train))\n",
    "print(\"Shpae of list y_train\",len(y_train))\n",
    "print(\"Shpae of list X_test\",len(X_test))\n",
    "print(\"Shpae of list y_test\",len(y_test))\n",
    "print(\"Shpae of list word_to_index\",len(word_to_index))"
   ]
  },
  {
   "cell_type": "code",
   "execution_count": 81,
   "id": "e462724e",
   "metadata": {},
   "outputs": [
    {
     "name": "stdout",
     "output_type": "stream",
     "text": [
      "[32, 74, 919, 4, 4, 39, 228, 20, 33, 748]\n"
     ]
    }
   ],
   "source": [
    "print(X_train[0])"
   ]
  },
  {
   "cell_type": "code",
   "execution_count": 82,
   "id": "647ba84f",
   "metadata": {},
   "outputs": [],
   "source": [
    "# Function get_encoded_sentence\n",
    "# Input : One sentence, Word Dictionary\n",
    "# Return : Index list Vector\n",
    "def get_encoded_sentence(sentence, word_to_index):\n",
    "    return [word_to_index['<BOS>']]+[word_to_index[word] if word in word_to_index else word_to_index['<UNK>'] for word in sentence.split()]\n",
    "\n",
    "# Function get_encoded_sentences\n",
    "# Input : Multiple Sentences, Word Dictionary\n",
    "# Return : call get_encoded_sentence\n",
    "def get_encoded_sentences(sentences, word_to_index):\n",
    "    return [get_encoded_sentence(sentence, word_to_index) for sentence in sentences]\n",
    "\n",
    "# Function get_decoded_sentence\n",
    "# Input : encoded_sentence, Index Dictionary\n",
    "# Return : Decoded index vector to original sentence\n",
    "def get_decoded_sentence(encoded_sentence, bindex_to_word):\n",
    "    return ' '.join(index_to_word[index] if index in index_to_word else '<UNK>' for index in encoded_sentence[1:])  #[1:]를 통해 <BOS>를 제외\n",
    "\n",
    "# Function get_decoded_sentences\n",
    "# Input : encoded_sentences, Index Dictionary\n",
    "# Return : call get_deencoded_sentence\n",
    "def get_decoded_sentences(encoded_sentences, index_to_word):\n",
    "    return [get_decoded_sentence(encoded_sentence, index_to_word) for encoded_sentence in encoded_sentences]"
   ]
  },
  {
   "cell_type": "code",
   "execution_count": 83,
   "id": "4ba684f4",
   "metadata": {},
   "outputs": [],
   "source": [
    "index_to_word = {index:word for word, index in word_to_index.items()}"
   ]
  },
  {
   "cell_type": "markdown",
   "id": "2393baad",
   "metadata": {},
   "source": [
    "# 3. Preprocessing\n",
    "- [ ] Check the distribution of sentence lengths\n",
    "- [ ] Determine the maximum sentenc length\n",
    "- [ ] Add padding using keras.preprocessing.sequence.pad_sequences"
   ]
  },
  {
   "cell_type": "markdown",
   "id": "a5ddd9e3",
   "metadata": {},
   "source": [
    "## 3-1. Check the distribution of sentence lengths"
   ]
  },
  {
   "cell_type": "code",
   "execution_count": 84,
   "id": "68dfa54a",
   "metadata": {},
   "outputs": [
    {
     "name": "stdout",
     "output_type": "stream",
     "text": [
      "AVG sentence lengths :  15.96940191154864\n",
      "MAX sentence lengths:  116\n",
      "SD  sentence lengths:  12.843571191092\n"
     ]
    }
   ],
   "source": [
    "total_data = X_train + X_test\n",
    "num_tokens = [len(tokens) for tokens in total_data]\n",
    "num_tokens = np.array(num_tokens)\n",
    "\n",
    "print('AVG sentence lengths : ', np.mean(num_tokens))\n",
    "print('MAX sentence lengths: ', np.max(num_tokens))\n",
    "print('SD  sentence lengths: ', np.std(num_tokens))"
   ]
  },
  {
   "cell_type": "markdown",
   "id": "b6bf736c",
   "metadata": {},
   "source": [
    "## 3-2. Determine the maximum sentenc length"
   ]
  },
  {
   "cell_type": "code",
   "execution_count": 85,
   "id": "232e8cad",
   "metadata": {},
   "outputs": [
    {
     "name": "stdout",
     "output_type": "stream",
     "text": [
      "pad_sequences maxlen :  54\n",
      "0.9720946661956905%of the total sentences are included within the maxlen setting. \n"
     ]
    }
   ],
   "source": [
    "max_tokens = np.mean(num_tokens) + 3 * np.std(num_tokens)\n",
    "maxlen = int(np.mean(num_tokens) + 3 * np.std(num_tokens))\n",
    "print('pad_sequences maxlen : ', maxlen)\n",
    "print(f'{np.sum(num_tokens < max_tokens) / len(num_tokens)}%of the total sentences are included within the maxlen setting. ')"
   ]
  },
  {
   "cell_type": "markdown",
   "id": "55d442ff",
   "metadata": {},
   "source": [
    "## 3-3. Add padding using keras.preprocessing.sequence.pad_sequences"
   ]
  },
  {
   "cell_type": "code",
   "execution_count": 86,
   "id": "4bff3bed",
   "metadata": {},
   "outputs": [
    {
     "name": "stdout",
     "output_type": "stream",
     "text": [
      "(146182, 54)\n",
      "(49157, 54)\n"
     ]
    }
   ],
   "source": [
    "X_train = tf.keras.preprocessing.sequence.pad_sequences(X_train,\n",
    "                                                        value=word_to_index[\"<PAD>\"],\n",
    "                                                        padding='pre', \n",
    "                                                        maxlen=maxlen)\n",
    "\n",
    "X_test = tf.keras.preprocessing.sequence.pad_sequences(X_test,\n",
    "                                                       value=word_to_index[\"<PAD>\"],\n",
    "                                                       padding='pre', \n",
    "                                                       maxlen=maxlen)\n",
    "\n",
    "print(X_train.shape)\n",
    "print(X_test.shape)"
   ]
  },
  {
   "cell_type": "markdown",
   "id": "f731c25c",
   "metadata": {},
   "source": [
    "# 4. Set Model and Validation set"
   ]
  },
  {
   "cell_type": "markdown",
   "id": "67ccecd3",
   "metadata": {},
   "source": [
    "## 4-1. Set Model\n",
    "### First Model"
   ]
  },
  {
   "cell_type": "code",
   "execution_count": 89,
   "id": "4f1434aa",
   "metadata": {},
   "outputs": [
    {
     "name": "stdout",
     "output_type": "stream",
     "text": [
      "Model: \"sequential_11\"\n",
      "_________________________________________________________________\n",
      "Layer (type)                 Output Shape              Param #   \n",
      "=================================================================\n",
      "embedding_11 (Embedding)     (None, None, 16)          160000    \n",
      "_________________________________________________________________\n",
      "lstm_9 (LSTM)                (None, 128)               74240     \n",
      "_________________________________________________________________\n",
      "dense_19 (Dense)             (None, 64)                8256      \n",
      "_________________________________________________________________\n",
      "dropout_2 (Dropout)          (None, 64)                0         \n",
      "_________________________________________________________________\n",
      "dense_20 (Dense)             (None, 1)                 65        \n",
      "=================================================================\n",
      "Total params: 242,561\n",
      "Trainable params: 242,561\n",
      "Non-trainable params: 0\n",
      "_________________________________________________________________\n"
     ]
    }
   ],
   "source": [
    "vocab_size = 10000    \n",
    "word_vector_dim = 16  \n",
    "\n",
    "model_01 = tf.keras.Sequential()\n",
    "model_01.add(tf.keras.layers.Embedding(vocab_size, word_vector_dim, input_shape=(None,)))\n",
    "model_01.add(tf.keras.layers.LSTM(128, dropout=0.2))\n",
    "model_01.add(tf.keras.layers.Dense(64, activation='relu'))\n",
    "model_01.add(tf.keras.layers.Dropout(0.3))\n",
    "model_01.add(tf.keras.layers.Dense(1, activation='sigmoid')) \n",
    "\n",
    "model_01.summary()"
   ]
  },
  {
   "cell_type": "markdown",
   "id": "16c35d8f",
   "metadata": {},
   "source": [
    "### Second Model"
   ]
  },
  {
   "cell_type": "code",
   "execution_count": 90,
   "id": "d09b4f1b",
   "metadata": {},
   "outputs": [
    {
     "name": "stdout",
     "output_type": "stream",
     "text": [
      "Model: \"sequential_12\"\n",
      "_________________________________________________________________\n",
      "Layer (type)                 Output Shape              Param #   \n",
      "=================================================================\n",
      "embedding_12 (Embedding)     (None, None, 16)          160000    \n",
      "_________________________________________________________________\n",
      "conv1d_4 (Conv1D)            (None, None, 64)          7232      \n",
      "_________________________________________________________________\n",
      "max_pooling1d_2 (MaxPooling1 (None, None, 64)          0         \n",
      "_________________________________________________________________\n",
      "conv1d_5 (Conv1D)            (None, None, 32)          14368     \n",
      "_________________________________________________________________\n",
      "global_max_pooling1d_2 (Glob (None, 32)                0         \n",
      "_________________________________________________________________\n",
      "dense_21 (Dense)             (None, 8)                 264       \n",
      "_________________________________________________________________\n",
      "dense_22 (Dense)             (None, 1)                 9         \n",
      "=================================================================\n",
      "Total params: 181,873\n",
      "Trainable params: 181,873\n",
      "Non-trainable params: 0\n",
      "_________________________________________________________________\n"
     ]
    }
   ],
   "source": [
    "model_02 = tf.keras.Sequential()\n",
    "model_02.add(tf.keras.layers.Embedding(vocab_size, word_vector_dim, input_shape=(None,)))\n",
    "model_02.add(tf.keras.layers.Conv1D(64, 7, activation='relu'))\n",
    "model_02.add(tf.keras.layers.MaxPooling1D(5))\n",
    "model_02.add(tf.keras.layers.Conv1D(32, 7, activation='relu'))\n",
    "model_02.add(tf.keras.layers.GlobalMaxPooling1D())\n",
    "model_02.add(tf.keras.layers.Dense(8, activation='relu'))\n",
    "model_02.add(tf.keras.layers.Dense(1, activation='sigmoid'))\n",
    "\n",
    "model_02.summary()"
   ]
  },
  {
   "cell_type": "markdown",
   "id": "65162913",
   "metadata": {},
   "source": [
    "### Third Model"
   ]
  },
  {
   "cell_type": "code",
   "execution_count": 92,
   "id": "7cb0749d",
   "metadata": {},
   "outputs": [
    {
     "name": "stdout",
     "output_type": "stream",
     "text": [
      "Model: \"sequential_13\"\n",
      "_________________________________________________________________\n",
      "Layer (type)                 Output Shape              Param #   \n",
      "=================================================================\n",
      "embedding_13 (Embedding)     (None, None, 16)          160000    \n",
      "_________________________________________________________________\n",
      "bidirectional_2 (Bidirection (None, 256)               148480    \n",
      "_________________________________________________________________\n",
      "dense_23 (Dense)             (None, 64)                16448     \n",
      "_________________________________________________________________\n",
      "dense_24 (Dense)             (None, 1)                 65        \n",
      "=================================================================\n",
      "Total params: 324,993\n",
      "Trainable params: 324,993\n",
      "Non-trainable params: 0\n",
      "_________________________________________________________________\n"
     ]
    }
   ],
   "source": [
    "model_03 = tf.keras.Sequential()\n",
    "model_03.add(tf.keras.layers.Embedding(vocab_size, word_vector_dim, input_shape=(None,)))\n",
    "model_03.add(tf.keras.layers.Bidirectional(tf.keras.layers.LSTM(128, dropout=0.2)))# Bidirectional LSTM\n",
    "model_03.add(tf.keras.layers.Dense(64, activation='relu'))\n",
    "model_03.add(tf.keras.layers.Dense(1, activation='sigmoid'))\n",
    "\n",
    "# Print the summary of the new model\n",
    "model_03.summary()"
   ]
  },
  {
   "cell_type": "markdown",
   "id": "b0dfcd14",
   "metadata": {},
   "source": [
    "## 4-2. Validation Set"
   ]
  },
  {
   "cell_type": "code",
   "execution_count": 93,
   "id": "c37f260c",
   "metadata": {},
   "outputs": [
    {
     "name": "stdout",
     "output_type": "stream",
     "text": [
      "(106182, 54)\n",
      "(106182,)\n"
     ]
    }
   ],
   "source": [
    "##print(X_train.shape) (146182, 41)\n",
    "\n",
    "x_val = X_train[:40000]   \n",
    "y_val = y_train[:40000]\n",
    "\n",
    "partial_x_train = X_train[40000:]  \n",
    "partial_y_train = y_train[40000:]\n",
    "\n",
    "print(partial_x_train.shape)\n",
    "print(partial_y_train.shape)"
   ]
  },
  {
   "cell_type": "markdown",
   "id": "e6493274",
   "metadata": {},
   "source": [
    "# 5. Train Model"
   ]
  },
  {
   "cell_type": "code",
   "execution_count": 94,
   "id": "5c416d1e",
   "metadata": {},
   "outputs": [
    {
     "name": "stdout",
     "output_type": "stream",
     "text": [
      "Epoch 1/20\n",
      "208/208 [==============================] - 4s 14ms/step - loss: 0.4588 - accuracy: 0.7786 - val_loss: 0.3526 - val_accuracy: 0.8478\n",
      "Epoch 2/20\n",
      "208/208 [==============================] - 2s 12ms/step - loss: 0.3447 - accuracy: 0.8541 - val_loss: 0.3462 - val_accuracy: 0.8492\n",
      "Epoch 3/20\n",
      "208/208 [==============================] - 2s 12ms/step - loss: 0.3251 - accuracy: 0.8642 - val_loss: 0.3447 - val_accuracy: 0.8518\n",
      "Epoch 4/20\n",
      "208/208 [==============================] - 2s 12ms/step - loss: 0.3108 - accuracy: 0.8711 - val_loss: 0.3470 - val_accuracy: 0.8505\n",
      "Epoch 5/20\n",
      "208/208 [==============================] - 2s 12ms/step - loss: 0.2981 - accuracy: 0.8764 - val_loss: 0.3446 - val_accuracy: 0.8510\n",
      "Epoch 6/20\n",
      "208/208 [==============================] - 3s 12ms/step - loss: 0.2836 - accuracy: 0.8827 - val_loss: 0.3385 - val_accuracy: 0.8552\n",
      "Epoch 7/20\n",
      "208/208 [==============================] - 3s 12ms/step - loss: 0.2686 - accuracy: 0.8892 - val_loss: 0.3539 - val_accuracy: 0.8535\n",
      "Epoch 8/20\n",
      "208/208 [==============================] - 3s 12ms/step - loss: 0.2546 - accuracy: 0.8957 - val_loss: 0.3571 - val_accuracy: 0.8537\n",
      "Epoch 9/20\n",
      "208/208 [==============================] - 3s 12ms/step - loss: 0.2448 - accuracy: 0.9001 - val_loss: 0.3620 - val_accuracy: 0.8533\n",
      "Epoch 10/20\n",
      "208/208 [==============================] - 3s 12ms/step - loss: 0.2339 - accuracy: 0.9043 - val_loss: 0.3699 - val_accuracy: 0.8505\n",
      "Epoch 11/20\n",
      "208/208 [==============================] - 3s 12ms/step - loss: 0.2235 - accuracy: 0.9087 - val_loss: 0.3657 - val_accuracy: 0.8539\n",
      "Epoch 12/20\n",
      "208/208 [==============================] - 3s 12ms/step - loss: 0.2129 - accuracy: 0.9134 - val_loss: 0.3809 - val_accuracy: 0.8535\n",
      "Epoch 13/20\n",
      "208/208 [==============================] - 3s 12ms/step - loss: 0.2037 - accuracy: 0.9173 - val_loss: 0.3825 - val_accuracy: 0.8500\n",
      "Epoch 14/20\n",
      "208/208 [==============================] - 3s 12ms/step - loss: 0.1972 - accuracy: 0.9207 - val_loss: 0.4132 - val_accuracy: 0.8529\n",
      "Epoch 15/20\n",
      "208/208 [==============================] - 3s 12ms/step - loss: 0.1894 - accuracy: 0.9238 - val_loss: 0.3959 - val_accuracy: 0.8487\n",
      "Epoch 16/20\n",
      "208/208 [==============================] - 3s 12ms/step - loss: 0.1835 - accuracy: 0.9267 - val_loss: 0.4122 - val_accuracy: 0.8506\n",
      "Epoch 1/20\n",
      "208/208 [==============================] - 3s 9ms/step - loss: 0.6133 - accuracy: 0.6747 - val_loss: 0.5431 - val_accuracy: 0.7789\n",
      "Epoch 2/20\n",
      "208/208 [==============================] - 2s 7ms/step - loss: 0.5081 - accuracy: 0.8006 - val_loss: 0.5100 - val_accuracy: 0.7872\n",
      "Epoch 3/20\n",
      "208/208 [==============================] - 2s 8ms/step - loss: 0.4644 - accuracy: 0.8179 - val_loss: 0.4953 - val_accuracy: 0.7892\n",
      "Epoch 4/20\n",
      "208/208 [==============================] - 2s 7ms/step - loss: 0.4273 - accuracy: 0.8343 - val_loss: 0.4870 - val_accuracy: 0.7917\n",
      "Epoch 5/20\n",
      "208/208 [==============================] - 2s 7ms/step - loss: 0.3935 - accuracy: 0.8483 - val_loss: 0.4904 - val_accuracy: 0.7894\n",
      "Epoch 6/20\n",
      "208/208 [==============================] - 2s 7ms/step - loss: 0.3616 - accuracy: 0.8615 - val_loss: 0.5028 - val_accuracy: 0.7879\n",
      "Epoch 7/20\n",
      "208/208 [==============================] - 2s 8ms/step - loss: 0.3304 - accuracy: 0.8753 - val_loss: 0.5196 - val_accuracy: 0.7829\n",
      "Epoch 8/20\n",
      "208/208 [==============================] - 2s 7ms/step - loss: 0.3039 - accuracy: 0.8855 - val_loss: 0.5414 - val_accuracy: 0.7800\n",
      "Epoch 9/20\n",
      "208/208 [==============================] - 2s 7ms/step - loss: 0.2791 - accuracy: 0.8961 - val_loss: 0.5886 - val_accuracy: 0.7790\n",
      "Epoch 10/20\n",
      "208/208 [==============================] - 2s 7ms/step - loss: 0.2601 - accuracy: 0.9033 - val_loss: 0.6485 - val_accuracy: 0.7785\n",
      "Epoch 11/20\n",
      "208/208 [==============================] - 2s 7ms/step - loss: 0.2452 - accuracy: 0.9087 - val_loss: 0.6831 - val_accuracy: 0.7778\n",
      "Epoch 12/20\n",
      "208/208 [==============================] - 2s 7ms/step - loss: 0.2333 - accuracy: 0.9134 - val_loss: 0.7521 - val_accuracy: 0.7779\n",
      "Epoch 13/20\n",
      "208/208 [==============================] - 2s 7ms/step - loss: 0.2235 - accuracy: 0.9157 - val_loss: 0.7463 - val_accuracy: 0.7761\n",
      "Epoch 14/20\n",
      "208/208 [==============================] - 2s 7ms/step - loss: 0.2153 - accuracy: 0.9192 - val_loss: 0.7984 - val_accuracy: 0.7746\n",
      "Epoch 1/20\n",
      "208/208 [==============================] - 8s 25ms/step - loss: 0.4596 - accuracy: 0.7733 - val_loss: 0.3518 - val_accuracy: 0.8480\n",
      "Epoch 2/20\n",
      "208/208 [==============================] - 5s 22ms/step - loss: 0.3402 - accuracy: 0.8545 - val_loss: 0.3466 - val_accuracy: 0.8502\n",
      "Epoch 3/20\n",
      "208/208 [==============================] - 5s 22ms/step - loss: 0.3223 - accuracy: 0.8641 - val_loss: 0.3450 - val_accuracy: 0.8504\n",
      "Epoch 4/20\n",
      "208/208 [==============================] - 5s 22ms/step - loss: 0.3091 - accuracy: 0.8698 - val_loss: 0.3497 - val_accuracy: 0.8514\n",
      "Epoch 5/20\n",
      "208/208 [==============================] - 5s 22ms/step - loss: 0.2957 - accuracy: 0.8767 - val_loss: 0.3431 - val_accuracy: 0.8505\n",
      "Epoch 6/20\n",
      "208/208 [==============================] - 5s 22ms/step - loss: 0.2802 - accuracy: 0.8843 - val_loss: 0.3512 - val_accuracy: 0.8530\n",
      "Epoch 7/20\n",
      "208/208 [==============================] - 5s 22ms/step - loss: 0.2675 - accuracy: 0.8900 - val_loss: 0.3523 - val_accuracy: 0.8544\n",
      "Epoch 8/20\n",
      "208/208 [==============================] - 5s 22ms/step - loss: 0.2522 - accuracy: 0.8971 - val_loss: 0.3554 - val_accuracy: 0.8550\n",
      "Epoch 9/20\n",
      "208/208 [==============================] - 5s 22ms/step - loss: 0.2400 - accuracy: 0.9035 - val_loss: 0.3621 - val_accuracy: 0.8552\n",
      "Epoch 10/20\n",
      "208/208 [==============================] - 5s 22ms/step - loss: 0.2286 - accuracy: 0.9079 - val_loss: 0.3685 - val_accuracy: 0.8531\n",
      "Epoch 11/20\n",
      "208/208 [==============================] - 5s 22ms/step - loss: 0.2190 - accuracy: 0.9115 - val_loss: 0.3751 - val_accuracy: 0.8522\n",
      "Epoch 12/20\n",
      "208/208 [==============================] - 5s 22ms/step - loss: 0.2078 - accuracy: 0.9168 - val_loss: 0.3729 - val_accuracy: 0.8508\n",
      "Epoch 13/20\n",
      "208/208 [==============================] - 5s 22ms/step - loss: 0.1983 - accuracy: 0.9213 - val_loss: 0.3826 - val_accuracy: 0.8483\n",
      "Epoch 14/20\n",
      "208/208 [==============================] - 5s 22ms/step - loss: 0.1901 - accuracy: 0.9243 - val_loss: 0.3982 - val_accuracy: 0.8511\n",
      "Epoch 15/20\n",
      "208/208 [==============================] - 5s 22ms/step - loss: 0.1833 - accuracy: 0.9271 - val_loss: 0.3971 - val_accuracy: 0.8515\n"
     ]
    }
   ],
   "source": [
    "model_01.compile(optimizer='adam',\n",
    "              loss='binary_crossentropy',\n",
    "              metrics=['accuracy'])\n",
    "              \n",
    "model_02.compile(optimizer='adam',\n",
    "              loss='binary_crossentropy',\n",
    "              metrics=['accuracy'])\n",
    "\n",
    "model_03.compile(optimizer='adam',\n",
    "              loss='binary_crossentropy',\n",
    "              metrics=['accuracy'])\n",
    "    \n",
    "epochs=20 \n",
    "early_stopping = tf.keras.callbacks.EarlyStopping(monitor='val_loss', patience=10)\n",
    "\n",
    "history_01 = model_01.fit(partial_x_train,\n",
    "                    partial_y_train,\n",
    "                    epochs=epochs,\n",
    "                    batch_size=512,\n",
    "                    validation_data=(x_val, y_val),\n",
    "                    verbose=1,\n",
    "                    callbacks=[early_stopping])\n",
    "\n",
    "history_02 = model_02.fit(partial_x_train,\n",
    "                    partial_y_train,\n",
    "                    epochs=epochs,\n",
    "                    batch_size=512,\n",
    "                    validation_data=(x_val, y_val),\n",
    "                    verbose=1,\n",
    "                    callbacks=[early_stopping])\n",
    "\n",
    "history_03 = model_03.fit(partial_x_train,\n",
    "                    partial_y_train,\n",
    "                    epochs=epochs,\n",
    "                    batch_size=512,\n",
    "                    validation_data=(x_val, y_val),\n",
    "                    verbose=1,\n",
    "                    callbacks=[early_stopping])"
   ]
  },
  {
   "cell_type": "code",
   "execution_count": 95,
   "id": "861eab6f",
   "metadata": {},
   "outputs": [
    {
     "name": "stdout",
     "output_type": "stream",
     "text": [
      "1537/1537 - 4s - loss: 0.4148 - accuracy: 0.8467\n",
      "1537/1537 - 3s - loss: 0.8218 - accuracy: 0.7689\n",
      "1537/1537 - 5s - loss: 0.4037 - accuracy: 0.8471\n",
      "[0.4148177206516266, 0.8467156291007996]\n",
      "[0.8218483328819275, 0.7689443826675415]\n",
      "[0.4037003815174103, 0.847102165222168]\n"
     ]
    }
   ],
   "source": [
    "results_01 = model_01.evaluate(X_test,  y_test, verbose=2)\n",
    "\n",
    "results_02 = model_02.evaluate(X_test,  y_test, verbose=2)\n",
    "\n",
    "results_03 = model_03.evaluate(X_test,  y_test, verbose=2)\n",
    "\n",
    "print(results_01)\n",
    "\n",
    "print(results_02)\n",
    "\n",
    "print(results_03)\n"
   ]
  },
  {
   "cell_type": "markdown",
   "id": "890054c4",
   "metadata": {},
   "source": [
    "# 6. Loss Accuracy graph"
   ]
  },
  {
   "cell_type": "code",
   "execution_count": 96,
   "id": "29a3c1a5",
   "metadata": {},
   "outputs": [],
   "source": [
    "history_dict_01 = history_01.history\n",
    "history_dict_02 = history_02.history\n",
    "history_dict_03 = history_03.history"
   ]
  },
  {
   "cell_type": "code",
   "execution_count": 97,
   "id": "5e93d716",
   "metadata": {},
   "outputs": [
    {
     "data": {
      "image/png": "[encoded data removed]",
      "text/plain": [
       "<Figure size 432x288 with 1 Axes>"
      ]
     },
     "metadata": {
      "needs_background": "light"
     },
     "output_type": "display_data"
    }
   ],
   "source": [
    "import matplotlib.pyplot as plt\n",
    "\n",
    "\n",
    "acc = history_dict_01['accuracy']\n",
    "val_acc = history_dict_01['val_accuracy']\n",
    "loss = history_dict_01['loss']\n",
    "val_loss = history_dict_01['val_loss']\n",
    "epochs = range(1, len(acc) + 1)\n",
    "\n",
    "plt.plot(epochs, loss, 'bo', label='Training loss')\n",
    "plt.plot(epochs, val_loss, 'b', label='Validation loss')\n",
    "plt.title('Model 01')\n",
    "plt.xlabel('Epochs')\n",
    "plt.ylabel('Loss')\n",
    "plt.legend()\n",
    "\n",
    "plt.show()"
   ]
  },
  {
   "cell_type": "code",
   "execution_count": 98,
   "id": "cd5b48d8",
   "metadata": {},
   "outputs": [
    {
     "data": {
      "image/png": "[encoded data removed]",
      "text/plain": [
       "<Figure size 432x288 with 1 Axes>"
      ]
     },
     "metadata": {
      "needs_background": "light"
     },
     "output_type": "display_data"
    }
   ],
   "source": [
    "acc = history_dict_02['accuracy']\n",
    "val_acc = history_dict_02['val_accuracy']\n",
    "loss = history_dict_02['loss']\n",
    "val_loss = history_dict_02['val_loss']\n",
    "epochs = range(1, len(acc) + 1)\n",
    "\n",
    "plt.plot(epochs, loss, 'bo', label='Training loss')\n",
    "plt.plot(epochs, val_loss, 'b', label='Validation loss')\n",
    "plt.title('Model 02')\n",
    "plt.xlabel('Epochs')\n",
    "plt.ylabel('Loss')\n",
    "plt.legend()\n",
    "\n",
    "plt.show()"
   ]
  },
  {
   "cell_type": "code",
   "execution_count": 99,
   "id": "47f4011f",
   "metadata": {},
   "outputs": [
    {
     "data": {
      "image/png": "[encoded data removed]",
      "text/plain": [
       "<Figure size 432x288 with 1 Axes>"
      ]
     },
     "metadata": {
      "needs_background": "light"
     },
     "output_type": "display_data"
    }
   ],
   "source": [
    "acc = history_dict_03['accuracy']\n",
    "val_acc = history_dict_03['val_accuracy']\n",
    "loss = history_dict_03['loss']\n",
    "val_loss = history_dict_03['val_loss']\n",
    "epochs = range(1, len(acc) + 1)\n",
    "\n",
    "plt.plot(epochs, loss, 'bo', label='Training loss')\n",
    "plt.plot(epochs, val_loss, 'b', label='Validation loss')\n",
    "plt.title('Model 03')\n",
    "plt.xlabel('Epochs')\n",
    "plt.ylabel('Loss')\n",
    "plt.legend()\n",
    "\n",
    "plt.show()"
   ]
  },
  {
   "cell_type": "markdown",
   "id": "6f84e8c7",
   "metadata": {},
   "source": [
    "## 6-1. Train Result\n",
    "\n",
    "### CNN has an overfitting issue\n",
    "As you can see on the graphs, all of the validation loss are showing an increasing trend.  \n",
    "Especially, the validation loss of model 2, using CNN, records a highest value and the increasment.  \n",
    "This suggests that a CNN model may encounter overfitting issues in sequential language data.  \n",
    "  \n",
    "### Using RNN\n",
    "I will use **model 3** because??? "
   ]
  },
  {
   "cell_type": "markdown",
   "id": "0f9d9843",
   "metadata": {},
   "source": [
    "# 7. Verify the Embedding layer is correctly configured"
   ]
  },
  {
   "cell_type": "code",
   "execution_count": 100,
   "id": "c9b7db82",
   "metadata": {},
   "outputs": [],
   "source": [
    "from gensim.models.keyedvectors import Word2VecKeyedVectors\n",
    "\n",
    "word2vec_file_path = '/aiffel/aiffel/AIFEL_Quest/Exploration_04/sentiment_classification/data/word2vec_project.txt'\n",
    "f = open(word2vec_file_path, 'w')\n",
    "f.write('{} {}\\n'.format(vocab_size-4, word_vector_dim))\n",
    "\n",
    "vectors = model_01.get_weights()[0]\n",
    "for i in range(4,vocab_size):\n",
    "    f.write('{} {}\\n'.format(index_to_word[i], ' '.join(map(str, list(vectors[i, :])))))\n",
    "f.close()"
   ]
  },
  {
   "cell_type": "code",
   "execution_count": 101,
   "id": "5f883cba",
   "metadata": {},
   "outputs": [
    {
     "data": {
      "text/plain": [
       "[('대박', 0.9796451330184937),\n",
       " ('절제', 0.9738415479660034),\n",
       " ('명작', 0.9681271314620972),\n",
       " ('깎아내리', 0.9631853103637695),\n",
       " ('부조리', 0.9625588655471802),\n",
       " ('데요', 0.9624336361885071),\n",
       " ('큐', 0.9536687135696411),\n",
       " ('아메리칸', 0.9509451389312744),\n",
       " ('명품', 0.9498660564422607),\n",
       " ('리얼', 0.9495006799697876)]"
      ]
     },
     "execution_count": 101,
     "metadata": {},
     "output_type": "execute_result"
    }
   ],
   "source": [
    "word_vectors = Word2VecKeyedVectors.load_word2vec_format(word2vec_file_path, binary=False)\n",
    "word_vectors.similar_by_word(\"사랑\")"
   ]
  },
  {
   "cell_type": "markdown",
   "id": "c2fc950f",
   "metadata": {},
   "source": [
    "## 7-1. Result of embedding layer\n",
    "The results from the embedding layer, as observed in the previous cell, indicate that words like '사랑' and others   appear to lack meaningful representations. This suggests that the embedding layer is not effectively capturing   semantic information."
   ]
  },
  {
   "cell_type": "markdown",
   "id": "011daab5",
   "metadata": {},
   "source": [
    "# 8. Improve performance using 한국어 Word2Vec "
   ]
  },
  {
   "cell_type": "code",
   "execution_count": 102,
   "id": "607f2133",
   "metadata": {},
   "outputs": [],
   "source": [
    "temporary_filepath = 'sentiment_classification/data/word2vec_ko.model'\n",
    "saved_model = gensim.models.Word2Vec.load(temporary_filepath)\n",
    "word_vectors = saved_model.wv"
   ]
  },
  {
   "cell_type": "code",
   "execution_count": 103,
   "id": "defb33af",
   "metadata": {},
   "outputs": [
    {
     "data": {
      "text/plain": [
       "[('이별', 0.7626414895057678),\n",
       " ('행복', 0.7550068497657776),\n",
       " ('슬픔', 0.7381505966186523),\n",
       " ('유혹', 0.7238055467605591),\n",
       " ('그리움', 0.7167419195175171),\n",
       " ('추억', 0.7143999338150024),\n",
       " ('꿈', 0.7089294195175171),\n",
       " ('애정', 0.7066588997840881),\n",
       " ('포옹', 0.7034594416618347),\n",
       " ('마음', 0.6972615718841553)]"
      ]
     },
     "execution_count": 103,
     "metadata": {},
     "output_type": "execute_result"
    }
   ],
   "source": [
    "word_vectors.similar_by_word(\"사랑\")"
   ]
  },
  {
   "cell_type": "code",
   "execution_count": 104,
   "id": "dbea5833",
   "metadata": {},
   "outputs": [],
   "source": [
    "vocab_size = 10000\n",
    "word_vector_dim = 100  \n",
    "embedding_matrix = np.random.rand(vocab_size, word_vector_dim)\n",
    "\n",
    "\n",
    "for i in range(3,vocab_size):\n",
    "    if index_to_word[i] in word_vectors:\n",
    "        embedding_matrix[i] = word_vectors[index_to_word[i]]"
   ]
  },
  {
   "cell_type": "code",
   "execution_count": 105,
   "id": "dad611c9",
   "metadata": {},
   "outputs": [
    {
     "name": "stdout",
     "output_type": "stream",
     "text": [
      "WARNING:tensorflow:Layer lstm_11 will not use cuDNN kernels since it doesn't meet the criteria. It will use a generic GPU kernel as fallback when running on GPU.\n",
      "WARNING:tensorflow:Layer lstm_11 will not use cuDNN kernels since it doesn't meet the criteria. It will use a generic GPU kernel as fallback when running on GPU.\n",
      "WARNING:tensorflow:Layer lstm_11 will not use cuDNN kernels since it doesn't meet the criteria. It will use a generic GPU kernel as fallback when running on GPU.\n",
      "Model: \"sequential_14\"\n",
      "_________________________________________________________________\n",
      "Layer (type)                 Output Shape              Param #   \n",
      "=================================================================\n",
      "embedding_14 (Embedding)     (None, 54, 100)           1000000   \n",
      "_________________________________________________________________\n",
      "bidirectional_3 (Bidirection (None, 256)               234496    \n",
      "_________________________________________________________________\n",
      "dense_25 (Dense)             (None, 64)                16448     \n",
      "_________________________________________________________________\n",
      "dropout_3 (Dropout)          (None, 64)                0         \n",
      "_________________________________________________________________\n",
      "dense_26 (Dense)             (None, 1)                 65        \n",
      "=================================================================\n",
      "Total params: 1,251,009\n",
      "Trainable params: 1,251,009\n",
      "Non-trainable params: 0\n",
      "_________________________________________________________________\n"
     ]
    }
   ],
   "source": [
    "from tensorflow.keras.initializers import Constant\n",
    "\n",
    "\n",
    "model_04 = tf.keras.Sequential()\n",
    "model_04.add(tf.keras.layers.Embedding(vocab_size,\n",
    "                                 word_vector_dim, \n",
    "                                 embeddings_initializer=Constant(embedding_matrix),  \n",
    "                                 input_length=maxlen, \n",
    "                                 trainable=True))\n",
    "model_04.add(tf.keras.layers.Bidirectional(tf.keras.layers.LSTM(128, dropout=0.2, recurrent_dropout=0.2)))\n",
    "model_04.add(tf.keras.layers.Dense(64, activation='relu'))\n",
    "model_04.add(tf.keras.layers.Dropout(0.3))  \n",
    "model_04.add(tf.keras.layers.Dense(1, activation='sigmoid')) \n",
    "\n",
    "model_04.summary()"
   ]
  },
  {
   "cell_type": "code",
   "execution_count": 106,
   "id": "3cc14314",
   "metadata": {},
   "outputs": [
    {
     "name": "stdout",
     "output_type": "stream",
     "text": [
      "Epoch 1/20\n",
      "208/208 [==============================] - 102s 470ms/step - loss: 0.5267 - accuracy: 0.7333 - val_loss: 0.4294 - val_accuracy: 0.8020\n",
      "Epoch 2/20\n",
      "208/208 [==============================] - 97s 469ms/step - loss: 0.4113 - accuracy: 0.8131 - val_loss: 0.3669 - val_accuracy: 0.8362\n",
      "Epoch 3/20\n",
      "208/208 [==============================] - 97s 468ms/step - loss: 0.3611 - accuracy: 0.8391 - val_loss: 0.3396 - val_accuracy: 0.8528\n",
      "Epoch 4/20\n",
      "208/208 [==============================] - 97s 465ms/step - loss: 0.3327 - accuracy: 0.8548 - val_loss: 0.3246 - val_accuracy: 0.8589\n",
      "Epoch 5/20\n",
      "208/208 [==============================] - 97s 465ms/step - loss: 0.3121 - accuracy: 0.8652 - val_loss: 0.3194 - val_accuracy: 0.8619\n",
      "Epoch 6/20\n",
      "208/208 [==============================] - 96s 463ms/step - loss: 0.2968 - accuracy: 0.8721 - val_loss: 0.3218 - val_accuracy: 0.8650\n",
      "Epoch 7/20\n",
      "208/208 [==============================] - 96s 463ms/step - loss: 0.2822 - accuracy: 0.8791 - val_loss: 0.3176 - val_accuracy: 0.8669\n",
      "Epoch 8/20\n",
      "208/208 [==============================] - 96s 462ms/step - loss: 0.2690 - accuracy: 0.8869 - val_loss: 0.3307 - val_accuracy: 0.8669\n",
      "Epoch 9/20\n",
      "208/208 [==============================] - 96s 463ms/step - loss: 0.2590 - accuracy: 0.8925 - val_loss: 0.3359 - val_accuracy: 0.8644\n",
      "Epoch 10/20\n",
      "208/208 [==============================] - 96s 461ms/step - loss: 0.2506 - accuracy: 0.8948 - val_loss: 0.3355 - val_accuracy: 0.8682\n",
      "Epoch 11/20\n",
      "208/208 [==============================] - 96s 460ms/step - loss: 0.2422 - accuracy: 0.8994 - val_loss: 0.3403 - val_accuracy: 0.8696\n",
      "Epoch 12/20\n",
      "208/208 [==============================] - 96s 462ms/step - loss: 0.2335 - accuracy: 0.9026 - val_loss: 0.3338 - val_accuracy: 0.8680\n",
      "Epoch 13/20\n",
      "208/208 [==============================] - 96s 461ms/step - loss: 0.2257 - accuracy: 0.9063 - val_loss: 0.3352 - val_accuracy: 0.8688\n",
      "Epoch 14/20\n",
      "208/208 [==============================] - 96s 460ms/step - loss: 0.2204 - accuracy: 0.9089 - val_loss: 0.3513 - val_accuracy: 0.8669\n",
      "Epoch 15/20\n",
      "208/208 [==============================] - 95s 459ms/step - loss: 0.2133 - accuracy: 0.9112 - val_loss: 0.3543 - val_accuracy: 0.8669\n",
      "Epoch 16/20\n",
      "208/208 [==============================] - 96s 463ms/step - loss: 0.2057 - accuracy: 0.9158 - val_loss: 0.3633 - val_accuracy: 0.8646\n",
      "Epoch 17/20\n",
      "208/208 [==============================] - 96s 460ms/step - loss: 0.2007 - accuracy: 0.9177 - val_loss: 0.3562 - val_accuracy: 0.8693\n"
     ]
    }
   ],
   "source": [
    "model_04.compile(optimizer='adam',\n",
    "              loss='binary_crossentropy',\n",
    "              metrics=['accuracy'])\n",
    "              \n",
    "epochs=20  \n",
    "early_stopping = tf.keras.callbacks.EarlyStopping(monitor='val_loss', patience=10)\n",
    "\n",
    "history = model_04.fit(partial_x_train,\n",
    "                    partial_y_train,\n",
    "                    epochs=epochs,\n",
    "                    batch_size=512,\n",
    "                    validation_data=(x_val, y_val),\n",
    "                    verbose=1,\n",
    "                    callbacks=[early_stopping])"
   ]
  },
  {
   "cell_type": "code",
   "execution_count": 107,
   "id": "b261c75c",
   "metadata": {},
   "outputs": [
    {
     "name": "stdout",
     "output_type": "stream",
     "text": [
      "1537/1537 - 45s - loss: 0.3610 - accuracy: 0.8642\n",
      "[0.36104995012283325, 0.8642106056213379]\n"
     ]
    }
   ],
   "source": [
    "results = model_04.evaluate(X_test,  y_test, verbose=2)\n",
    "\n",
    "print(results)"
   ]
  },
  {
   "cell_type": "code",
   "execution_count": 108,
   "id": "554e2568",
   "metadata": {},
   "outputs": [
    {
     "data": {
      "image/png": "[encoded data removed]",
      "text/plain": [
       "<Figure size 432x288 with 1 Axes>"
      ]
     },
     "metadata": {
      "needs_background": "light"
     },
     "output_type": "display_data"
    }
   ],
   "source": [
    "history_dict_04 = history.history\n",
    "\n",
    "acc = history_dict_04['accuracy']\n",
    "val_acc = history_dict_04['val_accuracy']\n",
    "loss = history_dict_04['loss']\n",
    "val_loss = history_dict_04['val_loss']\n",
    "epochs = range(1, len(acc) + 1)\n",
    "\n",
    "plt.plot(epochs, loss, 'bo', label='Training loss')\n",
    "plt.plot(epochs, val_loss, 'b', label='Validation loss')\n",
    "plt.title('Model 03')\n",
    "plt.xlabel('Epochs')\n",
    "plt.ylabel('Loss')\n",
    "plt.legend()\n",
    "\n",
    "plt.show()"
   ]
  },
  {
   "cell_type": "markdown",
   "id": "ab6ff883",
   "metadata": {},
   "source": [
    "# Retrospective\n",
    "## Review \n",
    " - Goal : Train a model that can determine whether movie reviews written in Korean are positive or negative.\n",
    "     - Step 1 : Preprocessing\n",
    "         - Convert the string data into numerical values.\n",
    "             - Remove NaN & Missing value\n",
    "             - Make word&index dictionary\n",
    "             - Change words to indexs\n",
    "             - Add padding considering the max length sentences\n",
    "     - Step 2 : Set and train model\n",
    "          - Set Model and validation set\n",
    "              - Try three kinds of models and choose one model that recorded the most highest performance\n",
    "          - Check Embedding layer\n",
    "              - The parameters inside the embedding layer were not appropriatley configured\n",
    "     - Step 3 : Change Embadding layer to pretrained embadding layer\n",
    "          - Change embadding layer to pretrained embadding layer\n",
    "          - Configure parameter to improve performance \n",
    "  \n",
    "## Using LSTM\n",
    "I chose to use an LSTM model because the words in a sentence mutually influence each other.\n",
    "I also attempted to use a Bi-LSTM model, but its performance was not as good as that of the LSTM model.\n",
    "  \n",
    "## Using drop out and recurrent dropout\n",
    "To improve the model performance, I add dropout layer and use recurrent dropout to prevent overfitting.  \n",
    "The key difference from traditional Dropout is that it applies Dropout not to parameters that depend on past information in the network but only to parameters influenced by the current input.  \n",
    "  \n",
    "## What I need to learn more\n",
    "- I aim to delve deeper into understanding how to determine parameters such as batch size, parameter size, the number of layers, and so forth.\n",
    "- Require deeper understanding  LSTM and Bi LSTM & recurrent dropout"
   ]
  }
 ],
 "metadata": {
  "kernelspec": {
   "display_name": "Python 3 (ipykernel)",
   "language": "python",
   "name": "python3"
  },
  "language_info": {
   "codemirror_mode": {
    "name": "ipython",
    "version": 3
   },
   "file_extension": ".py",
   "mimetype": "text/x-python",
   "name": "python",
   "nbconvert_exporter": "python",
   "pygments_lexer": "ipython3",
   "version": "3.9.7"
  }
 },
 "nbformat": 4,
 "nbformat_minor": 5
}
