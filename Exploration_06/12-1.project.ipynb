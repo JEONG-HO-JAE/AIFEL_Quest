{
 "cells": [
  {
   "cell_type": "code",
   "execution_count": 1,
   "id": "e03e7206",
   "metadata": {},
   "outputs": [
    {
     "name": "stderr",
     "output_type": "stream",
     "text": [
      "[nltk_data] Downloading package stopwords to /aiffel/nltk_data...\n",
      "[nltk_data]   Unzipping corpora/stopwords.zip.\n"
     ]
    }
   ],
   "source": [
    "import nltk\n",
    "nltk.download('stopwords')\n",
    "\n",
    "from importlib.metadata import version\n",
    "import nltk\n",
    "import tensorflow\n",
    "import summa\n",
    "import re\n",
    "import pandas as pd\n",
    "import numpy as np\n",
    "from tqdm import tqdm\n",
    "from nltk.corpus import stopwords\n",
    "import matplotlib.pyplot as plt\n",
    "from bs4 import BeautifulSoup \n",
    "from tensorflow.keras.preprocessing.text import Tokenizer \n",
    "from tensorflow.keras.preprocessing.sequence import pad_sequences"
   ]
  },
  {
   "cell_type": "markdown",
   "id": "71206656",
   "metadata": {},
   "source": [
    "## Overview\n",
    "Project start date: Oct 9, 2023  \n",
    "Goal: Summarizing news articles  \n",
    "Main points :  \n",
    " - Create an LSTM model and apply the Attention mechanism to the decoder for abstractive summarization.  \n",
    " - Monitor the loss values (both during training and validation) and the prediction results.  \n",
    " - Evaluate the predictions using the Summa package for extractive summarization.  \n",
    " - Discuss the pros and cons of each summarization method."
   ]
  },
  {
   "cell_type": "markdown",
   "id": "dffcd943",
   "metadata": {},
   "source": [
    "# 1. Exploratory Data Analysis\n",
    "Github link of source data : https://github.com/sunnysai12345/News_Summary  \n",
    "The dataset consists of 4515 examples and contains Author_name, Headlines, Url of Article, Short text, Complete Article. According to the Readme file, summarized news from Inshorts and only scraped the news articles from Hindu, Indian times and Guardian.  \n",
    "  \n",
    "I will use 'headlines', and 'Complete' on this project."
   ]
  },
  {
   "cell_type": "markdown",
   "id": "bfd101e1",
   "metadata": {},
   "source": [
    "## 1-1. Retrieve Data"
   ]
  },
  {
   "cell_type": "code",
   "execution_count": 3,
   "id": "caebba0f",
   "metadata": {},
   "outputs": [],
   "source": [
    "import urllib.request\n",
    "urllib.request.urlretrieve(\"https://raw.githubusercontent.com/sunnysai12345/News_Summary/master/news_summary_more.csv\", filename=\"news_summarization/data/news_summary_more.csv\")\n",
    "data = pd.read_csv('news_summarization/data/news_summary_more.csv', encoding='iso-8859-1')"
   ]
  },
  {
   "cell_type": "code",
   "execution_count": 4,
   "id": "9ac71997",
   "metadata": {},
   "outputs": [
    {
     "name": "stdout",
     "output_type": "stream",
     "text": [
      "The number of data: 98401\n"
     ]
    },
    {
     "data": {
      "text/html": [
       "<div>\n",
       "<style scoped>\n",
       "    .dataframe tbody tr th:only-of-type {\n",
       "        vertical-align: middle;\n",
       "    }\n",
       "\n",
       "    .dataframe tbody tr th {\n",
       "        vertical-align: top;\n",
       "    }\n",
       "\n",
       "    .dataframe thead th {\n",
       "        text-align: right;\n",
       "    }\n",
       "</style>\n",
       "<table border=\"1\" class=\"dataframe\">\n",
       "  <thead>\n",
       "    <tr style=\"text-align: right;\">\n",
       "      <th></th>\n",
       "      <th>headlines</th>\n",
       "      <th>text</th>\n",
       "    </tr>\n",
       "  </thead>\n",
       "  <tbody>\n",
       "    <tr>\n",
       "      <th>0</th>\n",
       "      <td>upGrad learner switches to career in ML &amp; Al w...</td>\n",
       "      <td>Saurav Kant, an alumnus of upGrad and IIIT-B's...</td>\n",
       "    </tr>\n",
       "    <tr>\n",
       "      <th>1</th>\n",
       "      <td>Delhi techie wins free food from Swiggy for on...</td>\n",
       "      <td>Kunal Shah's credit card bill payment platform...</td>\n",
       "    </tr>\n",
       "    <tr>\n",
       "      <th>2</th>\n",
       "      <td>New Zealand end Rohit Sharma-led India's 12-ma...</td>\n",
       "      <td>New Zealand defeated India by 8 wickets in the...</td>\n",
       "    </tr>\n",
       "    <tr>\n",
       "      <th>3</th>\n",
       "      <td>Aegon life iTerm insurance plan helps customer...</td>\n",
       "      <td>With Aegon Life iTerm Insurance plan, customer...</td>\n",
       "    </tr>\n",
       "    <tr>\n",
       "      <th>4</th>\n",
       "      <td>Have known Hirani for yrs, what if MeToo claim...</td>\n",
       "      <td>Speaking about the sexual harassment allegatio...</td>\n",
       "    </tr>\n",
       "  </tbody>\n",
       "</table>\n",
       "</div>"
      ],
      "text/plain": [
       "                                           headlines  \\\n",
       "0  upGrad learner switches to career in ML & Al w...   \n",
       "1  Delhi techie wins free food from Swiggy for on...   \n",
       "2  New Zealand end Rohit Sharma-led India's 12-ma...   \n",
       "3  Aegon life iTerm insurance plan helps customer...   \n",
       "4  Have known Hirani for yrs, what if MeToo claim...   \n",
       "\n",
       "                                                text  \n",
       "0  Saurav Kant, an alumnus of upGrad and IIIT-B's...  \n",
       "1  Kunal Shah's credit card bill payment platform...  \n",
       "2  New Zealand defeated India by 8 wickets in the...  \n",
       "3  With Aegon Life iTerm Insurance plan, customer...  \n",
       "4  Speaking about the sexual harassment allegatio...  "
      ]
     },
     "execution_count": 4,
     "metadata": {},
     "output_type": "execute_result"
    }
   ],
   "source": [
    "print('The number of data:', len(data))\n",
    "data.head()"
   ]
  },
  {
   "cell_type": "markdown",
   "id": "05400874",
   "metadata": {},
   "source": [
    "## 1-2. Delete duplicated data"
   ]
  },
  {
   "cell_type": "code",
   "execution_count": 5,
   "id": "70903085",
   "metadata": {},
   "outputs": [
    {
     "name": "stdout",
     "output_type": "stream",
     "text": [
      "The number of data in \"headlines\" excluding duplicates :  98280\n",
      "The number of data in \"text\" excluding duplicates :  98360\n"
     ]
    }
   ],
   "source": [
    "# The number of explicitly duplicated data\n",
    "print('The number of data in \"headlines\" excluding duplicates : ', data['headlines'].nunique())\n",
    "print('The number of data in \"text\" excluding duplicates : ', data['text'].nunique())"
   ]
  },
  {
   "cell_type": "code",
   "execution_count": 6,
   "id": "9ee5a10c",
   "metadata": {},
   "outputs": [],
   "source": [
    "# Delete duplicated data\n",
    "data.drop_duplicates(subset = ['text'], inplace = True)"
   ]
  },
  {
   "cell_type": "markdown",
   "id": "16c44707",
   "metadata": {},
   "source": [
    "## 1-3. Delete NaN data"
   ]
  },
  {
   "cell_type": "code",
   "execution_count": 7,
   "id": "25822636",
   "metadata": {},
   "outputs": [
    {
     "name": "stdout",
     "output_type": "stream",
     "text": [
      "headlines    0\n",
      "text         0\n",
      "dtype: int64\n"
     ]
    }
   ],
   "source": [
    "print(data.isnull().sum())"
   ]
  },
  {
   "cell_type": "markdown",
   "id": "01365971",
   "metadata": {},
   "source": [
    "## 1-4. Text normalization"
   ]
  },
  {
   "cell_type": "markdown",
   "id": "5a93816f",
   "metadata": {},
   "source": [
    "### 1-4-1. Define contractions"
   ]
  },
  {
   "cell_type": "code",
   "execution_count": 8,
   "id": "969a8d8a",
   "metadata": {},
   "outputs": [
    {
     "name": "stdout",
     "output_type": "stream",
     "text": [
      "The number of contractions dictionary:  120\n"
     ]
    }
   ],
   "source": [
    "contractions = {\"ain't\": \"is not\", \"aren't\": \"are not\",\"can't\": \"cannot\", \"'cause\": \"because\", \"could've\": \"could have\", \"couldn't\": \"could not\",\n",
    "                           \"didn't\": \"did not\",  \"doesn't\": \"does not\", \"don't\": \"do not\", \"hadn't\": \"had not\", \"hasn't\": \"has not\", \"haven't\": \"have not\",\n",
    "                           \"he'd\": \"he would\",\"he'll\": \"he will\", \"he's\": \"he is\", \"how'd\": \"how did\", \"how'd'y\": \"how do you\", \"how'll\": \"how will\", \"how's\": \"how is\",\n",
    "                           \"I'd\": \"I would\", \"I'd've\": \"I would have\", \"I'll\": \"I will\", \"I'll've\": \"I will have\",\"I'm\": \"I am\", \"I've\": \"I have\", \"i'd\": \"i would\",\n",
    "                           \"i'd've\": \"i would have\", \"i'll\": \"i will\",  \"i'll've\": \"i will have\",\"i'm\": \"i am\", \"i've\": \"i have\", \"isn't\": \"is not\", \"it'd\": \"it would\",\n",
    "                           \"it'd've\": \"it would have\", \"it'll\": \"it will\", \"it'll've\": \"it will have\",\"it's\": \"it is\", \"let's\": \"let us\", \"ma'am\": \"madam\",\n",
    "                           \"mayn't\": \"may not\", \"might've\": \"might have\",\"mightn't\": \"might not\",\"mightn't've\": \"might not have\", \"must've\": \"must have\",\n",
    "                           \"mustn't\": \"must not\", \"mustn't've\": \"must not have\", \"needn't\": \"need not\", \"needn't've\": \"need not have\",\"o'clock\": \"of the clock\",\n",
    "                           \"oughtn't\": \"ought not\", \"oughtn't've\": \"ought not have\", \"shan't\": \"shall not\", \"sha'n't\": \"shall not\", \"shan't've\": \"shall not have\",\n",
    "                           \"she'd\": \"she would\", \"she'd've\": \"she would have\", \"she'll\": \"she will\", \"she'll've\": \"she will have\", \"she's\": \"she is\",\n",
    "                           \"should've\": \"should have\", \"shouldn't\": \"should not\", \"shouldn't've\": \"should not have\", \"so've\": \"so have\",\"so's\": \"so as\",\n",
    "                           \"this's\": \"this is\",\"that'd\": \"that would\", \"that'd've\": \"that would have\", \"that's\": \"that is\", \"there'd\": \"there would\",\n",
    "                           \"there'd've\": \"there would have\", \"there's\": \"there is\", \"here's\": \"here is\",\"they'd\": \"they would\", \"they'd've\": \"they would have\",\n",
    "                           \"they'll\": \"they will\", \"they'll've\": \"they will have\", \"they're\": \"they are\", \"they've\": \"they have\", \"to've\": \"to have\",\n",
    "                           \"wasn't\": \"was not\", \"we'd\": \"we would\", \"we'd've\": \"we would have\", \"we'll\": \"we will\", \"we'll've\": \"we will have\", \"we're\": \"we are\",\n",
    "                           \"we've\": \"we have\", \"weren't\": \"were not\", \"what'll\": \"what will\", \"what'll've\": \"what will have\", \"what're\": \"what are\",\n",
    "                           \"what's\": \"what is\", \"what've\": \"what have\", \"when's\": \"when is\", \"when've\": \"when have\", \"where'd\": \"where did\", \"where's\": \"where is\",\n",
    "                           \"where've\": \"where have\", \"who'll\": \"who will\", \"who'll've\": \"who will have\", \"who's\": \"who is\", \"who've\": \"who have\",\n",
    "                           \"why's\": \"why is\", \"why've\": \"why have\", \"will've\": \"will have\", \"won't\": \"will not\", \"won't've\": \"will not have\",\n",
    "                           \"would've\": \"would have\", \"wouldn't\": \"would not\", \"wouldn't've\": \"would not have\", \"y'all\": \"you all\",\n",
    "                           \"y'all'd\": \"you all would\",\"y'all'd've\": \"you all would have\",\"y'all're\": \"you all are\",\"y'all've\": \"you all have\",\n",
    "                           \"you'd\": \"you would\", \"you'd've\": \"you would have\", \"you'll\": \"you will\", \"you'll've\": \"you will have\",\n",
    "                           \"you're\": \"you are\", \"you've\": \"you have\"}\n",
    "\n",
    "print(\"The number of contractions dictionary: \", len(contractions))"
   ]
  },
  {
   "cell_type": "markdown",
   "id": "aa06e45b",
   "metadata": {},
   "source": [
    "### 1-4-2. Define preprocessing function"
   ]
  },
  {
   "cell_type": "code",
   "execution_count": 9,
   "id": "7d9e528b",
   "metadata": {},
   "outputs": [],
   "source": [
    "# Data preprocessing function\n",
    "def preprocess_sentence(sentence, remove_stopwords=True):\n",
    "    sentence = sentence.lower()  # Convert text to lowercase\n",
    "    sentence = BeautifulSoup(sentence, \"lxml\").text  # Remove HTML tags like <br />, <a href = ...>\n",
    "    sentence = re.sub(r'\\([^)]*\\)', '', sentence)  # Remove strings enclosed in parentheses (...)\n",
    "    sentence = re.sub('\"', '', sentence)  # Remove double quotation marks \"\n",
    "    sentence = ' '.join([contractions[t] if t in contractions else t for t in sentence.split(\" \")])  # Normalize contractions (e.g., \"don't\" -> \"do not\")\n",
    "    sentence = re.sub(r\"'s\\b\", \"\", sentence)  # Remove possessive 's (e.g., \"roland's\" -> \"roland\")\n",
    "    sentence = re.sub(\"[^a-zA-Z]\", \" \", sentence)  # Replace non-alphabet characters with whitespace\n",
    "    sentence = re.sub('[m]{2,}', 'mm', sentence)  # Replace consecutive 'm' characters (3 or more) with 'mm' (e.g., \"ummmmmmm yeah\" -> \"umm yeah\")\n",
    "    \n",
    "    # Remove stopwords (Text)\n",
    "    if remove_stopwords:\n",
    "        tokens = ' '.join(word for word in sentence.split() if not word in stopwords.words('english') if len(word) > 1)\n",
    "    # Keep stopwords (Summary)\n",
    "    else:\n",
    "        tokens = ' '.join(word for word in sentence.split() if len(word) > 1)\n",
    "    return tokens"
   ]
  },
  {
   "cell_type": "markdown",
   "id": "f17c6d92",
   "metadata": {},
   "source": [
    "## 1-5. Preprocess raw data"
   ]
  },
  {
   "cell_type": "code",
   "execution_count": 10,
   "id": "c85bb5cf",
   "metadata": {},
   "outputs": [
    {
     "name": "stderr",
     "output_type": "stream",
     "text": [
      "100%|██████████| 98360/98360 [10:27<00:00, 156.72it/s]"
     ]
    },
    {
     "name": "stdout",
     "output_type": "stream",
     "text": [
      "Text 전처리 후 결과:  ['saurav kant alumnus upgrad iiit pg program machine learning artificial intelligence sr systems engineer infosys almost years work experience program upgrad degree career support helped transition data scientist tech mahindra salary hike upgrad online power learning powered lakh careers', 'kunal shah credit card bill payment platform cred gave users chance win free food swiggy one year pranav kaushik delhi techie bagged reward spending cred coins users get one cred coin per rupee bill paid used avail rewards brands like ixigo bookmyshow ubereats cult fit', 'new zealand defeated india wickets fourth odi hamilton thursday win first match five match odi series india lost international match rohit sharma captaincy consecutive victories dating back march match witnessed india getting seventh lowest total odi cricket history', 'aegon life iterm insurance plan customers enjoy tax benefits premiums paid save taxes plan provides life cover age years also customers options insure critical illnesses disability accidental death benefit rider life cover age years', 'speaking sexual harassment allegations rajkumar hirani sonam kapoor said known hirani many years true metoo movement get derailed metoo movement always believe woman case need reserve judgment added hirani accused assistant worked sanju']\n"
     ]
    },
    {
     "name": "stderr",
     "output_type": "stream",
     "text": [
      "\n"
     ]
    }
   ],
   "source": [
    "temp_textdata = [] \n",
    "\n",
    "for index, row in tqdm(data.iterrows(), total=data.shape[0]):\n",
    "    sentence = row['text']\n",
    "    temp = preprocess_sentence(sentence)\n",
    "    temp_textdata.append(temp)\n",
    "    \n",
    "print(\"Text 전처리 후 결과: \", temp_textdata[:5])"
   ]
  },
  {
   "cell_type": "code",
   "execution_count": 11,
   "id": "a6e8840e",
   "metadata": {},
   "outputs": [
    {
     "name": "stderr",
     "output_type": "stream",
     "text": [
      "100%|██████████| 98360/98360 [02:19<00:00, 706.33it/s]"
     ]
    },
    {
     "name": "stdout",
     "output_type": "stream",
     "text": [
      "Headline 전처리 후 결과:  ['upgrad learner switches career ml al salary hike', 'delhi techie wins free food swiggy one year cred', 'new zealand end rohit sharma led india match winning streak', 'aegon life iterm insurance plan helps customers save tax', 'known hirani yrs metoo claims true sonam']\n"
     ]
    },
    {
     "name": "stderr",
     "output_type": "stream",
     "text": [
      "\n"
     ]
    }
   ],
   "source": [
    "temp_headlinesdata = []\n",
    "\n",
    "for index, row in tqdm(data.iterrows(), total=data.shape[0]):\n",
    "    sentence = row['headlines']\n",
    "    temp = preprocess_sentence(sentence)\n",
    "    temp_headlinesdata.append(temp)\n",
    "    \n",
    "print(\"Headline 전처리 후 결과: \", temp_headlinesdata[:5])"
   ]
  },
  {
   "cell_type": "code",
   "execution_count": 12,
   "id": "284cf7e0",
   "metadata": {},
   "outputs": [],
   "source": [
    "data['text'] = temp_textdata\n",
    "data['headlines'] = temp_headlinesdata\n",
    "\n",
    "# Replace '' to np.nan\n",
    "data.replace('', np.nan, inplace=True)"
   ]
  },
  {
   "cell_type": "code",
   "execution_count": 13,
   "id": "dda65de5",
   "metadata": {},
   "outputs": [
    {
     "data": {
      "text/plain": [
       "headlines    0\n",
       "text         0\n",
       "dtype: int64"
      ]
     },
     "execution_count": 13,
     "metadata": {},
     "output_type": "execute_result"
    }
   ],
   "source": [
    "# Check null value\n",
    "data.isnull().sum()"
   ]
  },
  {
   "cell_type": "markdown",
   "id": "8d10c0a4",
   "metadata": {},
   "source": [
    "### 1-5-1. Visulaization preprocessing result"
   ]
  },
  {
   "cell_type": "code",
   "execution_count": 14,
   "id": "2a569d20",
   "metadata": {},
   "outputs": [
    {
     "name": "stdout",
     "output_type": "stream",
     "text": [
      "min of text : 1\n",
      "max of text : 60\n",
      "avg of text : 35.09968483123221\n",
      "std dev of text : 3.7993861876499637\n",
      "min of headlines : 1\n",
      "max of headlines : 13\n",
      "avg of headlines : 7.136183407889386\n",
      "std dev of text : 1.1624147471716224\n"
     ]
    },
    {
     "data": {
      "image/png": "[encoded data removed]",
      "text/plain": [
       "<Figure size 432x288 with 2 Axes>"
      ]
     },
     "metadata": {
      "needs_background": "light"
     },
     "output_type": "display_data"
    },
    {
     "data": {
      "image/png": "[encoded data removed]",
      "text/plain": [
       "<Figure size 432x288 with 1 Axes>"
      ]
     },
     "metadata": {
      "needs_background": "light"
     },
     "output_type": "display_data"
    },
    {
     "data": {
      "image/png": "[encoded data removed]",
      "text/plain": [
       "<Figure size 432x288 with 1 Axes>"
      ]
     },
     "metadata": {
      "needs_background": "light"
     },
     "output_type": "display_data"
    }
   ],
   "source": [
    "text_len = [len(s.split()) for s in data['text']]\n",
    "headlines_len = [len(s.split()) for s in data['headlines']]\n",
    "\n",
    "print('min of text : {}'.format(np.min(text_len)))\n",
    "print('max of text : {}'.format(np.max(text_len)))\n",
    "print('avg of text : {}'.format(np.mean(text_len)))\n",
    "print('std dev of text : {}'.format(np.std(text_len)))\n",
    "print('min of headlines : {}'.format(np.min(headlines_len)))\n",
    "print('max of headlines : {}'.format(np.max(headlines_len)))\n",
    "print('avg of headlines : {}'.format(np.mean(headlines_len)))\n",
    "print('std dev of text : {}'.format(np.std(headlines_len)))\n",
    "\n",
    "plt.subplot(1,2,1)\n",
    "plt.boxplot(text_len)\n",
    "plt.title('Text')\n",
    "plt.subplot(1,2,2)\n",
    "plt.boxplot(headlines_len)\n",
    "plt.title('Headlines')\n",
    "plt.tight_layout()\n",
    "plt.show()\n",
    "\n",
    "plt.title('Text')\n",
    "plt.hist(text_len, bins = 40)\n",
    "plt.xlabel('length of samples')\n",
    "plt.ylabel('number of samples')\n",
    "plt.show()\n",
    "\n",
    "plt.title('Headlines')\n",
    "plt.hist(headlines_len, bins = 40)\n",
    "plt.xlabel('length of samples')\n",
    "plt.ylabel('number of samples')\n",
    "plt.show()"
   ]
  },
  {
   "cell_type": "markdown",
   "id": "05ec29c6",
   "metadata": {},
   "source": [
    "### 1-5-2. Configure max len of data"
   ]
  },
  {
   "cell_type": "code",
   "execution_count": 15,
   "id": "e6187980",
   "metadata": {},
   "outputs": [],
   "source": [
    "def print_proportion_below_threshold_len(max_len, nested_list):\n",
    "    count = 0\n",
    "    for s in nested_list:\n",
    "        if(len(s.split()) <= max_len):\n",
    "            count += 1\n",
    "    print('Proportion of samples with a length of %s or less among all samples: %s' % (max_len, (count / len(nested_list))))"
   ]
  },
  {
   "cell_type": "code",
   "execution_count": 16,
   "id": "6688d2e8",
   "metadata": {},
   "outputs": [
    {
     "name": "stdout",
     "output_type": "stream",
     "text": [
      "Proportion of samples with a length of 42 or less among all samples: 0.9750305002033347\n",
      "Proportion of samples with a length of 9 or less among all samples: 0.9826250508336722\n"
     ]
    }
   ],
   "source": [
    "text_max_len = 42\n",
    "headline_max_len = 9\n",
    "\n",
    "print_proportion_below_threshold_len(text_max_len, data['text'])\n",
    "print_proportion_below_threshold_len(headline_max_len,  data['headlines'])"
   ]
  },
  {
   "cell_type": "code",
   "execution_count": 17,
   "id": "2ff2a48b",
   "metadata": {},
   "outputs": [
    {
     "name": "stdout",
     "output_type": "stream",
     "text": [
      "Total number of data after configuring max len of data:  94367\n"
     ]
    }
   ],
   "source": [
    "data = data[data.apply(lambda row: len(row['text'].split()) <= text_max_len \n",
    "                       and len(row['headlines'].split()) <= headline_max_len, axis = 1)]\n",
    "print(\"Total number of data after configuring max len of data: \",len(data))"
   ]
  },
  {
   "cell_type": "code",
   "execution_count": 18,
   "id": "b33b4b14",
   "metadata": {},
   "outputs": [],
   "source": [
    "# copy data just in case\n",
    "temp_data = data.copy()"
   ]
  },
  {
   "cell_type": "markdown",
   "id": "eced0945",
   "metadata": {},
   "source": [
    "## 1-6. Create decoder dataset"
   ]
  },
  {
   "cell_type": "code",
   "execution_count": 19,
   "id": "efeff65d",
   "metadata": {},
   "outputs": [
    {
     "data": {
      "text/html": [
       "<div>\n",
       "<style scoped>\n",
       "    .dataframe tbody tr th:only-of-type {\n",
       "        vertical-align: middle;\n",
       "    }\n",
       "\n",
       "    .dataframe tbody tr th {\n",
       "        vertical-align: top;\n",
       "    }\n",
       "\n",
       "    .dataframe thead th {\n",
       "        text-align: right;\n",
       "    }\n",
       "</style>\n",
       "<table border=\"1\" class=\"dataframe\">\n",
       "  <thead>\n",
       "    <tr style=\"text-align: right;\">\n",
       "      <th></th>\n",
       "      <th>headlines</th>\n",
       "      <th>text</th>\n",
       "      <th>decoder_input</th>\n",
       "      <th>decoder_target</th>\n",
       "    </tr>\n",
       "  </thead>\n",
       "  <tbody>\n",
       "    <tr>\n",
       "      <th>0</th>\n",
       "      <td>upgrad learner switches career ml al salary hike</td>\n",
       "      <td>saurav kant alumnus upgrad iiit pg program mac...</td>\n",
       "      <td>sostoken upgrad learner switches career ml al ...</td>\n",
       "      <td>upgrad learner switches career ml al salary hi...</td>\n",
       "    </tr>\n",
       "    <tr>\n",
       "      <th>3</th>\n",
       "      <td>aegon life iterm insurance plan helps customer...</td>\n",
       "      <td>aegon life iterm insurance plan customers enjo...</td>\n",
       "      <td>sostoken aegon life iterm insurance plan helps...</td>\n",
       "      <td>aegon life iterm insurance plan helps customer...</td>\n",
       "    </tr>\n",
       "    <tr>\n",
       "      <th>4</th>\n",
       "      <td>known hirani yrs metoo claims true sonam</td>\n",
       "      <td>speaking sexual harassment allegations rajkuma...</td>\n",
       "      <td>sostoken known hirani yrs metoo claims true sonam</td>\n",
       "      <td>known hirani yrs metoo claims true sonam eostoken</td>\n",
       "    </tr>\n",
       "    <tr>\n",
       "      <th>5</th>\n",
       "      <td>rahat fateh ali khan denies getting notice smu...</td>\n",
       "      <td>pakistani singer rahat fateh ali khan denied r...</td>\n",
       "      <td>sostoken rahat fateh ali khan denies getting n...</td>\n",
       "      <td>rahat fateh ali khan denies getting notice smu...</td>\n",
       "    </tr>\n",
       "    <tr>\n",
       "      <th>6</th>\n",
       "      <td>india get lowest odi total new zealand</td>\n",
       "      <td>india recorded lowest odi total new zealand ge...</td>\n",
       "      <td>sostoken india get lowest odi total new zealand</td>\n",
       "      <td>india get lowest odi total new zealand eostoken</td>\n",
       "    </tr>\n",
       "  </tbody>\n",
       "</table>\n",
       "</div>"
      ],
      "text/plain": [
       "                                           headlines  \\\n",
       "0   upgrad learner switches career ml al salary hike   \n",
       "3  aegon life iterm insurance plan helps customer...   \n",
       "4           known hirani yrs metoo claims true sonam   \n",
       "5  rahat fateh ali khan denies getting notice smu...   \n",
       "6             india get lowest odi total new zealand   \n",
       "\n",
       "                                                text  \\\n",
       "0  saurav kant alumnus upgrad iiit pg program mac...   \n",
       "3  aegon life iterm insurance plan customers enjo...   \n",
       "4  speaking sexual harassment allegations rajkuma...   \n",
       "5  pakistani singer rahat fateh ali khan denied r...   \n",
       "6  india recorded lowest odi total new zealand ge...   \n",
       "\n",
       "                                       decoder_input  \\\n",
       "0  sostoken upgrad learner switches career ml al ...   \n",
       "3  sostoken aegon life iterm insurance plan helps...   \n",
       "4  sostoken known hirani yrs metoo claims true sonam   \n",
       "5  sostoken rahat fateh ali khan denies getting n...   \n",
       "6    sostoken india get lowest odi total new zealand   \n",
       "\n",
       "                                      decoder_target  \n",
       "0  upgrad learner switches career ml al salary hi...  \n",
       "3  aegon life iterm insurance plan helps customer...  \n",
       "4  known hirani yrs metoo claims true sonam eostoken  \n",
       "5  rahat fateh ali khan denies getting notice smu...  \n",
       "6    india get lowest odi total new zealand eostoken  "
      ]
     },
     "execution_count": 19,
     "metadata": {},
     "output_type": "execute_result"
    }
   ],
   "source": [
    "data['decoder_input'] = data['headlines'].apply(lambda x : 'sostoken ' + x)\n",
    "data['decoder_target'] = data['headlines'].apply(lambda x : x + ' eostoken')\n",
    "\n",
    "data.head()"
   ]
  },
  {
   "cell_type": "markdown",
   "id": "58d8c6a3",
   "metadata": {},
   "source": [
    "## 1-7. Devide data to train and test data"
   ]
  },
  {
   "cell_type": "code",
   "execution_count": 20,
   "id": "5177e541",
   "metadata": {},
   "outputs": [],
   "source": [
    "encoder_input = np.array(data['text'])\n",
    "decoder_input = np.array(data['decoder_input'])\n",
    "decoder_target = np.array(data['decoder_target'])"
   ]
  },
  {
   "cell_type": "markdown",
   "id": "81be3eda",
   "metadata": {},
   "source": [
    "### 1-7-1. Suffle dataset\n",
    "We should suffle dataset before applying it to the model, and it is a common practice in machine learning.  \n",
    "The reesona of suffling:  \n",
    " - Enhancing Generalization: Reducing Overfitting  \n",
    " - Ensuring Randomness  "
   ]
  },
  {
   "cell_type": "code",
   "execution_count": 21,
   "id": "d3a635c9",
   "metadata": {},
   "outputs": [],
   "source": [
    "# Suffle dataset\n",
    "indices = np.arange(encoder_input.shape[0])\n",
    "np.random.shuffle(indices)\n",
    "\n",
    "encoder_input = encoder_input[indices]\n",
    "decoder_input = decoder_input[indices]\n",
    "decoder_target = decoder_target[indices]"
   ]
  },
  {
   "cell_type": "markdown",
   "id": "91c44497",
   "metadata": {},
   "source": [
    "### 1-7-2. Divide dataset"
   ]
  },
  {
   "cell_type": "code",
   "execution_count": 22,
   "id": "8517b64b",
   "metadata": {},
   "outputs": [
    {
     "name": "stdout",
     "output_type": "stream",
     "text": [
      "Number of train_data : 66057\n",
      "Number of train_label : 66057\n",
      "Number of test_data : 28310\n",
      "Number of test_label : 28310\n"
     ]
    }
   ],
   "source": [
    "n_of_val = int(len(encoder_input)*0.3)\n",
    "\n",
    "encoder_input_train = encoder_input[:-n_of_val]\n",
    "decoder_input_train = decoder_input[:-n_of_val]\n",
    "decoder_target_train = decoder_target[:-n_of_val]\n",
    "\n",
    "encoder_input_test = encoder_input[-n_of_val:]\n",
    "decoder_input_test = decoder_input[-n_of_val:]\n",
    "decoder_target_test = decoder_target[-n_of_val:]\n",
    "\n",
    "print('Number of train_data :', len(encoder_input_train))\n",
    "print('Number of train_label :', len(decoder_input_train))\n",
    "print('Number of test_data :', len(encoder_input_test))\n",
    "print('Number of test_label :', len(decoder_input_test))"
   ]
  },
  {
   "cell_type": "markdown",
   "id": "a54f17b7",
   "metadata": {},
   "source": [
    "## 1-8. Preprocessing devieded encoding & decoding train data"
   ]
  },
  {
   "cell_type": "markdown",
   "id": "1886e579",
   "metadata": {},
   "source": [
    "### 1-8-1. Delete rare data"
   ]
  },
  {
   "cell_type": "code",
   "execution_count": 23,
   "id": "1f6e6632",
   "metadata": {},
   "outputs": [],
   "source": [
    "# Function for checking the propotion of rara data\n",
    "def print_info_of_raredata (threshold, tokenizer):\n",
    "    total_cnt = len(tokenizer.word_index)  # Total number of words in the vocabulary\n",
    "    rare_cnt = 0  # Count of words with frequency less than the threshold\n",
    "    total_freq = 0  # Total frequency of words in the training data\n",
    "    rare_freq = 0  # Total frequency of words with frequency less than the threshold\n",
    "\n",
    "    for key, value in tokenizer.word_counts.items():\n",
    "        total_freq = total_freq + value\n",
    "    \n",
    "        if(value < threshold):\n",
    "            rare_cnt += 1\n",
    "            rare_freq += value\n",
    "        \n",
    "\n",
    "    print('Vocabulary size:', total_cnt)\n",
    "    print('Number of rare words with a frequency of less than %s: %s' % (threshold - 1, rare_cnt))\n",
    "    print('Vocabulary size when excluding rare words: %s' % (total_cnt - rare_cnt))\n",
    "    print(\"Percentage of rare words in the vocabulary:\", (rare_cnt / total_cnt) * 100)\n",
    "    print(\"Percentage of total word frequency accounted for by rare words:\", (rare_freq / total_freq) * 100)"
   ]
  },
  {
   "cell_type": "code",
   "execution_count": 25,
   "id": "84e05434",
   "metadata": {},
   "outputs": [],
   "source": [
    "src_tokenizer = Tokenizer()\n",
    "\n",
    "# Create set of vocab in decoder_input_train\n",
    "src_tokenizer.fit_on_texts(encoder_input_train)"
   ]
  },
  {
   "cell_type": "code",
   "execution_count": 26,
   "id": "ba058ff9",
   "metadata": {},
   "outputs": [
    {
     "name": "stdout",
     "output_type": "stream",
     "text": [
      "Vocabulary size: 64061\n",
      "Number of rare words with a frequency of less than 6: 43840\n",
      "Vocabulary size when excluding rare words: 20221\n",
      "Percentage of rare words in the vocabulary: 68.4347731068825\n",
      "Percentage of total word frequency accounted for by rare words: 3.875217315716273\n"
     ]
    }
   ],
   "source": [
    "print_info_of_raredata(threshold=7, tokenizer=src_tokenizer)"
   ]
  },
  {
   "cell_type": "code",
   "execution_count": 27,
   "id": "ff10b475",
   "metadata": {},
   "outputs": [],
   "source": [
    "# Delete rare words in input\n",
    "src_vocab = 20221\n",
    "src_tokenizer = Tokenizer(num_words=src_vocab)\n",
    "src_tokenizer.fit_on_texts(encoder_input_train)"
   ]
  },
  {
   "cell_type": "code",
   "execution_count": 28,
   "id": "252e7fb8",
   "metadata": {},
   "outputs": [],
   "source": [
    "tar_tokenizer = Tokenizer()\n",
    "\n",
    "# Create set of vocab in decoder_input_train\n",
    "tar_tokenizer.fit_on_texts(decoder_input_train)"
   ]
  },
  {
   "cell_type": "code",
   "execution_count": 29,
   "id": "5e9771b7",
   "metadata": {},
   "outputs": [
    {
     "name": "stdout",
     "output_type": "stream",
     "text": [
      "Vocabulary size: 27870\n",
      "Number of rare words with a frequency of less than 6: 19364\n",
      "Vocabulary size when excluding rare words: 8506\n",
      "Percentage of rare words in the vocabulary: 69.47972730534624\n",
      "Percentage of total word frequency accounted for by rare words: 7.5629180551049835\n"
     ]
    }
   ],
   "source": [
    "print_info_of_raredata(threshold=7, tokenizer=tar_tokenizer)"
   ]
  },
  {
   "cell_type": "code",
   "execution_count": 30,
   "id": "39e271fa",
   "metadata": {},
   "outputs": [],
   "source": [
    "# Delete rare words in output\n",
    "tar_vocab = 8506\n",
    "tar_tokenizer = Tokenizer(num_words=tar_vocab)\n",
    "tar_tokenizer.fit_on_texts(decoder_input_train)\n",
    "tar_tokenizer.fit_on_texts(decoder_target_train)"
   ]
  },
  {
   "cell_type": "markdown",
   "id": "52aa15dd",
   "metadata": {},
   "source": [
    "### 1-8-2. Convert text to int"
   ]
  },
  {
   "cell_type": "code",
   "execution_count": 31,
   "id": "5109d123",
   "metadata": {},
   "outputs": [],
   "source": [
    "encoder_input_train = src_tokenizer.texts_to_sequences(encoder_input_train) \n",
    "encoder_input_test = src_tokenizer.texts_to_sequences(encoder_input_test)"
   ]
  },
  {
   "cell_type": "code",
   "execution_count": 32,
   "id": "87cc4b12",
   "metadata": {},
   "outputs": [
    {
     "name": "stdout",
     "output_type": "stream",
     "text": [
      "[[297, 741, 1041, 2, 104, 135, 15, 2338, 49, 1, 2754, 840, 1783, 104, 117, 1957, 336, 2338, 795, 2359, 3659, 4415, 600, 8, 26, 1, 126, 521, 324, 1395, 12, 5118], [422, 1995, 16, 9223, 7104, 8365, 591, 64, 62, 91, 1392, 2812, 370, 51, 12040, 8527, 7104, 65, 5119, 2374, 167, 397, 185, 11, 22, 379, 4171, 422, 1995, 591, 2260, 9889, 503, 3158, 8527, 51, 4603, 1392], [9649, 1207, 12041, 585, 14533, 17672, 2116, 5120, 3247, 1127, 189, 425, 575, 190, 3457, 3323, 2595, 2866, 891, 2279, 2116, 6021, 791, 315, 8056]]\n"
     ]
    }
   ],
   "source": [
    "print(encoder_input_train[:3])"
   ]
  },
  {
   "cell_type": "code",
   "execution_count": 33,
   "id": "41070b56",
   "metadata": {},
   "outputs": [
    {
     "name": "stdout",
     "output_type": "stream",
     "text": [
      "input\n",
      "input  [[1, 3879, 33, 78, 2452, 531, 858, 2851], [1, 423, 784, 105, 477, 209, 707, 1063], [1, 6760, 532, 545, 171, 2923, 3086], [1, 1086, 1952, 3631, 715, 1993, 670], [1, 5, 7836, 12, 419, 442, 6340, 802, 452, 1064]]\n",
      "target\n",
      "decoder  [[3879, 33, 78, 2452, 531, 858, 2851, 2], [423, 784, 105, 477, 209, 707, 1063, 2], [6760, 532, 545, 171, 2923, 3086, 2], [1086, 1952, 3631, 715, 1993, 670, 2], [5, 7836, 12, 419, 442, 6340, 802, 452, 1064, 2]]\n"
     ]
    }
   ],
   "source": [
    "decoder_input_train = tar_tokenizer.texts_to_sequences(decoder_input_train) \n",
    "decoder_target_train = tar_tokenizer.texts_to_sequences(decoder_target_train)\n",
    "decoder_input_test = tar_tokenizer.texts_to_sequences(decoder_input_test)\n",
    "decoder_target_test = tar_tokenizer.texts_to_sequences(decoder_target_test)\n",
    "\n",
    "print('input')\n",
    "print('input ',decoder_input_train[:5])\n",
    "print('target')\n",
    "print('decoder ',decoder_target_train[:5])"
   ]
  },
  {
   "cell_type": "markdown",
   "id": "dd691789",
   "metadata": {},
   "source": [
    "### 1-8-3. Delete empy data on target data (because of deleting rare word)"
   ]
  },
  {
   "cell_type": "code",
   "execution_count": 34,
   "id": "b2a84510",
   "metadata": {
    "scrolled": true
   },
   "outputs": [
    {
     "name": "stdout",
     "output_type": "stream",
     "text": [
      "Number of training data to be removed: 1\n",
      "Number of test data to be removed: 2\n",
      "Number of training data: 66056\n",
      "Number of training labels: 66056\n",
      "Number of test data: 28308\n",
      "Number of test labels: 28308\n"
     ]
    }
   ],
   "source": [
    "# Create index list consisting of sostoken and eostoken\n",
    "drop_train = [index for index, sentence in enumerate(decoder_input_train) if len(sentence) == 1]\n",
    "drop_test = [index for index, sentence in enumerate(decoder_input_test) if len(sentence) == 1]\n",
    "\n",
    "print('Number of training data to be removed:', len(drop_train))\n",
    "print('Number of test data to be removed:', len(drop_test))\n",
    "\n",
    "encoder_input_train = [sentence for index, sentence in enumerate(encoder_input_train) if index not in drop_train]\n",
    "decoder_input_train = [sentence for index, sentence in enumerate(decoder_input_train) if index not in drop_train]\n",
    "decoder_target_train = [sentence for index, sentence in enumerate(decoder_target_train) if index not in drop_train]\n",
    "\n",
    "encoder_input_test = [sentence for index, sentence in enumerate(encoder_input_test) if index not in drop_test]\n",
    "decoder_input_test = [sentence for index, sentence in enumerate(decoder_input_test) if index not in drop_test]\n",
    "decoder_target_test = [sentence for index, sentence in enumerate(decoder_target_test) if index not in drop_test]\n",
    "\n",
    "print('Number of training data:', len(encoder_input_train))\n",
    "print('Number of training labels:', len(decoder_input_train))\n",
    "print('Number of test data:', len(encoder_input_test))\n",
    "print('Number of test labels:', len(decoder_input_test))"
   ]
  },
  {
   "cell_type": "markdown",
   "id": "93635f04",
   "metadata": {},
   "source": [
    "### 1-8-4. Insert padding "
   ]
  },
  {
   "cell_type": "code",
   "execution_count": 35,
   "id": "96aa2ead",
   "metadata": {},
   "outputs": [],
   "source": [
    "encoder_input_train = pad_sequences(encoder_input_train, maxlen=text_max_len, padding='pre')\n",
    "encoder_input_test = pad_sequences(encoder_input_test, maxlen=text_max_len, padding='pre')\n",
    "decoder_input_train = pad_sequences(decoder_input_train, maxlen=headline_max_len, padding='pre')\n",
    "decoder_target_train = pad_sequences(decoder_target_train, maxlen=headline_max_len, padding='pre')\n",
    "decoder_input_test = pad_sequences(decoder_input_test, maxlen=headline_max_len, padding='pre')\n",
    "decoder_target_test = pad_sequences(decoder_target_test, maxlen=headline_max_len, padding='pre')"
   ]
  },
  {
   "cell_type": "markdown",
   "id": "51ae4b28",
   "metadata": {},
   "source": [
    "# 2. Create, trian and test the Model"
   ]
  },
  {
   "cell_type": "markdown",
   "id": "820ab7f5",
   "metadata": {},
   "source": [
    "## 2-1. Create the Model\n",
    "![img1](asset/img1.jpeg)\n",
    "### 2-1-1. Create encoder"
   ]
  },
  {
   "cell_type": "code",
   "execution_count": 37,
   "id": "0f00cfc6",
   "metadata": {},
   "outputs": [],
   "source": [
    "from tensorflow.keras.layers import Input, LSTM, Embedding, Dense, Concatenate, TimeDistributed\n",
    "from tensorflow.keras.models import Model\n",
    "from tensorflow.keras.callbacks import EarlyStopping, ModelCheckpoint\n",
    "\n",
    "embedding_dim = 128\n",
    "hidden_size = 256\n",
    "\n",
    "encoder_inputs = Input(shape=(text_max_len,))\n",
    "\n",
    "# Encoder's Embedding Layer\n",
    "enc_emb = Embedding(src_vocab, embedding_dim)(encoder_inputs)\n",
    "\n",
    "# Encoder's LSTM 1\n",
    "encoder_lstm1 = LSTM(hidden_size, return_sequences=True, return_state=True, dropout=0.4)\n",
    "encoder_output1, state_h1, state_c1 = encoder_lstm1(enc_emb)\n",
    "\n",
    "# Encoder's LSTM 2\n",
    "encoder_lstm2 = LSTM(hidden_size, return_sequences=True, return_state=True, dropout=0.4)\n",
    "encoder_output2, state_h2, state_c2 = encoder_lstm2(encoder_output1)  \n",
    "\n",
    "# Encoder's LSTM 3\n",
    "encoder_lstm3 = LSTM(hidden_size, return_sequences=True, return_state=True, dropout=0.4)\n",
    "encoder_output3, state_h3, state_c3 = encoder_lstm3(encoder_output2)"
   ]
  },
  {
   "cell_type": "markdown",
   "id": "c39b8ad1",
   "metadata": {},
   "source": [
    "### 2-1-1. Create decoder"
   ]
  },
  {
   "cell_type": "code",
   "execution_count": 38,
   "id": "bb157ba5",
   "metadata": {},
   "outputs": [
    {
     "name": "stdout",
     "output_type": "stream",
     "text": [
      "Model: \"model\"\n",
      "__________________________________________________________________________________________________\n",
      "Layer (type)                    Output Shape         Param #     Connected to                     \n",
      "==================================================================================================\n",
      "input_1 (InputLayer)            [(None, 42)]         0                                            \n",
      "__________________________________________________________________________________________________\n",
      "embedding (Embedding)           (None, 42, 128)      2588288     input_1[0][0]                    \n",
      "__________________________________________________________________________________________________\n",
      "lstm (LSTM)                     [(None, 42, 256), (N 394240      embedding[0][0]                  \n",
      "__________________________________________________________________________________________________\n",
      "input_2 (InputLayer)            [(None, None)]       0                                            \n",
      "__________________________________________________________________________________________________\n",
      "lstm_1 (LSTM)                   [(None, 42, 256), (N 525312      lstm[0][0]                       \n",
      "__________________________________________________________________________________________________\n",
      "embedding_1 (Embedding)         (None, None, 128)    1088768     input_2[0][0]                    \n",
      "__________________________________________________________________________________________________\n",
      "lstm_2 (LSTM)                   [(None, 42, 256), (N 525312      lstm_1[0][0]                     \n",
      "__________________________________________________________________________________________________\n",
      "lstm_3 (LSTM)                   [(None, None, 256),  394240      embedding_1[0][0]                \n",
      "                                                                 lstm_2[0][1]                     \n",
      "                                                                 lstm_2[0][2]                     \n",
      "__________________________________________________________________________________________________\n",
      "dense (Dense)                   (None, None, 8506)   2186042     lstm_3[0][0]                     \n",
      "==================================================================================================\n",
      "Total params: 7,702,202\n",
      "Trainable params: 7,702,202\n",
      "Non-trainable params: 0\n",
      "__________________________________________________________________________________________________\n"
     ]
    }
   ],
   "source": [
    "# Decoder Design\n",
    "decoder_inputs = Input(shape=(None,))\n",
    "\n",
    "# Decoder's Embedding Layer\n",
    "dec_emb_layer = Embedding(tar_vocab, embedding_dim)\n",
    "dec_emb = dec_emb_layer(decoder_inputs)\n",
    "\n",
    "# Decoder's LSTM Layer\n",
    "decoder_lstm = LSTM(hidden_size, return_sequences=True, return_state=True, dropout=0.4)\n",
    "decoder_outputs, _, _ = decoder_lstm(dec_emb, initial_state=[state_h3, state_c3])\n",
    "\n",
    "# Decoder's Output Layer\n",
    "decoder_softmax_layer = Dense(tar_vocab, activation='softmax')\n",
    "decoder_softmax_outputs = decoder_softmax_layer(decoder_outputs)\n",
    "\n",
    "# Model Definition\n",
    "model = Model([encoder_inputs, decoder_inputs], decoder_softmax_outputs)\n",
    "model.summary()"
   ]
  },
  {
   "cell_type": "markdown",
   "id": "a0868420",
   "metadata": {},
   "source": [
    "Apply attention mechanism  \n",
    "    ![img2](asset/img2.jpeg)"
   ]
  },
  {
   "cell_type": "code",
   "execution_count": 40,
   "id": "026eafd4",
   "metadata": {},
   "outputs": [
    {
     "name": "stdout",
     "output_type": "stream",
     "text": [
      "Model: \"model_2\"\n",
      "__________________________________________________________________________________________________\n",
      "Layer (type)                    Output Shape         Param #     Connected to                     \n",
      "==================================================================================================\n",
      "input_1 (InputLayer)            [(None, 42)]         0                                            \n",
      "__________________________________________________________________________________________________\n",
      "embedding (Embedding)           (None, 42, 128)      2588288     input_1[0][0]                    \n",
      "__________________________________________________________________________________________________\n",
      "lstm (LSTM)                     [(None, 42, 256), (N 394240      embedding[0][0]                  \n",
      "__________________________________________________________________________________________________\n",
      "input_2 (InputLayer)            [(None, None)]       0                                            \n",
      "__________________________________________________________________________________________________\n",
      "lstm_1 (LSTM)                   [(None, 42, 256), (N 525312      lstm[0][0]                       \n",
      "__________________________________________________________________________________________________\n",
      "embedding_1 (Embedding)         (None, None, 128)    1088768     input_2[0][0]                    \n",
      "__________________________________________________________________________________________________\n",
      "lstm_2 (LSTM)                   [(None, 42, 256), (N 525312      lstm_1[0][0]                     \n",
      "__________________________________________________________________________________________________\n",
      "lstm_3 (LSTM)                   [(None, None, 256),  394240      embedding_1[0][0]                \n",
      "                                                                 lstm_2[0][1]                     \n",
      "                                                                 lstm_2[0][2]                     \n",
      "__________________________________________________________________________________________________\n",
      "attention_layer (AdditiveAttent (None, None, 256)    256         lstm_3[0][0]                     \n",
      "                                                                 lstm_2[0][0]                     \n",
      "__________________________________________________________________________________________________\n",
      "concat_layer (Concatenate)      (None, None, 512)    0           lstm_3[0][0]                     \n",
      "                                                                 attention_layer[0][0]            \n",
      "__________________________________________________________________________________________________\n",
      "dense_2 (Dense)                 (None, None, 8506)   4363578     concat_layer[0][0]               \n",
      "==================================================================================================\n",
      "Total params: 9,879,994\n",
      "Trainable params: 9,879,994\n",
      "Non-trainable params: 0\n",
      "__________________________________________________________________________________________________\n"
     ]
    }
   ],
   "source": [
    "from tensorflow.keras.layers import AdditiveAttention\n",
    "\n",
    "# Attention Layer (Attention Function)\n",
    "attn_layer = AdditiveAttention(name='attention_layer')\n",
    "\n",
    "# Pass the hidden states of all time steps from the encoder and decoder to the attention layer\n",
    "attn_out = attn_layer([decoder_outputs, encoder_output3])\n",
    "\n",
    "# Connect the output of the attention mechanism with the decoder's hidden states\n",
    "decoder_concat_input = Concatenate(axis=-1, name='concat_layer')([decoder_outputs, attn_out])\n",
    "\n",
    "# Decoder's Output Layer\n",
    "decoder_softmax_layer = Dense(tar_vocab, activation='softmax')\n",
    "decoder_softmax_outputs = decoder_softmax_layer(decoder_concat_input)\n",
    "\n",
    "# Model Definition\n",
    "model = Model([encoder_inputs, decoder_inputs], decoder_softmax_outputs)\n",
    "model.summary()"
   ]
  },
  {
   "cell_type": "markdown",
   "id": "47cce187",
   "metadata": {},
   "source": [
    "## 2-2. Train the Model"
   ]
  },
  {
   "cell_type": "code",
   "execution_count": 41,
   "id": "e6964060",
   "metadata": {},
   "outputs": [
    {
     "name": "stdout",
     "output_type": "stream",
     "text": [
      "Epoch 1/50\n",
      "259/259 [==============================] - 57s 87ms/step - loss: 5.9570 - val_loss: 5.6313\n",
      "Epoch 2/50\n",
      "259/259 [==============================] - 21s 83ms/step - loss: 5.7444 - val_loss: 5.5584\n",
      "Epoch 3/50\n",
      "259/259 [==============================] - 22s 84ms/step - loss: 5.5797 - val_loss: 5.3476\n",
      "Epoch 4/50\n",
      "259/259 [==============================] - 22s 85ms/step - loss: 5.2831 - val_loss: 5.1798\n",
      "Epoch 5/50\n",
      "259/259 [==============================] - 22s 84ms/step - loss: 5.0313 - val_loss: 4.9653\n",
      "Epoch 6/50\n",
      "259/259 [==============================] - 22s 84ms/step - loss: 4.7895 - val_loss: 4.7822\n",
      "Epoch 7/50\n",
      "259/259 [==============================] - 22s 84ms/step - loss: 4.5774 - val_loss: 4.6291\n",
      "Epoch 8/50\n",
      "259/259 [==============================] - 22s 84ms/step - loss: 4.3944 - val_loss: 4.5485\n",
      "Epoch 9/50\n",
      "259/259 [==============================] - 22s 84ms/step - loss: 4.2345 - val_loss: 4.4244\n",
      "Epoch 10/50\n",
      "259/259 [==============================] - 22s 84ms/step - loss: 4.0886 - val_loss: 4.3602\n",
      "Epoch 11/50\n",
      "259/259 [==============================] - 22s 84ms/step - loss: 3.9623 - val_loss: 4.3024\n",
      "Epoch 12/50\n",
      "259/259 [==============================] - 22s 84ms/step - loss: 3.8422 - val_loss: 4.2325\n",
      "Epoch 13/50\n",
      "259/259 [==============================] - 22s 84ms/step - loss: 3.7376 - val_loss: 4.1808\n",
      "Epoch 14/50\n",
      "259/259 [==============================] - 22s 84ms/step - loss: 3.6312 - val_loss: 4.1634\n",
      "Epoch 15/50\n",
      "259/259 [==============================] - 22s 84ms/step - loss: 3.5333 - val_loss: 4.1249\n",
      "Epoch 16/50\n",
      "259/259 [==============================] - 22s 84ms/step - loss: 3.4465 - val_loss: 4.0762\n",
      "Epoch 17/50\n",
      "259/259 [==============================] - 22s 84ms/step - loss: 3.3633 - val_loss: 4.0737\n",
      "Epoch 18/50\n",
      "259/259 [==============================] - 22s 84ms/step - loss: 3.2859 - val_loss: 4.0452\n",
      "Epoch 19/50\n",
      "259/259 [==============================] - 22s 84ms/step - loss: 3.2138 - val_loss: 4.0328\n",
      "Epoch 20/50\n",
      "259/259 [==============================] - 22s 84ms/step - loss: 3.1418 - val_loss: 4.0093\n",
      "Epoch 21/50\n",
      "259/259 [==============================] - 22s 84ms/step - loss: 3.0715 - val_loss: 3.9931\n",
      "Epoch 22/50\n",
      "259/259 [==============================] - 22s 84ms/step - loss: 3.0080 - val_loss: 3.9995\n",
      "Epoch 23/50\n",
      "259/259 [==============================] - 22s 84ms/step - loss: 2.9492 - val_loss: 3.9962\n",
      "Epoch 00023: early stopping\n"
     ]
    }
   ],
   "source": [
    "model.compile(optimizer='rmsprop', loss='sparse_categorical_crossentropy')\n",
    "es = EarlyStopping(monitor='val_loss', patience=2, verbose=1)\n",
    "history = model.fit(x=[encoder_input_train, decoder_input_train], y=decoder_target_train, \\\n",
    "          validation_data=([encoder_input_test, decoder_input_test], decoder_target_test), \\\n",
    "          batch_size=256, callbacks=[es], epochs=50)"
   ]
  },
  {
   "cell_type": "markdown",
   "id": "68f3971c",
   "metadata": {},
   "source": [
    "### 2-2-1. Visulaization the result"
   ]
  },
  {
   "cell_type": "code",
   "execution_count": 42,
   "id": "40d25cf5",
   "metadata": {},
   "outputs": [
    {
     "data": {
      "image/png": "[encoded data removed]",
      "text/plain": [
       "<Figure size 432x288 with 1 Axes>"
      ]
     },
     "metadata": {
      "needs_background": "light"
     },
     "output_type": "display_data"
    }
   ],
   "source": [
    "plt.plot(history.history['loss'], label='train')\n",
    "plt.plot(history.history['val_loss'], label='test')\n",
    "plt.legend()\n",
    "plt.show()"
   ]
  },
  {
   "cell_type": "markdown",
   "id": "7b029527",
   "metadata": {},
   "source": [
    "## 2-3. Test the Model\n",
    "### 2-3-1.  Create the final step for coverting result of testing model"
   ]
  },
  {
   "cell_type": "code",
   "execution_count": 45,
   "id": "cada077a",
   "metadata": {},
   "outputs": [],
   "source": [
    "# Encoder design\n",
    "encoder_model = Model(inputs=encoder_inputs, outputs=[encoder_output3, state_h3, state_c3])\n",
    "\n",
    "# Tensors to store the previous time step states\n",
    "decoder_state_input_h = Input(shape=(hidden_size,))\n",
    "decoder_state_input_c = Input(shape=(hidden_size,))\n",
    "\n",
    "dec_emb2 = dec_emb_layer(decoder_inputs)\n",
    "\n",
    "decoder_outputs2, state_h2, state_c2 = decoder_lstm(dec_emb2, initial_state=[decoder_state_input_h, decoder_state_input_c])"
   ]
  },
  {
   "cell_type": "code",
   "execution_count": 46,
   "id": "b1dccebd",
   "metadata": {},
   "outputs": [],
   "source": [
    "# Attention Function\n",
    "decoder_hidden_state_input = Input(shape=(text_max_len, hidden_size))\n",
    "attn_out_inf = attn_layer([decoder_outputs2, decoder_hidden_state_input])\n",
    "decoder_inf_concat = Concatenate(axis=-1, name='concat')([decoder_outputs2, attn_out_inf])\n",
    "\n",
    "# Decoder's Output Layer\n",
    "decoder_outputs2 = decoder_softmax_layer(decoder_inf_concat)\n",
    "\n",
    "# Final Decoder Model\n",
    "decoder_model = Model(\n",
    "    [decoder_inputs] + [decoder_hidden_state_input, decoder_state_input_h, decoder_state_input_c],\n",
    "    [decoder_outputs2] + [state_h2, state_c2])"
   ]
  },
  {
   "cell_type": "code",
   "execution_count": 47,
   "id": "983b89af",
   "metadata": {},
   "outputs": [],
   "source": [
    "src_index_to_word = src_tokenizer.index_word\n",
    "tar_word_to_index = tar_tokenizer.word_index\n",
    "tar_index_to_word = tar_tokenizer.index_word\n",
    "\n",
    "def decode_sequence(input_seq):\n",
    "    # Obtain the encoder's states from the input\n",
    "    e_out, e_h, e_c = encoder_model.predict(input_seq)\n",
    "\n",
    "    # Generate the token for <SOS> (Start of Sentence)\n",
    "    target_seq = np.zeros((1, 1))\n",
    "    target_seq[0, 0] = tar_word_to_index['sostoken']\n",
    "\n",
    "    stop_condition = False\n",
    "    decoded_sentence = ''\n",
    "    while not stop_condition:  # Continue the loop until stop_condition becomes True\n",
    "\n",
    "        # Predict the next token in the sequence using the decoder model\n",
    "        output_tokens, h, c = decoder_model.predict([target_seq] + [e_out, e_h, e_c])\n",
    "        sampled_token_index = np.argmax(output_tokens[0, -1, :])\n",
    "        sampled_token = tar_index_to_word[sampled_token_index]\n",
    "\n",
    "        if sampled_token != 'eostoken':\n",
    "            decoded_sentence += ' ' + sampled_token\n",
    "\n",
    "        # Stop when <eos> is reached or maximum length is exceeded\n",
    "        if sampled_token == 'eostoken' or len(decoded_sentence.split()) >= (headline_max_len - 1):\n",
    "            stop_condition = True\n",
    "\n",
    "        # Update the target sequence with a length-1 token\n",
    "        target_seq = np.zeros((1, 1))\n",
    "        target_seq[0, 0] = sampled_token_index\n",
    "\n",
    "        # Update the states\n",
    "        e_h, e_c = h, c\n",
    "\n",
    "    return decoded_sentence"
   ]
  },
  {
   "cell_type": "code",
   "execution_count": 48,
   "id": "7ec945fc",
   "metadata": {},
   "outputs": [],
   "source": [
    "# Convert the integer sequence of the original text to a text sequence\n",
    "def seq2text(input_seq):\n",
    "    temp = ''\n",
    "    for i in input_seq:\n",
    "        if i != 0:\n",
    "            temp = temp + src_index_to_word[i] + ' '\n",
    "    return temp\n",
    "\n",
    "# Convert the integer sequence of the summary to a text sequence\n",
    "def seq2summary(input_seq):\n",
    "    temp = ''\n",
    "    for i in input_seq:\n",
    "        if i == 1:\n",
    "            temp = temp + ''\n",
    "        elif i == 2:\n",
    "            temp = temp + ''\n",
    "        elif i != 0:\n",
    "            temp = temp + tar_index_to_word[i] + ' '\n",
    "    return temp"
   ]
  },
  {
   "cell_type": "code",
   "execution_count": 49,
   "id": "9a5dd927",
   "metadata": {},
   "outputs": [
    {
     "name": "stdout",
     "output_type": "stream",
     "text": [
      "Original Text : talking ball tampering scandal banned australian cricketer steve smith said could stopped negative outcome happened middle witnessed planned dressing room said guys stop smith said failure leadership taken responsibility added \n",
      "Actual Summary : said stop smith ball tampering \n",
      "Predicted Summary :  smith slams australian captain ban smith warner ban\n",
      "\n",
      "\n",
      "Original Text : year old man hyderabad monday surrendered police allegedly killing wife two children fit rage man reportedly lost job technician dental clinic depressed ever since killed wife reportedly kept matter mocked \n",
      "Actual Summary : hyd man surrenders cops murdering wife kids \n",
      "Predicted Summary :  man kills wife death jail killing wife\n",
      "\n",
      "\n",
      "Original Text : five mobile phones recovered police gurugram jail since wednesday comes several complaints alleged criminals making extortion calls inside jail notably mobile phones sim cards recovered inmates jail day long search june year \n",
      "Actual Summary : mobile phones recovered gurugram jail \n",
      "Predicted Summary :  cops noida shelter fire noida police scam cases\n",
      "\n",
      "\n",
      "Original Text : organisers sweden largest music festival ended event permanently following reports sexual assault rape four day music festival cancelled year cases sexual assault reported cannot develop festival way want relevant visitors future organisers said \n",
      "Actual Summary : largest swedish music fest scrapped sex assault claims \n",
      "Predicted Summary :  women raped sexual harassment victims women body body\n",
      "\n",
      "\n",
      "Original Text : noida authority officials said lodge firs seeking donations social networking sites animals animal shelter noida accused allegedly fooled people saying government stopped paying salary staff officials however said lakh allocated per month running animal shelter \n",
      "Actual Summary : fir seeking donations noida animal shelter \n",
      "Predicted Summary :  noida police orders cctv cameras shut noida noida\n",
      "\n",
      "\n",
      "Original Text : staff manchester united home ground old trafford forced protect computers premises visiting fans damaged bathroom led water leaking offices situated underneath fans visiting teams given tickets east stand upper cup clashes old trafford \n",
      "Actual Summary : stadium workers forced protect computers toilet leak \n",
      "Predicted Summary :  couple makes selfies save people free safety us\n",
      "\n",
      "\n",
      "Original Text : team india batsman cheteshwar pujara smashed th test hundred second ongoing four match series third test melbourne thursday second time career pujara hit multiple hundreds away test series innings year old also reached away runs test cricket \n",
      "Actual Summary : pujara smashes hundreds away test series nd time \n",
      "Predicted Summary :  pujara scores ton st test ton last year\n",
      "\n",
      "\n",
      "Original Text : rjd chief lalu prasad asked senior bihar bjp leader sushil kumar modi wear saffron robe ears shave head look like uttar pradesh chief minister yogi adityanath claiming may derive benefits party lalu mocked invited adityanath swearing ceremony \n",
      "Actual Summary : sushil modi shave head look like yogi lalu \n",
      "Predicted Summary :  bjp trying remove tejashwi yadav vande mataram tejashwi\n",
      "\n",
      "\n",
      "Original Text : actor akshay kumar talking incident childhood revealed touched inappropriately elevator operator akshay added since good communication parents told incident akshay said father filed complaint man later arrested found offender \n",
      "Actual Summary : touched man child akshay \n",
      "Predicted Summary :  akshay kumar gets engaged tv show reality show\n",
      "\n",
      "\n",
      "Original Text : uber paid hackers stole personal data million accounts last year delete data keep breach secret company revealed tuesday uber also fired chief security officer deputy incident breach however reveal users social security numbers credit card information trip details \n",
      "Actual Summary : uber paid hide hack affected mn users \n",
      "Predicted Summary :  uber denies sharing sharing data breach sharing report\n",
      "\n",
      "\n",
      "Original Text : international cricket council appointed air asia former chief financial officer ankur khanna new cfo khanna join icc dubai end march leaving air asia india held post last one year prior air asia india khanna worked senior roles air france klm itc \n",
      "Actual Summary : icc names ex air asia cfo khanna cfo \n",
      "Predicted Summary :  icc appoints new cricket coach appointed new cricket\n",
      "\n",
      "\n",
      "Original Text : pictures continuing play wildfire behind emerged online playing beacon rock golf course washington sits right across river acre eagle creek fire burning committed finishing round read post beacon rock golf course \n",
      "Actual Summary : continue play acre burns behind \n",
      "Predicted Summary :  video shows baseball fans rams game thrones game\n",
      "\n",
      "\n",
      "Original Text : six us senators urged government designate pakistan country particular concern alleged violation religious freedom adding least people currently sentenced death serving life sentences blasphemy pakistan senators said discriminatory laws continue result prosecution individuals due faith \n",
      "Actual Summary : list pak country concern us \n",
      "Predicted Summary :  pak allows pak envoy ban kulbhushan jadhav issue\n",
      "\n",
      "\n",
      "Original Text : south korea prime minister lee said cryptocurrencies could lead teenagers get involved pyramid schemes drug crimes said students jumping market make money leading get fraudulent crime let things continue feel serious could occur added \n",
      "Actual Summary : cryptocurrency could lead teens drug crimes korea pm \n",
      "Predicted Summary :  president makes lakh people get crypto via app\n",
      "\n",
      "\n",
      "Original Text : delhi government tuesday approved policy pay crore compensation families martyrs belonging delhi personnel eligible scheme delhi permanent residence time joining scheme cover personnel serving armed forces paramilitary forces delhi police delhi fire services home guards among others \n",
      "Actual Summary : delhi govt give crore kin martyred jawans cops \n",
      "Predicted Summary :  delhi govt approves cr fine near ngt fund\n",
      "\n",
      "\n",
      "Original Text : music composer passed away age week severely injured accident killed year old daughter wife lakshmi also car hit tree returning visiting temple lakshmi driver recovering hospital \n",
      "Actual Summary : dies week car accident killed yr old \n",
      "Predicted Summary :  yr old dies accident victims passes away accident\n",
      "\n",
      "\n",
      "Original Text : us ambassador un nikki haley wednesday said every threat peace middle east connected iran behaviour us embarked course attempts address aspects iran destructive conduct haley added earlier us president donald trump announced decertify iran nuclear deal \n",
      "Actual Summary : every threat peace middle east connected iran us \n",
      "Predicted Summary :  us state urges us envoy us state secy\n",
      "\n",
      "\n",
      "Original Text : ride hailing startup uber introducing credit card called uber visa us give reward points users uber visa annual fee users earn spending within first days users able redeem points rides delivery cash back \n",
      "Actual Summary : uber introduces credit card give reward points us \n",
      "Predicted Summary :  uber talks uber make self driving cars india\n",
      "\n",
      "\n",
      "Original Text : lg air conditioners monsoon comfort technology specially designed ensure pleasant cooling right balance room temperature body temperature air movement air flow besides saving lot energy ocean black protection certified prevent units well years \n",
      "Actual Summary : lg air come monsoon technology \n",
      "Predicted Summary :  air india makes new ac air pollution\n",
      "\n",
      "\n",
      "Original Text : indian spinner ravindra jadeja thanked former indian captain ms dhoni current skipper virat kohli becoming number one ranked bowler rounder test cricket humble journey test bowler possible due msdhoni imvkohli fans family bcci icc teamindia read jadeja tweet \n",
      "Actual Summary : jadeja thanks dhoni kohli test rounder rank \n",
      "Predicted Summary :  kohli equals dhoni captain record rd test captain\n",
      "\n",
      "\n",
      "Original Text : us federal judge directed country immigration agency reunite migrant families separated crossed country illegally government ordered reunite parents children aged five within days older ones within days migrant children separated parents since may \n",
      "Actual Summary : judge orders us govt reunite separated migrant families \n",
      "Predicted Summary :  us judge orders us asylum era abuse victims\n",
      "\n",
      "\n",
      "Original Text : actor akshay kumar said south crore spent film publicity added reality shows many press meets like us release big films diwali akshay said new things seen cinema \n",
      "Actual Summary : cr spent film publicity south akshay \n"
     ]
    },
    {
     "name": "stdout",
     "output_type": "stream",
     "text": [
      "Predicted Summary :  akshay kumar make cr film industry industry films\n",
      "\n",
      "\n",
      "Original Text : mumbai metropolitan region development authority officials said mumbai specific plan integrated ticketing system ready december system plans smart card modes public transport city including suburban railways best bus services monorail mumbai metro network \n",
      "Actual Summary : mumbai one city one ticket plan ready dec \n",
      "Predicted Summary :  mumbai civic body cuts buses electric car buses\n",
      "\n",
      "\n",
      "Original Text : yuva sena chief thackeray asked brihanmumbai municipal corporation conduct feasibility study whether confiscated plastic used making roads public amenities thackeray proposal comes amid bmc ongoing efforts make markets plastic free many restaurants caf already committed use plastic straws bags said \n",
      "Actual Summary : sena chief proposes using plastic waste make roads \n",
      "Predicted Summary :  shiv sena asks delhi govt allow liquor service\n",
      "\n",
      "\n",
      "Original Text : video showing actress priyanka chopra husband american singer nick jonas dancing song desi girl surfaced online couple hosted third wedding reception taj lands end mumbai thursday night many bollywood celebrities including ranveer singh deepika padukone salman khan anushka sharma attended reception \n",
      "Actual Summary : priyanka nick dance girl wedding reception \n",
      "Predicted Summary :  priyanka nick shares pic priyanka nick wedding ceremony\n",
      "\n",
      "\n",
      "Original Text : slow possible musical piece late american composer john cage started scheduled end making longest known musical performance lasting years organ performance held church germany performance lasted minutes premiered \n",
      "Actual Summary : longest musical performance end \n",
      "Predicted Summary :  th century ii ii ii ii st time\n",
      "\n",
      "\n",
      "Original Text : aam aadmi party asked supporters donate show support cm arvind kejriwal invited inauguration delhi metro magenta line share sentiments blood also email sent aap outreach read metro line inaugurated pm narendra modi december \n",
      "Actual Summary : aap seeks donations metro snub cm kejriwal \n",
      "Predicted Summary :  aap delhi cm kejriwal delhi cm kejriwal day\n",
      "\n",
      "\n",
      "Original Text : year old church colorado united states converted international church cannabis people consume weed together described first large venue world adults legally consume cannabis social environment scheduled open april currently seeking funds repairs development \n",
      "Actual Summary : year old church converted weed church us \n",
      "Predicted Summary :  year old human rights zoo get human trafficking\n",
      "\n",
      "\n",
      "Original Text : official trailer irrfan khan starrer karwaan released film also stars malayalam actor dulquer salmaan mithila palkar marks dulquer bollywood debut film reportedly story three people different walks life meeting road trip directed khurana karwaan scheduled release august \n",
      "Actual Summary : trailer irrfan khan starrer released \n",
      "Predicted Summary :  trailer trailer irrfan khan starrer mission released released\n",
      "\n",
      "\n",
      "Original Text : national investigation agency monday said examine court verdict mecca masjid blast case acquitting accused decide future course action special nia court acquitted accused lack evidence witnesses earlier testified accused retracted statements hearing \n",
      "Actual Summary : nia examine court verdict mecca masjid blast case \n",
      "Predicted Summary :  hc orders cbi probe probe anti romeo squads\n",
      "\n",
      "\n",
      "Original Text : group us maker cigarettes agreed invest billion stake canadian cannabis producer group also get warrants give option increase stake october canada became second country uruguay legalise possession use recreational marijuana \n",
      "Actual Summary : owner invest bn canadian marijuana producer \n",
      "Predicted Summary :  us firm buy stake buy stake bn reports\n",
      "\n",
      "\n",
      "Original Text : indian tennis player mahesh bhupathi said book launch leander paes achieved team cannot bhupathi called partnership paes special duo journey said kids outside top going world sure special \n",
      "Actual Summary : paes achieved \n",
      "Predicted Summary :  yr old girl reveals good part tv show\n",
      "\n",
      "\n",
      "Original Text : facebook expanding jobs feature search apply jobs directly platform countries including india job seekers visit www facebook jobs apply listed companies application would auto fill work history relevant information user facebook profile messenger window would open contact employer completion \n",
      "Actual Summary : one use facebook jobs feature launched india \n",
      "Predicted Summary :  fb may change new internet stores india report\n",
      "\n",
      "\n",
      "Original Text : french journalist arrested kashmir december violating visa passport regulations discharged tuesday police said paul edward business visa held found indulging activities including filming pellet gun victims politicians released days later bail \n",
      "Actual Summary : french journo held filming kashmir discharged \n",
      "Predicted Summary :  uk man arrests canada terrorist terrorist arrested canada\n",
      "\n",
      "\n",
      "Original Text : delhi court granted cbi four days extended custody agustawestland scam accused middleman christian michel apex investigation body told court michel needed confronted evidence crore case wanted take mumbai meanwhile court denied michel overseas lawyer permission visit \n",
      "Actual Summary : christian michel cbi custody extended four days \n",
      "Predicted Summary :  cbi books mumbai hc upholds bail mehul choksi\n",
      "\n",
      "\n",
      "Original Text : dell returned new york stock exchange friday turning public six years dell turned private billion buyout arranged ceo michael dell private equity firm silver lake july announced would go public buying back computer software firm tracking shares \n",
      "Actual Summary : returns us public stock market years \n",
      "Predicted Summary :  us firm offers buy company stock worth mn\n",
      "\n",
      "\n",
      "Original Text : bangladesh proposed joint military operations myanmar rohingya militants fighting latter rakhine state security forces two countries could conduct joint operations along border bangladesh foreign ministry said comes clashes myanmar security forces rohingya militants forced civilians flee bangladesh \n",
      "Actual Summary : desh offers army aid myanmar rohingya militants \n",
      "Predicted Summary :  myanmar army declares ceasefire aid rohingya crisis report\n",
      "\n",
      "\n",
      "Original Text : new york university researchers successfully hair damaged mice skin per study published journal nature communications scientists observed hair growth within four weeks mice activated certain brain pathway spark communication among cells protein responsible maintaining shape strength skin hair \n",
      "Actual Summary : researchers successfully grow hair damaged skin mice \n",
      "Predicted Summary :  mit designs mit designs print skin imports cells\n",
      "\n",
      "\n",
      "Original Text : us appeals court thursday upheld conviction osama bin laden son law abu terrorism related charges rejected abu claim evidence support conviction conspiring murder us citizens court also found overwhelming proof abu knew al qaeda objective killing us citizens \n",
      "Actual Summary : us court upholds conviction osama bin laden son law \n",
      "Predicted Summary :  ex man convicted life sentence hafiz saeed probe\n",
      "\n",
      "\n",
      "Original Text : us president donald trump branded former fbi director james comey former fbi deputy director andrew losers ruining stellar reputation fbi trump said hurt many great men women fbi trump fired comey last year handling hillary clinton email investigation \n",
      "Actual Summary : trump calls comey co fbi \n",
      "Predicted Summary :  ex fbi chief director director director director firing\n",
      "\n",
      "\n",
      "Original Text : myntra ceo ananth narayanan said jabong functions integrated company combined workforce would cut myntra jabong operate distinct brands run one team following binny bansal resignation flipkart group ceo walmart said narayanan report flipkart ceo kalyan krishnamurthy \n",
      "Actual Summary : jabong merge myntra workers laid \n",
      "Predicted Summary :  infosys ceo quits quits amid exit exit report\n",
      "\n",
      "\n",
      "Original Text : india second odi world cup years april defeating sri lanka mumbai wankhede stadium win india became third country win world cup twice first win home soil captain ms dhoni man match last ball six \n",
      "Actual Summary : pictures india world cup victory \n",
      "Predicted Summary :  india beat sl win world cup odi women\n",
      "\n",
      "\n",
      "Original Text : th episode kapil sharma show comedian kapil sharma said would like thank audience celebrities show team including members currently feature show sunil grover ali asgar chandan prabhakar shot show kapil shouted sunil flight march \n",
      "Actual Summary : thank team even ones left show kapil \n"
     ]
    },
    {
     "name": "stdout",
     "output_type": "stream",
     "text": [
      "Predicted Summary :  kapil show kapil show tv show show show\n",
      "\n",
      "\n",
      "Original Text : least people including journalists killed others injured twin suicide bombings afghan capital kabul according health ministry officials immediate claim responsibility attack earlier month suicide bomber blew outside voter registration centre kabul killing people \n",
      "Actual Summary : twin suicide afghanistan kill injure \n",
      "Predicted Summary :  suicide bombing bombing near air force kills iraq\n",
      "\n",
      "\n",
      "Original Text : hyderabad traffic police arrested people drinking driving intervening night sunday monday police also seized cars bikes per reports filed offenders produced local magistrate court police official said \n",
      "Actual Summary : hyderabad police arrest drunk driving one night \n",
      "Predicted Summary :  two arrested stealing cars carrying car hiding noida\n",
      "\n",
      "\n",
      "Original Text : batsman hanuma vihari become first andhra cricketer years picked india test squad year old right handed batsman first class average highest among contemporary cricketers slammed hundreds fifties domestic cricket across formats last eight years \n",
      "Actual Summary : uncapped batsman india test squad \n",
      "Predicted Summary :  nz captain becomes st class test cricket odis\n",
      "\n",
      "\n",
      "Original Text : delhi cm arvind kejriwal monday accused bjp getting voters names deleted electoral rolls delhi last resort avoid defeat next lok sabha elections hope ec would take immediate action added aap sunday alleged election commission inquiry alleged names voters list \n",
      "Actual Summary : bjp got voters names deleted avoid defeat kejriwal \n",
      "Predicted Summary :  delhi cm kejriwal calls aap evm tampering row\n",
      "\n",
      "\n",
      "Original Text : supreme court thursday rejected petition seeking stay release madhur bhandarkar directorial indu sarkar court noted film artistic expression within parameters law petition filed priya singh paul claimed daughter sanjay gandhi alleging movie derogatory \n",
      "Actual Summary : sc rejects plea release indu sarkar \n",
      "Predicted Summary :  sc rejects plea seeking ayodhya film release film\n",
      "\n",
      "\n",
      "Original Text : many people murdered month may mexico making deadliest month country least years according government statistics surge violence blamed increase organised crime groups battles leadership \n",
      "Actual Summary : may deadliest month mexico yrs murders \n",
      "Predicted Summary :  unicef troops may killed deaths unicef unicef report\n",
      "\n",
      "\n",
      "Original Text : air india crew member arrested customs authorities smuggling nearly kg ganja hiding meal service cart flight authorities seized ganja delhi chennai air india flight july accused arrested detailed investigation incident \n",
      "Actual Summary : ai crew member arrested smuggling kg ganja meal cart \n",
      "Predicted Summary :  kg gold worth lakh seized delhi airport pilot\n",
      "\n",
      "\n"
     ]
    }
   ],
   "source": [
    "for i in range(50, 100):\n",
    "    print(\"Original Text :\", seq2text(encoder_input_test[i]))\n",
    "    print(\"Actual Summary :\", seq2summary(decoder_input_test[i]))\n",
    "    print(\"Predicted Summary :\", decode_sequence(encoder_input_test[i].reshape(1, text_max_len)))\n",
    "    print(\"\\n\")\n"
   ]
  },
  {
   "cell_type": "markdown",
   "id": "7d2de654",
   "metadata": {},
   "source": [
    "# 3. Compare Extractive summary"
   ]
  },
  {
   "cell_type": "code",
   "execution_count": 53,
   "id": "60095358",
   "metadata": {},
   "outputs": [
    {
     "name": "stdout",
     "output_type": "stream",
     "text": [
      "Original Text: talking ball tampering scandal banned australian cricketer steve smith said could stopped negative outcome happened middle witnessed planned dressing room said guys stop smith said failure leadership taken responsibility added \n",
      "Actual Summary: said stop smith ball tampering \n",
      "Extractive Summary: \n",
      "Abstractive Summary:  smith slams australian captain ban smith warner ban\n",
      "\n",
      "\n",
      "Original Text: year old man hyderabad monday surrendered police allegedly killing wife two children fit rage man reportedly lost job technician dental clinic depressed ever since killed wife reportedly kept matter mocked \n",
      "Actual Summary: hyd man surrenders cops murdering wife kids \n",
      "Extractive Summary: \n",
      "Abstractive Summary:  man kills wife death jail killing wife\n",
      "\n",
      "\n",
      "Original Text: five mobile phones recovered police gurugram jail since wednesday comes several complaints alleged criminals making extortion calls inside jail notably mobile phones sim cards recovered inmates jail day long search june year \n",
      "Actual Summary: mobile phones recovered gurugram jail \n",
      "Extractive Summary: \n",
      "Abstractive Summary:  cops noida shelter fire noida police scam cases\n",
      "\n",
      "\n",
      "Original Text: organisers sweden largest music festival ended event permanently following reports sexual assault rape four day music festival cancelled year cases sexual assault reported cannot develop festival way want relevant visitors future organisers said \n",
      "Actual Summary: largest swedish music fest scrapped sex assault claims \n",
      "Extractive Summary: \n",
      "Abstractive Summary:  women raped sexual harassment victims women body body\n",
      "\n",
      "\n",
      "Original Text: noida authority officials said lodge firs seeking donations social networking sites animals animal shelter noida accused allegedly fooled people saying government stopped paying salary staff officials however said lakh allocated per month running animal shelter \n",
      "Actual Summary: fir seeking donations noida animal shelter \n",
      "Extractive Summary: \n",
      "Abstractive Summary:  noida police orders cctv cameras shut noida noida\n",
      "\n",
      "\n",
      "Original Text: staff manchester united home ground old trafford forced protect computers premises visiting fans damaged bathroom led water leaking offices situated underneath fans visiting teams given tickets east stand upper cup clashes old trafford \n",
      "Actual Summary: stadium workers forced protect computers toilet leak \n",
      "Extractive Summary: \n",
      "Abstractive Summary:  couple makes selfies save people free safety us\n",
      "\n",
      "\n",
      "Original Text: team india batsman cheteshwar pujara smashed th test hundred second ongoing four match series third test melbourne thursday second time career pujara hit multiple hundreds away test series innings year old also reached away runs test cricket \n",
      "Actual Summary: pujara smashes hundreds away test series nd time \n",
      "Extractive Summary: \n",
      "Abstractive Summary:  pujara scores ton st test ton last year\n",
      "\n",
      "\n",
      "Original Text: rjd chief lalu prasad asked senior bihar bjp leader sushil kumar modi wear saffron robe ears shave head look like uttar pradesh chief minister yogi adityanath claiming may derive benefits party lalu mocked invited adityanath swearing ceremony \n",
      "Actual Summary: sushil modi shave head look like yogi lalu \n",
      "Extractive Summary: \n",
      "Abstractive Summary:  bjp trying remove tejashwi yadav vande mataram tejashwi\n",
      "\n",
      "\n",
      "Original Text: actor akshay kumar talking incident childhood revealed touched inappropriately elevator operator akshay added since good communication parents told incident akshay said father filed complaint man later arrested found offender \n",
      "Actual Summary: touched man child akshay \n",
      "Extractive Summary: \n",
      "Abstractive Summary:  akshay kumar gets engaged tv show reality show\n",
      "\n",
      "\n",
      "Original Text: uber paid hackers stole personal data million accounts last year delete data keep breach secret company revealed tuesday uber also fired chief security officer deputy incident breach however reveal users social security numbers credit card information trip details \n",
      "Actual Summary: uber paid hide hack affected mn users \n",
      "Extractive Summary: \n",
      "Abstractive Summary:  uber denies sharing sharing data breach sharing report\n",
      "\n",
      "\n",
      "Original Text: international cricket council appointed air asia former chief financial officer ankur khanna new cfo khanna join icc dubai end march leaving air asia india held post last one year prior air asia india khanna worked senior roles air france klm itc \n",
      "Actual Summary: icc names ex air asia cfo khanna cfo \n",
      "Extractive Summary: \n",
      "Abstractive Summary:  icc appoints new cricket coach appointed new cricket\n",
      "\n",
      "\n",
      "Original Text: pictures continuing play wildfire behind emerged online playing beacon rock golf course washington sits right across river acre eagle creek fire burning committed finishing round read post beacon rock golf course \n",
      "Actual Summary: continue play acre burns behind \n",
      "Extractive Summary: \n",
      "Abstractive Summary:  video shows baseball fans rams game thrones game\n",
      "\n",
      "\n",
      "Original Text: six us senators urged government designate pakistan country particular concern alleged violation religious freedom adding least people currently sentenced death serving life sentences blasphemy pakistan senators said discriminatory laws continue result prosecution individuals due faith \n",
      "Actual Summary: list pak country concern us \n",
      "Extractive Summary: \n",
      "Abstractive Summary:  pak allows pak envoy ban kulbhushan jadhav issue\n",
      "\n",
      "\n",
      "Original Text: south korea prime minister lee said cryptocurrencies could lead teenagers get involved pyramid schemes drug crimes said students jumping market make money leading get fraudulent crime let things continue feel serious could occur added \n",
      "Actual Summary: cryptocurrency could lead teens drug crimes korea pm \n",
      "Extractive Summary: \n",
      "Abstractive Summary:  president makes lakh people get crypto via app\n",
      "\n",
      "\n",
      "Original Text: delhi government tuesday approved policy pay crore compensation families martyrs belonging delhi personnel eligible scheme delhi permanent residence time joining scheme cover personnel serving armed forces paramilitary forces delhi police delhi fire services home guards among others \n",
      "Actual Summary: delhi govt give crore kin martyred jawans cops \n",
      "Extractive Summary: \n",
      "Abstractive Summary:  delhi govt approves cr fine near ngt fund\n",
      "\n",
      "\n",
      "Original Text: music composer passed away age week severely injured accident killed year old daughter wife lakshmi also car hit tree returning visiting temple lakshmi driver recovering hospital \n",
      "Actual Summary: dies week car accident killed yr old \n",
      "Extractive Summary: \n",
      "Abstractive Summary:  yr old dies accident victims passes away accident\n",
      "\n",
      "\n",
      "Original Text: us ambassador un nikki haley wednesday said every threat peace middle east connected iran behaviour us embarked course attempts address aspects iran destructive conduct haley added earlier us president donald trump announced decertify iran nuclear deal \n",
      "Actual Summary: every threat peace middle east connected iran us \n",
      "Extractive Summary: \n",
      "Abstractive Summary:  us state urges us envoy us state secy\n",
      "\n",
      "\n",
      "Original Text: ride hailing startup uber introducing credit card called uber visa us give reward points users uber visa annual fee users earn spending within first days users able redeem points rides delivery cash back \n",
      "Actual Summary: uber introduces credit card give reward points us \n",
      "Extractive Summary: \n",
      "Abstractive Summary:  uber talks uber make self driving cars india\n",
      "\n",
      "\n",
      "Original Text: lg air conditioners monsoon comfort technology specially designed ensure pleasant cooling right balance room temperature body temperature air movement air flow besides saving lot energy ocean black protection certified prevent units well years \n",
      "Actual Summary: lg air come monsoon technology \n",
      "Extractive Summary: \n",
      "Abstractive Summary:  air india makes new ac air pollution\n",
      "\n",
      "\n",
      "Original Text: indian spinner ravindra jadeja thanked former indian captain ms dhoni current skipper virat kohli becoming number one ranked bowler rounder test cricket humble journey test bowler possible due msdhoni imvkohli fans family bcci icc teamindia read jadeja tweet \n",
      "Actual Summary: jadeja thanks dhoni kohli test rounder rank \n",
      "Extractive Summary: \n",
      "Abstractive Summary:  kohli equals dhoni captain record rd test captain\n",
      "\n",
      "\n",
      "Original Text: us federal judge directed country immigration agency reunite migrant families separated crossed country illegally government ordered reunite parents children aged five within days older ones within days migrant children separated parents since may \n",
      "Actual Summary: judge orders us govt reunite separated migrant families \n",
      "Extractive Summary: \n"
     ]
    },
    {
     "name": "stdout",
     "output_type": "stream",
     "text": [
      "Abstractive Summary:  us judge orders us asylum era abuse victims\n",
      "\n",
      "\n",
      "Original Text: actor akshay kumar said south crore spent film publicity added reality shows many press meets like us release big films diwali akshay said new things seen cinema \n",
      "Actual Summary: cr spent film publicity south akshay \n",
      "Extractive Summary: \n",
      "Abstractive Summary:  akshay kumar make cr film industry industry films\n",
      "\n",
      "\n",
      "Original Text: mumbai metropolitan region development authority officials said mumbai specific plan integrated ticketing system ready december system plans smart card modes public transport city including suburban railways best bus services monorail mumbai metro network \n",
      "Actual Summary: mumbai one city one ticket plan ready dec \n",
      "Extractive Summary: \n",
      "Abstractive Summary:  mumbai civic body cuts buses electric car buses\n",
      "\n",
      "\n",
      "Original Text: yuva sena chief thackeray asked brihanmumbai municipal corporation conduct feasibility study whether confiscated plastic used making roads public amenities thackeray proposal comes amid bmc ongoing efforts make markets plastic free many restaurants caf already committed use plastic straws bags said \n",
      "Actual Summary: sena chief proposes using plastic waste make roads \n",
      "Extractive Summary: \n",
      "Abstractive Summary:  shiv sena asks delhi govt allow liquor service\n",
      "\n",
      "\n",
      "Original Text: video showing actress priyanka chopra husband american singer nick jonas dancing song desi girl surfaced online couple hosted third wedding reception taj lands end mumbai thursday night many bollywood celebrities including ranveer singh deepika padukone salman khan anushka sharma attended reception \n",
      "Actual Summary: priyanka nick dance girl wedding reception \n",
      "Extractive Summary: \n",
      "Abstractive Summary:  priyanka nick shares pic priyanka nick wedding ceremony\n",
      "\n",
      "\n",
      "Original Text: slow possible musical piece late american composer john cage started scheduled end making longest known musical performance lasting years organ performance held church germany performance lasted minutes premiered \n",
      "Actual Summary: longest musical performance end \n",
      "Extractive Summary: \n",
      "Abstractive Summary:  th century ii ii ii ii st time\n",
      "\n",
      "\n",
      "Original Text: aam aadmi party asked supporters donate show support cm arvind kejriwal invited inauguration delhi metro magenta line share sentiments blood also email sent aap outreach read metro line inaugurated pm narendra modi december \n",
      "Actual Summary: aap seeks donations metro snub cm kejriwal \n",
      "Extractive Summary: \n",
      "Abstractive Summary:  aap delhi cm kejriwal delhi cm kejriwal day\n",
      "\n",
      "\n",
      "Original Text: year old church colorado united states converted international church cannabis people consume weed together described first large venue world adults legally consume cannabis social environment scheduled open april currently seeking funds repairs development \n",
      "Actual Summary: year old church converted weed church us \n",
      "Extractive Summary: \n",
      "Abstractive Summary:  year old human rights zoo get human trafficking\n",
      "\n",
      "\n",
      "Original Text: official trailer irrfan khan starrer karwaan released film also stars malayalam actor dulquer salmaan mithila palkar marks dulquer bollywood debut film reportedly story three people different walks life meeting road trip directed khurana karwaan scheduled release august \n",
      "Actual Summary: trailer irrfan khan starrer released \n",
      "Extractive Summary: \n",
      "Abstractive Summary:  trailer trailer irrfan khan starrer mission released released\n",
      "\n",
      "\n",
      "Original Text: national investigation agency monday said examine court verdict mecca masjid blast case acquitting accused decide future course action special nia court acquitted accused lack evidence witnesses earlier testified accused retracted statements hearing \n",
      "Actual Summary: nia examine court verdict mecca masjid blast case \n",
      "Extractive Summary: \n",
      "Abstractive Summary:  hc orders cbi probe probe anti romeo squads\n",
      "\n",
      "\n",
      "Original Text: group us maker cigarettes agreed invest billion stake canadian cannabis producer group also get warrants give option increase stake october canada became second country uruguay legalise possession use recreational marijuana \n",
      "Actual Summary: owner invest bn canadian marijuana producer \n",
      "Extractive Summary: \n",
      "Abstractive Summary:  us firm buy stake buy stake bn reports\n",
      "\n",
      "\n",
      "Original Text: indian tennis player mahesh bhupathi said book launch leander paes achieved team cannot bhupathi called partnership paes special duo journey said kids outside top going world sure special \n",
      "Actual Summary: paes achieved \n",
      "Extractive Summary: \n",
      "Abstractive Summary:  yr old girl reveals good part tv show\n",
      "\n",
      "\n",
      "Original Text: facebook expanding jobs feature search apply jobs directly platform countries including india job seekers visit www facebook jobs apply listed companies application would auto fill work history relevant information user facebook profile messenger window would open contact employer completion \n",
      "Actual Summary: one use facebook jobs feature launched india \n",
      "Extractive Summary: \n",
      "Abstractive Summary:  fb may change new internet stores india report\n",
      "\n",
      "\n",
      "Original Text: french journalist arrested kashmir december violating visa passport regulations discharged tuesday police said paul edward business visa held found indulging activities including filming pellet gun victims politicians released days later bail \n",
      "Actual Summary: french journo held filming kashmir discharged \n",
      "Extractive Summary: \n",
      "Abstractive Summary:  uk man arrests canada terrorist terrorist arrested canada\n",
      "\n",
      "\n",
      "Original Text: delhi court granted cbi four days extended custody agustawestland scam accused middleman christian michel apex investigation body told court michel needed confronted evidence crore case wanted take mumbai meanwhile court denied michel overseas lawyer permission visit \n",
      "Actual Summary: christian michel cbi custody extended four days \n",
      "Extractive Summary: \n",
      "Abstractive Summary:  cbi books mumbai hc upholds bail mehul choksi\n",
      "\n",
      "\n",
      "Original Text: dell returned new york stock exchange friday turning public six years dell turned private billion buyout arranged ceo michael dell private equity firm silver lake july announced would go public buying back computer software firm tracking shares \n",
      "Actual Summary: returns us public stock market years \n",
      "Extractive Summary: \n",
      "Abstractive Summary:  us firm offers buy company stock worth mn\n",
      "\n",
      "\n",
      "Original Text: bangladesh proposed joint military operations myanmar rohingya militants fighting latter rakhine state security forces two countries could conduct joint operations along border bangladesh foreign ministry said comes clashes myanmar security forces rohingya militants forced civilians flee bangladesh \n",
      "Actual Summary: desh offers army aid myanmar rohingya militants \n",
      "Extractive Summary: \n",
      "Abstractive Summary:  myanmar army declares ceasefire aid rohingya crisis report\n",
      "\n",
      "\n",
      "Original Text: new york university researchers successfully hair damaged mice skin per study published journal nature communications scientists observed hair growth within four weeks mice activated certain brain pathway spark communication among cells protein responsible maintaining shape strength skin hair \n",
      "Actual Summary: researchers successfully grow hair damaged skin mice \n",
      "Extractive Summary: \n",
      "Abstractive Summary:  mit designs mit designs print skin imports cells\n",
      "\n",
      "\n",
      "Original Text: us appeals court thursday upheld conviction osama bin laden son law abu terrorism related charges rejected abu claim evidence support conviction conspiring murder us citizens court also found overwhelming proof abu knew al qaeda objective killing us citizens \n",
      "Actual Summary: us court upholds conviction osama bin laden son law \n",
      "Extractive Summary: \n",
      "Abstractive Summary:  ex man convicted life sentence hafiz saeed probe\n",
      "\n",
      "\n",
      "Original Text: us president donald trump branded former fbi director james comey former fbi deputy director andrew losers ruining stellar reputation fbi trump said hurt many great men women fbi trump fired comey last year handling hillary clinton email investigation \n",
      "Actual Summary: trump calls comey co fbi \n",
      "Extractive Summary: \n",
      "Abstractive Summary:  ex fbi chief director director director director firing\n",
      "\n",
      "\n",
      "Original Text: myntra ceo ananth narayanan said jabong functions integrated company combined workforce would cut myntra jabong operate distinct brands run one team following binny bansal resignation flipkart group ceo walmart said narayanan report flipkart ceo kalyan krishnamurthy \n",
      "Actual Summary: jabong merge myntra workers laid \n",
      "Extractive Summary: \n"
     ]
    },
    {
     "name": "stdout",
     "output_type": "stream",
     "text": [
      "Abstractive Summary:  infosys ceo quits quits amid exit exit report\n",
      "\n",
      "\n",
      "Original Text: india second odi world cup years april defeating sri lanka mumbai wankhede stadium win india became third country win world cup twice first win home soil captain ms dhoni man match last ball six \n",
      "Actual Summary: pictures india world cup victory \n",
      "Extractive Summary: \n",
      "Abstractive Summary:  india beat sl win world cup odi women\n",
      "\n",
      "\n",
      "Original Text: th episode kapil sharma show comedian kapil sharma said would like thank audience celebrities show team including members currently feature show sunil grover ali asgar chandan prabhakar shot show kapil shouted sunil flight march \n",
      "Actual Summary: thank team even ones left show kapil \n",
      "Extractive Summary: \n",
      "Abstractive Summary:  kapil show kapil show tv show show show\n",
      "\n",
      "\n",
      "Original Text: least people including journalists killed others injured twin suicide bombings afghan capital kabul according health ministry officials immediate claim responsibility attack earlier month suicide bomber blew outside voter registration centre kabul killing people \n",
      "Actual Summary: twin suicide afghanistan kill injure \n",
      "Extractive Summary: \n",
      "Abstractive Summary:  suicide bombing bombing near air force kills iraq\n",
      "\n",
      "\n",
      "Original Text: hyderabad traffic police arrested people drinking driving intervening night sunday monday police also seized cars bikes per reports filed offenders produced local magistrate court police official said \n",
      "Actual Summary: hyderabad police arrest drunk driving one night \n",
      "Extractive Summary: \n",
      "Abstractive Summary:  two arrested stealing cars carrying car hiding noida\n",
      "\n",
      "\n",
      "Original Text: batsman hanuma vihari become first andhra cricketer years picked india test squad year old right handed batsman first class average highest among contemporary cricketers slammed hundreds fifties domestic cricket across formats last eight years \n",
      "Actual Summary: uncapped batsman india test squad \n",
      "Extractive Summary: \n",
      "Abstractive Summary:  nz captain becomes st class test cricket odis\n",
      "\n",
      "\n",
      "Original Text: delhi cm arvind kejriwal monday accused bjp getting voters names deleted electoral rolls delhi last resort avoid defeat next lok sabha elections hope ec would take immediate action added aap sunday alleged election commission inquiry alleged names voters list \n",
      "Actual Summary: bjp got voters names deleted avoid defeat kejriwal \n",
      "Extractive Summary: \n",
      "Abstractive Summary:  delhi cm kejriwal calls aap evm tampering row\n",
      "\n",
      "\n",
      "Original Text: supreme court thursday rejected petition seeking stay release madhur bhandarkar directorial indu sarkar court noted film artistic expression within parameters law petition filed priya singh paul claimed daughter sanjay gandhi alleging movie derogatory \n",
      "Actual Summary: sc rejects plea release indu sarkar \n",
      "Extractive Summary: \n",
      "Abstractive Summary:  sc rejects plea seeking ayodhya film release film\n",
      "\n",
      "\n",
      "Original Text: many people murdered month may mexico making deadliest month country least years according government statistics surge violence blamed increase organised crime groups battles leadership \n",
      "Actual Summary: may deadliest month mexico yrs murders \n",
      "Extractive Summary: \n",
      "Abstractive Summary:  unicef troops may killed deaths unicef unicef report\n",
      "\n",
      "\n",
      "Original Text: air india crew member arrested customs authorities smuggling nearly kg ganja hiding meal service cart flight authorities seized ganja delhi chennai air india flight july accused arrested detailed investigation incident \n",
      "Actual Summary: ai crew member arrested smuggling kg ganja meal cart \n",
      "Extractive Summary: \n",
      "Abstractive Summary:  kg gold worth lakh seized delhi airport pilot\n",
      "\n",
      "\n"
     ]
    }
   ],
   "source": [
    "import requests\n",
    "from summa.summarizer import summarize\n",
    "\n",
    "for i in range(50, 100):\n",
    "    print(\"Original Text:\", seq2text(encoder_input_test[i]))\n",
    "    print(\"Actual Summary:\", seq2summary(decoder_input_test[i]))\n",
    "    print(\"Extractive Summary:\", summarize(seq2text(encoder_input_test[i]), ratio=0.5))\n",
    "    print(\"Abstractive Summary:\", decode_sequence(encoder_input_test[i].reshape(1, text_max_len)))\n",
    "    print(\"\\n\")\n"
   ]
  }
 ],
 "metadata": {
  "kernelspec": {
   "display_name": "Python 3 (ipykernel)",
   "language": "python",
   "name": "python3"
  },
  "language_info": {
   "codemirror_mode": {
    "name": "ipython",
    "version": 3
   },
   "file_extension": ".py",
   "mimetype": "text/x-python",
   "name": "python",
   "nbconvert_exporter": "python",
   "pygments_lexer": "ipython3",
   "version": "3.9.7"
  }
 },
 "nbformat": 4,
 "nbformat_minor": 5
}
