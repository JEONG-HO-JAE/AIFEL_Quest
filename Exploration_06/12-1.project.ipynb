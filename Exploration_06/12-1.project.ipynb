{
 "cells": [
  {
   "cell_type": "code",
   "execution_count": 1,
   "id": "2867c032",
   "metadata": {},
   "outputs": [
    {
     "name": "stderr",
     "output_type": "stream",
     "text": [
      "[nltk_data] Downloading package stopwords to /aiffel/nltk_data...\n",
      "[nltk_data]   Unzipping corpora/stopwords.zip.\n"
     ]
    }
   ],
   "source": [
    "import nltk\n",
    "nltk.download('stopwords')\n",
    "\n",
    "from importlib.metadata import version\n",
    "import nltk\n",
    "import tensorflow\n",
    "import summa\n",
    "import re\n",
    "import pandas as pd\n",
    "import numpy as np\n",
    "from tqdm import tqdm\n",
    "from nltk.corpus import stopwords\n",
    "import matplotlib.pyplot as plt\n",
    "from bs4 import BeautifulSoup \n",
    "from tensorflow.keras.preprocessing.text import Tokenizer \n",
    "from tensorflow.keras.preprocessing.sequence import pad_sequences"
   ]
  },
  {
   "cell_type": "markdown",
   "id": "70e52b2d",
   "metadata": {},
   "source": [
    "## Overview\n",
    "Project start date: Oct 9, 2023  \n",
    "Goal: Summarizing news articles  \n",
    "Main points :  \n",
    " - Create an LSTM model and apply the Attention mechanism to the decoder for abstractive summarization.  \n",
    " - Monitor the loss values (both during training and validation) and the prediction results.  \n",
    " - Evaluate the predictions using the Summa package for extractive summarization.  \n",
    " - Discuss the pros and cons of each summarization method."
   ]
  },
  {
   "cell_type": "markdown",
   "id": "8e4f2ba7",
   "metadata": {},
   "source": [
    "# 1. Exploratory Data Analysis\n",
    "Github link of source data : https://github.com/sunnysai12345/News_Summary  \n",
    "The dataset consists of 4515 examples and contains Author_name, Headlines, Url of Article, Short text, Complete Article. According to the Readme file, summarized news from Inshorts and only scraped the news articles from Hindu, Indian times and Guardian.  \n",
    "  \n",
    "I will use 'headlines', and 'Complete' on this project."
   ]
  },
  {
   "cell_type": "markdown",
   "id": "5409cbfa",
   "metadata": {},
   "source": [
    "## 1-1. Retrieve Data"
   ]
  },
  {
   "cell_type": "code",
   "execution_count": 3,
   "id": "9b8921c9",
   "metadata": {},
   "outputs": [],
   "source": [
    "import urllib.request\n",
    "urllib.request.urlretrieve(\"https://raw.githubusercontent.com/sunnysai12345/News_Summary/master/news_summary_more.csv\", filename=\"news_summarization/data/news_summary_more.csv\")\n",
    "data = pd.read_csv('news_summarization/data/news_summary_more.csv', encoding='iso-8859-1')"
   ]
  },
  {
   "cell_type": "code",
   "execution_count": 7,
   "id": "09cdd0a3",
   "metadata": {},
   "outputs": [
    {
     "name": "stdout",
     "output_type": "stream",
     "text": [
      "The number of data: 98401\n"
     ]
    },
    {
     "data": {
      "text/html": [
       "<div>\n",
       "<style scoped>\n",
       "    .dataframe tbody tr th:only-of-type {\n",
       "        vertical-align: middle;\n",
       "    }\n",
       "\n",
       "    .dataframe tbody tr th {\n",
       "        vertical-align: top;\n",
       "    }\n",
       "\n",
       "    .dataframe thead th {\n",
       "        text-align: right;\n",
       "    }\n",
       "</style>\n",
       "<table border=\"1\" class=\"dataframe\">\n",
       "  <thead>\n",
       "    <tr style=\"text-align: right;\">\n",
       "      <th></th>\n",
       "      <th>headlines</th>\n",
       "      <th>text</th>\n",
       "    </tr>\n",
       "  </thead>\n",
       "  <tbody>\n",
       "    <tr>\n",
       "      <th>0</th>\n",
       "      <td>upGrad learner switches to career in ML &amp; Al w...</td>\n",
       "      <td>Saurav Kant, an alumnus of upGrad and IIIT-B's...</td>\n",
       "    </tr>\n",
       "    <tr>\n",
       "      <th>1</th>\n",
       "      <td>Delhi techie wins free food from Swiggy for on...</td>\n",
       "      <td>Kunal Shah's credit card bill payment platform...</td>\n",
       "    </tr>\n",
       "    <tr>\n",
       "      <th>2</th>\n",
       "      <td>New Zealand end Rohit Sharma-led India's 12-ma...</td>\n",
       "      <td>New Zealand defeated India by 8 wickets in the...</td>\n",
       "    </tr>\n",
       "    <tr>\n",
       "      <th>3</th>\n",
       "      <td>Aegon life iTerm insurance plan helps customer...</td>\n",
       "      <td>With Aegon Life iTerm Insurance plan, customer...</td>\n",
       "    </tr>\n",
       "    <tr>\n",
       "      <th>4</th>\n",
       "      <td>Have known Hirani for yrs, what if MeToo claim...</td>\n",
       "      <td>Speaking about the sexual harassment allegatio...</td>\n",
       "    </tr>\n",
       "  </tbody>\n",
       "</table>\n",
       "</div>"
      ],
      "text/plain": [
       "                                           headlines  \\\n",
       "0  upGrad learner switches to career in ML & Al w...   \n",
       "1  Delhi techie wins free food from Swiggy for on...   \n",
       "2  New Zealand end Rohit Sharma-led India's 12-ma...   \n",
       "3  Aegon life iTerm insurance plan helps customer...   \n",
       "4  Have known Hirani for yrs, what if MeToo claim...   \n",
       "\n",
       "                                                text  \n",
       "0  Saurav Kant, an alumnus of upGrad and IIIT-B's...  \n",
       "1  Kunal Shah's credit card bill payment platform...  \n",
       "2  New Zealand defeated India by 8 wickets in the...  \n",
       "3  With Aegon Life iTerm Insurance plan, customer...  \n",
       "4  Speaking about the sexual harassment allegatio...  "
      ]
     },
     "execution_count": 7,
     "metadata": {},
     "output_type": "execute_result"
    }
   ],
   "source": [
    "print('The number of data:', len(data))\n",
    "data.head()"
   ]
  },
  {
   "cell_type": "markdown",
   "id": "905c1893",
   "metadata": {},
   "source": [
    "## 1-2. Delete duplicated data"
   ]
  },
  {
   "cell_type": "code",
   "execution_count": 14,
   "id": "fac6ae59",
   "metadata": {},
   "outputs": [
    {
     "name": "stdout",
     "output_type": "stream",
     "text": [
      "The number of data in \"headlines\" excluding duplicates :  98280\n",
      "The number of data in \"text\" excluding duplicates :  98360\n"
     ]
    }
   ],
   "source": [
    "# The number of explicitly duplicated data\n",
    "print('The number of data in \"headlines\" excluding duplicates : ', data['headlines'].nunique())\n",
    "print('The number of data in \"text\" excluding duplicates : ', data['text'].nunique())"
   ]
  },
  {
   "cell_type": "code",
   "execution_count": 15,
   "id": "ca15e714",
   "metadata": {},
   "outputs": [],
   "source": [
    "# Delete duplicated data\n",
    "data.drop_duplicates(subset = ['text'], inplace = True)"
   ]
  },
  {
   "cell_type": "markdown",
   "id": "07bc6443",
   "metadata": {},
   "source": [
    "## 1-3. Delete NaN data"
   ]
  },
  {
   "cell_type": "code",
   "execution_count": 16,
   "id": "47bbdcdb",
   "metadata": {},
   "outputs": [
    {
     "name": "stdout",
     "output_type": "stream",
     "text": [
      "headlines    0\n",
      "text         0\n",
      "dtype: int64\n"
     ]
    }
   ],
   "source": [
    "print(data.isnull().sum())"
   ]
  },
  {
   "cell_type": "markdown",
   "id": "8bc3a132",
   "metadata": {},
   "source": [
    "## 1-4. Text normalization"
   ]
  },
  {
   "cell_type": "markdown",
   "id": "abdf509b",
   "metadata": {},
   "source": [
    "### 1-4-1. Define contractions"
   ]
  },
  {
   "cell_type": "code",
   "execution_count": 19,
   "id": "2a900701",
   "metadata": {},
   "outputs": [
    {
     "name": "stdout",
     "output_type": "stream",
     "text": [
      "The number of contractions dictionary:  120\n"
     ]
    }
   ],
   "source": [
    "contractions = {\"ain't\": \"is not\", \"aren't\": \"are not\",\"can't\": \"cannot\", \"'cause\": \"because\", \"could've\": \"could have\", \"couldn't\": \"could not\",\n",
    "                           \"didn't\": \"did not\",  \"doesn't\": \"does not\", \"don't\": \"do not\", \"hadn't\": \"had not\", \"hasn't\": \"has not\", \"haven't\": \"have not\",\n",
    "                           \"he'd\": \"he would\",\"he'll\": \"he will\", \"he's\": \"he is\", \"how'd\": \"how did\", \"how'd'y\": \"how do you\", \"how'll\": \"how will\", \"how's\": \"how is\",\n",
    "                           \"I'd\": \"I would\", \"I'd've\": \"I would have\", \"I'll\": \"I will\", \"I'll've\": \"I will have\",\"I'm\": \"I am\", \"I've\": \"I have\", \"i'd\": \"i would\",\n",
    "                           \"i'd've\": \"i would have\", \"i'll\": \"i will\",  \"i'll've\": \"i will have\",\"i'm\": \"i am\", \"i've\": \"i have\", \"isn't\": \"is not\", \"it'd\": \"it would\",\n",
    "                           \"it'd've\": \"it would have\", \"it'll\": \"it will\", \"it'll've\": \"it will have\",\"it's\": \"it is\", \"let's\": \"let us\", \"ma'am\": \"madam\",\n",
    "                           \"mayn't\": \"may not\", \"might've\": \"might have\",\"mightn't\": \"might not\",\"mightn't've\": \"might not have\", \"must've\": \"must have\",\n",
    "                           \"mustn't\": \"must not\", \"mustn't've\": \"must not have\", \"needn't\": \"need not\", \"needn't've\": \"need not have\",\"o'clock\": \"of the clock\",\n",
    "                           \"oughtn't\": \"ought not\", \"oughtn't've\": \"ought not have\", \"shan't\": \"shall not\", \"sha'n't\": \"shall not\", \"shan't've\": \"shall not have\",\n",
    "                           \"she'd\": \"she would\", \"she'd've\": \"she would have\", \"she'll\": \"she will\", \"she'll've\": \"she will have\", \"she's\": \"she is\",\n",
    "                           \"should've\": \"should have\", \"shouldn't\": \"should not\", \"shouldn't've\": \"should not have\", \"so've\": \"so have\",\"so's\": \"so as\",\n",
    "                           \"this's\": \"this is\",\"that'd\": \"that would\", \"that'd've\": \"that would have\", \"that's\": \"that is\", \"there'd\": \"there would\",\n",
    "                           \"there'd've\": \"there would have\", \"there's\": \"there is\", \"here's\": \"here is\",\"they'd\": \"they would\", \"they'd've\": \"they would have\",\n",
    "                           \"they'll\": \"they will\", \"they'll've\": \"they will have\", \"they're\": \"they are\", \"they've\": \"they have\", \"to've\": \"to have\",\n",
    "                           \"wasn't\": \"was not\", \"we'd\": \"we would\", \"we'd've\": \"we would have\", \"we'll\": \"we will\", \"we'll've\": \"we will have\", \"we're\": \"we are\",\n",
    "                           \"we've\": \"we have\", \"weren't\": \"were not\", \"what'll\": \"what will\", \"what'll've\": \"what will have\", \"what're\": \"what are\",\n",
    "                           \"what's\": \"what is\", \"what've\": \"what have\", \"when's\": \"when is\", \"when've\": \"when have\", \"where'd\": \"where did\", \"where's\": \"where is\",\n",
    "                           \"where've\": \"where have\", \"who'll\": \"who will\", \"who'll've\": \"who will have\", \"who's\": \"who is\", \"who've\": \"who have\",\n",
    "                           \"why's\": \"why is\", \"why've\": \"why have\", \"will've\": \"will have\", \"won't\": \"will not\", \"won't've\": \"will not have\",\n",
    "                           \"would've\": \"would have\", \"wouldn't\": \"would not\", \"wouldn't've\": \"would not have\", \"y'all\": \"you all\",\n",
    "                           \"y'all'd\": \"you all would\",\"y'all'd've\": \"you all would have\",\"y'all're\": \"you all are\",\"y'all've\": \"you all have\",\n",
    "                           \"you'd\": \"you would\", \"you'd've\": \"you would have\", \"you'll\": \"you will\", \"you'll've\": \"you will have\",\n",
    "                           \"you're\": \"you are\", \"you've\": \"you have\"}\n",
    "\n",
    "print(\"The number of contractions dictionary: \", len(contractions))"
   ]
  },
  {
   "cell_type": "markdown",
   "id": "c35591dc",
   "metadata": {},
   "source": [
    "### 1-4-2. Define preprocessing function"
   ]
  },
  {
   "cell_type": "code",
   "execution_count": 21,
   "id": "f241fcde",
   "metadata": {},
   "outputs": [],
   "source": [
    "# Data preprocessing function\n",
    "def preprocess_sentence(sentence, remove_stopwords=True):\n",
    "    sentence = sentence.lower()  # Convert text to lowercase\n",
    "    sentence = BeautifulSoup(sentence, \"lxml\").text  # Remove HTML tags like <br />, <a href = ...>\n",
    "    sentence = re.sub(r'\\([^)]*\\)', '', sentence)  # Remove strings enclosed in parentheses (...)\n",
    "    sentence = re.sub('\"', '', sentence)  # Remove double quotation marks \"\n",
    "    sentence = ' '.join([contractions[t] if t in contractions else t for t in sentence.split(\" \")])  # Normalize contractions (e.g., \"don't\" -> \"do not\")\n",
    "    sentence = re.sub(r\"'s\\b\", \"\", sentence)  # Remove possessive 's (e.g., \"roland's\" -> \"roland\")\n",
    "    sentence = re.sub(\"[^a-zA-Z]\", \" \", sentence)  # Replace non-alphabet characters with whitespace\n",
    "    sentence = re.sub('[m]{2,}', 'mm', sentence)  # Replace consecutive 'm' characters (3 or more) with 'mm' (e.g., \"ummmmmmm yeah\" -> \"umm yeah\")\n",
    "    \n",
    "    # Remove stopwords (Text)\n",
    "    if remove_stopwords:\n",
    "        tokens = ' '.join(word for word in sentence.split() if not word in stopwords.words('english') if len(word) > 1)\n",
    "    # Keep stopwords (Summary)\n",
    "    else:\n",
    "        tokens = ' '.join(word for word in sentence.split() if len(word) > 1)\n",
    "    return tokens"
   ]
  },
  {
   "cell_type": "markdown",
   "id": "fd8e824f",
   "metadata": {},
   "source": [
    "## 1-5. Preprocess raw data"
   ]
  },
  {
   "cell_type": "code",
   "execution_count": 44,
   "id": "12c8d4ee",
   "metadata": {},
   "outputs": [
    {
     "name": "stderr",
     "output_type": "stream",
     "text": [
      "100%|██████████| 98360/98360 [09:44<00:00, 168.36it/s]"
     ]
    },
    {
     "name": "stdout",
     "output_type": "stream",
     "text": [
      "Text 전처리 후 결과:  ['saurav kant alumnus upgrad iiit pg program machine learning artificial intelligence sr systems engineer infosys almost years work experience program upgrad degree career support helped transition data scientist tech mahindra salary hike upgrad online power learning powered lakh careers', 'kunal shah credit card bill payment platform cred gave users chance win free food swiggy one year pranav kaushik delhi techie bagged reward spending cred coins users get one cred coin per rupee bill paid used avail rewards brands like ixigo bookmyshow ubereats cult fit', 'new zealand defeated india wickets fourth odi hamilton thursday win first match five match odi series india lost international match rohit sharma captaincy consecutive victories dating back march match witnessed india getting seventh lowest total odi cricket history', 'aegon life iterm insurance plan customers enjoy tax benefits premiums paid save taxes plan provides life cover age years also customers options insure critical illnesses disability accidental death benefit rider life cover age years', 'speaking sexual harassment allegations rajkumar hirani sonam kapoor said known hirani many years true metoo movement get derailed metoo movement always believe woman case need reserve judgment added hirani accused assistant worked sanju']\n"
     ]
    },
    {
     "name": "stderr",
     "output_type": "stream",
     "text": [
      "\n"
     ]
    }
   ],
   "source": [
    "temp_textdata = [] \n",
    "\n",
    "for index, row in tqdm(data.iterrows(), total=data.shape[0]):\n",
    "    sentence = row['text']\n",
    "    temp = preprocess_sentence(sentence)\n",
    "    temp_textdata.append(temp)\n",
    "    \n",
    "print(\"Text 전처리 후 결과: \", temp_textdata[:5])"
   ]
  },
  {
   "cell_type": "code",
   "execution_count": 45,
   "id": "0bd2a669",
   "metadata": {},
   "outputs": [
    {
     "name": "stderr",
     "output_type": "stream",
     "text": [
      "100%|██████████| 98360/98360 [02:10<00:00, 753.63it/s]"
     ]
    },
    {
     "name": "stdout",
     "output_type": "stream",
     "text": [
      "Headline 전처리 후 결과:  ['upgrad learner switches career ml al salary hike', 'delhi techie wins free food swiggy one year cred', 'new zealand end rohit sharma led india match winning streak', 'aegon life iterm insurance plan helps customers save tax', 'known hirani yrs metoo claims true sonam']\n"
     ]
    },
    {
     "name": "stderr",
     "output_type": "stream",
     "text": [
      "\n"
     ]
    }
   ],
   "source": [
    "temp_headlinesdata = []\n",
    "\n",
    "for index, row in tqdm(data.iterrows(), total=data.shape[0]):\n",
    "    sentence = row['headlines']\n",
    "    temp = preprocess_sentence(sentence)\n",
    "    temp_headlinesdata.append(temp)\n",
    "    \n",
    "print(\"Headline 전처리 후 결과: \", temp_headlinesdata[:5])"
   ]
  },
  {
   "cell_type": "code",
   "execution_count": 48,
   "id": "0e4ce36d",
   "metadata": {},
   "outputs": [],
   "source": [
    "data['text'] = temp_textdata\n",
    "data['headlines'] = temp_headlinesdata\n",
    "\n",
    "# Replace '' to np.nan\n",
    "data.replace('', np.nan, inplace=True)"
   ]
  },
  {
   "cell_type": "code",
   "execution_count": 49,
   "id": "3e89efe8",
   "metadata": {},
   "outputs": [
    {
     "data": {
      "text/plain": [
       "headlines    0\n",
       "text         0\n",
       "dtype: int64"
      ]
     },
     "execution_count": 49,
     "metadata": {},
     "output_type": "execute_result"
    }
   ],
   "source": [
    "# Check null value\n",
    "data.isnull().sum()"
   ]
  },
  {
   "cell_type": "markdown",
   "id": "535c1f79",
   "metadata": {},
   "source": [
    "### 1-5-1. Visulaization preprocessing result"
   ]
  },
  {
   "cell_type": "code",
   "execution_count": 55,
   "id": "cbb240c0",
   "metadata": {},
   "outputs": [
    {
     "name": "stdout",
     "output_type": "stream",
     "text": [
      "min of text : 1\n",
      "max of text : 60\n",
      "avg of text : 35.09968483123221\n",
      "std dev of text : 3.7993861876499637\n",
      "min of headlines : 1\n",
      "max of headlines : 13\n",
      "avg of headlines : 7.136183407889386\n",
      "std dev of text : 1.1624147471716224\n"
     ]
    },
    {
     "data": {
      "image/png": "[encoded data removed]",
      "text/plain": [
       "<Figure size 432x288 with 2 Axes>"
      ]
     },
     "metadata": {
      "needs_background": "light"
     },
     "output_type": "display_data"
    },
    {
     "data": {
      "image/png": "[encoded data removed]",
      "text/plain": [
       "<Figure size 432x288 with 1 Axes>"
      ]
     },
     "metadata": {
      "needs_background": "light"
     },
     "output_type": "display_data"
    },
    {
     "data": {
      "image/png": "[encoded data removed]",
      "text/plain": [
       "<Figure size 432x288 with 1 Axes>"
      ]
     },
     "metadata": {
      "needs_background": "light"
     },
     "output_type": "display_data"
    }
   ],
   "source": [
    "text_len = [len(s.split()) for s in data['text']]\n",
    "headlines_len = [len(s.split()) for s in data['headlines']]\n",
    "\n",
    "print('min of text : {}'.format(np.min(text_len)))\n",
    "print('max of text : {}'.format(np.max(text_len)))\n",
    "print('avg of text : {}'.format(np.mean(text_len)))\n",
    "print('std dev of text : {}'.format(np.std(text_len)))\n",
    "print('min of headlines : {}'.format(np.min(headlines_len)))\n",
    "print('max of headlines : {}'.format(np.max(headlines_len)))\n",
    "print('avg of headlines : {}'.format(np.mean(headlines_len)))\n",
    "print('std dev of text : {}'.format(np.std(headlines_len)))\n",
    "\n",
    "plt.subplot(1,2,1)\n",
    "plt.boxplot(text_len)\n",
    "plt.title('Text')\n",
    "plt.subplot(1,2,2)\n",
    "plt.boxplot(headlines_len)\n",
    "plt.title('Headlines')\n",
    "plt.tight_layout()\n",
    "plt.show()\n",
    "\n",
    "plt.title('Text')\n",
    "plt.hist(text_len, bins = 40)\n",
    "plt.xlabel('length of samples')\n",
    "plt.ylabel('number of samples')\n",
    "plt.show()\n",
    "\n",
    "plt.title('Headlines')\n",
    "plt.hist(headlines_len, bins = 40)\n",
    "plt.xlabel('length of samples')\n",
    "plt.ylabel('number of samples')\n",
    "plt.show()"
   ]
  },
  {
   "cell_type": "markdown",
   "id": "8af0eb4d",
   "metadata": {},
   "source": [
    "### 1-5-2. Configure max len of data"
   ]
  },
  {
   "cell_type": "code",
   "execution_count": 64,
   "id": "015ace77",
   "metadata": {},
   "outputs": [],
   "source": [
    "def print_proportion_below_threshold_len(max_len, nested_list):\n",
    "    count = 0\n",
    "    for s in nested_list:\n",
    "        if(len(s.split()) <= max_len):\n",
    "            count += 1\n",
    "    print('Proportion of samples with a length of %s or less among all samples: %s' % (max_len, (count / len(nested_list))))"
   ]
  },
  {
   "cell_type": "code",
   "execution_count": 66,
   "id": "c401de36",
   "metadata": {},
   "outputs": [
    {
     "name": "stdout",
     "output_type": "stream",
     "text": [
      "Proportion of samples with a length of 42 or less among all samples: 0.9750305002033347\n",
      "Proportion of samples with a length of 9 or less among all samples: 0.9826250508336722\n"
     ]
    }
   ],
   "source": [
    "text_max_len = 42\n",
    "headline_max_len = 9\n",
    "\n",
    "print_proportion_below_threshold_len(text_max_len, data['text'])\n",
    "print_proportion_below_threshold_len(headline_max_len,  data['headlines'])"
   ]
  },
  {
   "cell_type": "code",
   "execution_count": 71,
   "id": "c8126dff",
   "metadata": {},
   "outputs": [
    {
     "name": "stdout",
     "output_type": "stream",
     "text": [
      "Total number of data after configuring max len of data:  94367\n"
     ]
    }
   ],
   "source": [
    "data = data[data.apply(lambda row: len(row['text'].split()) <= text_max_len \n",
    "                       and len(row['headlines'].split()) <= headline_max_len, axis = 1)]\n",
    "print(\"Total number of data after configuring max len of data: \",len(data))"
   ]
  },
  {
   "cell_type": "code",
   "execution_count": 72,
   "id": "0723fcae",
   "metadata": {},
   "outputs": [],
   "source": [
    "# copy data just in case\n",
    "temp_data = data.copy()"
   ]
  },
  {
   "cell_type": "markdown",
   "id": "776651fb",
   "metadata": {},
   "source": [
    "## 1-6. Create decoder dataset"
   ]
  },
  {
   "cell_type": "code",
   "execution_count": 228,
   "id": "41139681",
   "metadata": {},
   "outputs": [
    {
     "data": {
      "text/html": [
       "<div>\n",
       "<style scoped>\n",
       "    .dataframe tbody tr th:only-of-type {\n",
       "        vertical-align: middle;\n",
       "    }\n",
       "\n",
       "    .dataframe tbody tr th {\n",
       "        vertical-align: top;\n",
       "    }\n",
       "\n",
       "    .dataframe thead th {\n",
       "        text-align: right;\n",
       "    }\n",
       "</style>\n",
       "<table border=\"1\" class=\"dataframe\">\n",
       "  <thead>\n",
       "    <tr style=\"text-align: right;\">\n",
       "      <th></th>\n",
       "      <th>headlines</th>\n",
       "      <th>text</th>\n",
       "      <th>decoder_input</th>\n",
       "      <th>decoder_target</th>\n",
       "    </tr>\n",
       "  </thead>\n",
       "  <tbody>\n",
       "    <tr>\n",
       "      <th>0</th>\n",
       "      <td>upgrad learner switches career ml al salary hike</td>\n",
       "      <td>saurav kant alumnus upgrad iiit pg program mac...</td>\n",
       "      <td>sostoken upgrad learner switches career ml al ...</td>\n",
       "      <td>upgrad learner switches career ml al salary hi...</td>\n",
       "    </tr>\n",
       "    <tr>\n",
       "      <th>3</th>\n",
       "      <td>aegon life iterm insurance plan helps customer...</td>\n",
       "      <td>aegon life iterm insurance plan customers enjo...</td>\n",
       "      <td>sostoken aegon life iterm insurance plan helps...</td>\n",
       "      <td>aegon life iterm insurance plan helps customer...</td>\n",
       "    </tr>\n",
       "    <tr>\n",
       "      <th>4</th>\n",
       "      <td>known hirani yrs metoo claims true sonam</td>\n",
       "      <td>speaking sexual harassment allegations rajkuma...</td>\n",
       "      <td>sostoken known hirani yrs metoo claims true sonam</td>\n",
       "      <td>known hirani yrs metoo claims true sonam eostoken</td>\n",
       "    </tr>\n",
       "    <tr>\n",
       "      <th>5</th>\n",
       "      <td>rahat fateh ali khan denies getting notice smu...</td>\n",
       "      <td>pakistani singer rahat fateh ali khan denied r...</td>\n",
       "      <td>sostoken rahat fateh ali khan denies getting n...</td>\n",
       "      <td>rahat fateh ali khan denies getting notice smu...</td>\n",
       "    </tr>\n",
       "    <tr>\n",
       "      <th>6</th>\n",
       "      <td>india get lowest odi total new zealand</td>\n",
       "      <td>india recorded lowest odi total new zealand ge...</td>\n",
       "      <td>sostoken india get lowest odi total new zealand</td>\n",
       "      <td>india get lowest odi total new zealand eostoken</td>\n",
       "    </tr>\n",
       "  </tbody>\n",
       "</table>\n",
       "</div>"
      ],
      "text/plain": [
       "                                           headlines  \\\n",
       "0   upgrad learner switches career ml al salary hike   \n",
       "3  aegon life iterm insurance plan helps customer...   \n",
       "4           known hirani yrs metoo claims true sonam   \n",
       "5  rahat fateh ali khan denies getting notice smu...   \n",
       "6             india get lowest odi total new zealand   \n",
       "\n",
       "                                                text  \\\n",
       "0  saurav kant alumnus upgrad iiit pg program mac...   \n",
       "3  aegon life iterm insurance plan customers enjo...   \n",
       "4  speaking sexual harassment allegations rajkuma...   \n",
       "5  pakistani singer rahat fateh ali khan denied r...   \n",
       "6  india recorded lowest odi total new zealand ge...   \n",
       "\n",
       "                                       decoder_input  \\\n",
       "0  sostoken upgrad learner switches career ml al ...   \n",
       "3  sostoken aegon life iterm insurance plan helps...   \n",
       "4  sostoken known hirani yrs metoo claims true sonam   \n",
       "5  sostoken rahat fateh ali khan denies getting n...   \n",
       "6    sostoken india get lowest odi total new zealand   \n",
       "\n",
       "                                      decoder_target  \n",
       "0  upgrad learner switches career ml al salary hi...  \n",
       "3  aegon life iterm insurance plan helps customer...  \n",
       "4  known hirani yrs metoo claims true sonam eostoken  \n",
       "5  rahat fateh ali khan denies getting notice smu...  \n",
       "6    india get lowest odi total new zealand eostoken  "
      ]
     },
     "execution_count": 228,
     "metadata": {},
     "output_type": "execute_result"
    }
   ],
   "source": [
    "data['decoder_input'] = data['headlines'].apply(lambda x : 'sostoken ' + x)\n",
    "data['decoder_target'] = data['headlines'].apply(lambda x : x + ' eostoken')\n",
    "\n",
    "data.head()"
   ]
  },
  {
   "cell_type": "markdown",
   "id": "77ba04a6",
   "metadata": {},
   "source": [
    "## 1-7. Devide data to train and test data"
   ]
  },
  {
   "cell_type": "code",
   "execution_count": 229,
   "id": "240325af",
   "metadata": {},
   "outputs": [],
   "source": [
    "encoder_input = np.array(data['text'])\n",
    "decoder_input = np.array(data['decoder_input'])\n",
    "decoder_target = np.array(data['decoder_target'])"
   ]
  },
  {
   "cell_type": "markdown",
   "id": "fdb32ae6",
   "metadata": {},
   "source": [
    "### 1-7-1. Suffle dataset\n",
    "We should suffle dataset before applying it to the model, and it is a common practice in machine learning.  \n",
    "The reesona of suffling:  \n",
    " - Enhancing Generalization: Reducing Overfitting  \n",
    " - Ensuring Randomness  "
   ]
  },
  {
   "cell_type": "code",
   "execution_count": 230,
   "id": "6c6b1211",
   "metadata": {},
   "outputs": [],
   "source": [
    "# Suffle dataset\n",
    "indices = np.arange(encoder_input.shape[0])\n",
    "np.random.shuffle(indices)\n",
    "\n",
    "encoder_input = encoder_input[indices]\n",
    "decoder_input = decoder_input[indices]\n",
    "decoder_target = decoder_target[indices]"
   ]
  },
  {
   "cell_type": "markdown",
   "id": "46186b58",
   "metadata": {},
   "source": [
    "### 1-7-2. Divide dataset"
   ]
  },
  {
   "cell_type": "code",
   "execution_count": 231,
   "id": "c79dbc5a",
   "metadata": {},
   "outputs": [
    {
     "name": "stdout",
     "output_type": "stream",
     "text": [
      "Number of train_data : 66057\n",
      "Number of train_label : 66057\n",
      "Number of test_data : 28310\n",
      "Number of test_label : 28310\n"
     ]
    }
   ],
   "source": [
    "n_of_val = int(len(encoder_input)*0.3)\n",
    "\n",
    "encoder_input_train = encoder_input[:-n_of_val]\n",
    "decoder_input_train = decoder_input[:-n_of_val]\n",
    "decoder_target_train = decoder_target[:-n_of_val]\n",
    "\n",
    "encoder_input_test = encoder_input[-n_of_val:]\n",
    "decoder_input_test = decoder_input[-n_of_val:]\n",
    "decoder_target_test = decoder_target[-n_of_val:]\n",
    "\n",
    "print('Number of train_data :', len(encoder_input_train))\n",
    "print('Number of train_label :', len(decoder_input_train))\n",
    "print('Number of test_data :', len(encoder_input_test))\n",
    "print('Number of test_label :', len(decoder_input_test))"
   ]
  },
  {
   "cell_type": "markdown",
   "id": "9349969b",
   "metadata": {},
   "source": [
    "## 1-8. Preprocessing devieded encoding & decoding train data"
   ]
  },
  {
   "cell_type": "markdown",
   "id": "eab72305",
   "metadata": {},
   "source": [
    "### 1-8-1. Delete rare data"
   ]
  },
  {
   "cell_type": "code",
   "execution_count": 232,
   "id": "0ca6acc5",
   "metadata": {},
   "outputs": [],
   "source": [
    "# Function for checking the propotion of rara data\n",
    "def print_info_of_raredata (threshold, tokenizer):\n",
    "    total_cnt = len(tokenizer.word_index)  # Total number of words in the vocabulary\n",
    "    rare_cnt = 0  # Count of words with frequency less than the threshold\n",
    "    total_freq = 0  # Total frequency of words in the training data\n",
    "    rare_freq = 0  # Total frequency of words with frequency less than the threshold\n",
    "\n",
    "    for key, value in tokenizer.word_counts.items():\n",
    "        total_freq = total_freq + value\n",
    "    \n",
    "        if(value < threshold):\n",
    "            rare_cnt += 1\n",
    "            rare_freq += value\n",
    "        \n",
    "\n",
    "    print('Vocabulary size:', total_cnt)\n",
    "    print('Number of rare words with a frequency of less than %s: %s' % (threshold - 1, rare_cnt))\n",
    "    print('Vocabulary size when excluding rare words: %s' % (total_cnt - rare_cnt))\n",
    "    print(\"Percentage of rare words in the vocabulary:\", (rare_cnt / total_cnt) * 100)\n",
    "    print(\"Percentage of total word frequency accounted for by rare words:\", (rare_freq / total_freq) * 100)"
   ]
  },
  {
   "cell_type": "code",
   "execution_count": 233,
   "id": "8b9c4d7d",
   "metadata": {},
   "outputs": [
    {
     "name": "stdout",
     "output_type": "stream",
     "text": [
      "Vocabulary size: 63993\n",
      "Number of rare words with a frequency of less than 6: 43746\n",
      "Vocabulary size when excluding rare words: 20247\n",
      "Percentage of rare words in the vocabulary: 68.36060194083728\n",
      "Percentage of total word frequency accounted for by rare words: 3.8829952933785354\n"
     ]
    }
   ],
   "source": [
    "print_info_of_raredata(threshold=7, tokenizer=src_tokenizer)"
   ]
  },
  {
   "cell_type": "code",
   "execution_count": 234,
   "id": "f617c5f9",
   "metadata": {},
   "outputs": [],
   "source": [
    "# Delete rare words in input\n",
    "src_vocab = 20247\n",
    "src_tokenizer = Tokenizer(num_words=src_vocab)\n",
    "src_tokenizer.fit_on_texts(encoder_input_train)"
   ]
  },
  {
   "cell_type": "code",
   "execution_count": 235,
   "id": "58d822ed",
   "metadata": {},
   "outputs": [],
   "source": [
    "tar_tokenizer = Tokenizer()\n",
    "\n",
    "# Create set of vocab in encoder_input_train\n",
    "tar_tokenizer.fit_on_texts(decoder_input_train)"
   ]
  },
  {
   "cell_type": "code",
   "execution_count": 241,
   "id": "bd1ab311",
   "metadata": {},
   "outputs": [
    {
     "name": "stdout",
     "output_type": "stream",
     "text": [
      "Vocabulary size: 27771\n",
      "Number of rare words with a frequency of less than 6: 19233\n",
      "Vocabulary size when excluding rare words: 8538\n",
      "Percentage of rare words in the vocabulary: 69.25569839040726\n",
      "Percentage of total word frequency accounted for by rare words: 7.544971957006997\n"
     ]
    }
   ],
   "source": [
    "print_info_of_raredata(threshold=7, tokenizer=tar_tokenizer)"
   ]
  },
  {
   "cell_type": "code",
   "execution_count": 246,
   "id": "00e7c17b",
   "metadata": {},
   "outputs": [],
   "source": [
    "# Delete rare words in output\n",
    "tar_vocab = 8538\n",
    "tar_tokenizer = Tokenizer(num_words=tar_vocab)\n",
    "tar_tokenizer.fit_on_texts(decoder_input_train)\n",
    "tar_tokenizer.fit_on_texts(decoder_target_train)"
   ]
  },
  {
   "cell_type": "markdown",
   "id": "c8124ccb",
   "metadata": {},
   "source": [
    "### 1-8-2. Convert text to int"
   ]
  },
  {
   "cell_type": "code",
   "execution_count": 236,
   "id": "de566aeb",
   "metadata": {},
   "outputs": [],
   "source": [
    "encoder_input_train = src_tokenizer.texts_to_sequences(encoder_input_train) \n",
    "encoder_input_test = src_tokenizer.texts_to_sequences(encoder_input_test)"
   ]
  },
  {
   "cell_type": "code",
   "execution_count": 237,
   "id": "0045aa2d",
   "metadata": {},
   "outputs": [
    {
     "name": "stdout",
     "output_type": "stream",
     "text": [
      "[[12, 587, 105, 1198, 5536, 1, 10649, 2744, 1687, 2049, 1222, 381, 302, 2165, 3719, 11, 510, 1688, 20, 887, 2628, 3393, 5, 4729, 5536, 1], [1613, 550, 77, 12847, 830, 406, 5610, 2176, 315, 2098, 179, 964, 787, 132, 194, 227, 546, 2, 231, 12847, 10118, 1225, 7, 4485, 77, 30, 342, 44, 112, 156, 30, 373, 456, 44], [205, 59, 162, 4026, 159, 19, 140, 6885, 85, 4780, 1748, 1306, 2, 201, 2223, 739, 2505, 44, 3315, 303, 652, 1011, 1055, 7223, 6885, 205, 1, 335, 148, 754, 3860, 2, 22]]\n"
     ]
    }
   ],
   "source": [
    "print(encoder_input_train[:3])"
   ]
  },
  {
   "cell_type": "code",
   "execution_count": 249,
   "id": "b6911b32",
   "metadata": {},
   "outputs": [
    {
     "name": "stdout",
     "output_type": "stream",
     "text": [
      "input\n",
      "input  [[1, 7848, 716, 435, 3297, 1107, 3298], [1, 519, 1922, 323, 3109, 173, 47, 353], [1, 164, 100, 2636, 244, 575, 5966, 34], [1, 1144, 1145, 2296, 7282, 4033, 4033, 1049, 3012, 3536], [1, 3888, 614, 47, 133, 60]]\n",
      "target\n",
      "decoder  [[7848, 716, 435, 3297, 1107, 3298, 2], [519, 1922, 323, 3109, 173, 47, 353, 2], [164, 100, 2636, 244, 575, 5966, 34, 2], [1144, 1145, 2296, 7282, 4033, 4033, 1049, 3012, 3536, 2], [3888, 614, 47, 133, 60, 2]]\n"
     ]
    }
   ],
   "source": [
    "decoder_input_train = tar_tokenizer.texts_to_sequences(decoder_input_train) \n",
    "decoder_target_train = tar_tokenizer.texts_to_sequences(decoder_target_train)\n",
    "decoder_input_test = tar_tokenizer.texts_to_sequences(decoder_input_test)\n",
    "decoder_target_test = tar_tokenizer.texts_to_sequences(decoder_target_test)\n",
    "\n",
    "print('input')\n",
    "print('input ',decoder_input_train[:5])\n",
    "print('target')\n",
    "print('decoder ',decoder_target_train[:5])"
   ]
  },
  {
   "cell_type": "markdown",
   "id": "335207ca",
   "metadata": {},
   "source": [
    "### 1-8-3. Delete empy data on target data (because of deleting rare word)"
   ]
  },
  {
   "cell_type": "code",
   "execution_count": 251,
   "id": "bcc06d7d",
   "metadata": {
    "scrolled": true
   },
   "outputs": [
    {
     "name": "stdout",
     "output_type": "stream",
     "text": [
      "Number of training data to be removed: 2\n",
      "Number of test data to be removed: 1\n",
      "Number of training data: 66055\n",
      "Number of training labels: 66055\n",
      "Number of test data: 28309\n",
      "Number of test labels: 28309\n"
     ]
    }
   ],
   "source": [
    "# Create index list consisting of sostoken and eostoken\n",
    "drop_train = [index for index, sentence in enumerate(decoder_input_train) if len(sentence) == 1]\n",
    "drop_test = [index for index, sentence in enumerate(decoder_input_test) if len(sentence) == 1]\n",
    "\n",
    "print('Number of training data to be removed:', len(drop_train))\n",
    "print('Number of test data to be removed:', len(drop_test))\n",
    "\n",
    "encoder_input_train = [sentence for index, sentence in enumerate(encoder_input_train) if index not in drop_train]\n",
    "decoder_input_train = [sentence for index, sentence in enumerate(decoder_input_train) if index not in drop_train]\n",
    "decoder_target_train = [sentence for index, sentence in enumerate(decoder_target_train) if index not in drop_train]\n",
    "\n",
    "encoder_input_test = [sentence for index, sentence in enumerate(encoder_input_test) if index not in drop_test]\n",
    "decoder_input_test = [sentence for index, sentence in enumerate(decoder_input_test) if index not in drop_test]\n",
    "decoder_target_test = [sentence for index, sentence in enumerate(decoder_target_test) if index not in drop_test]\n",
    "\n",
    "print('Number of training data:', len(encoder_input_train))\n",
    "print('Number of training labels:', len(decoder_input_train))\n",
    "print('Number of test data:', len(encoder_input_test))\n",
    "print('Number of test labels:', len(decoder_input_test))"
   ]
  },
  {
   "cell_type": "markdown",
   "id": "43a56426",
   "metadata": {},
   "source": [
    "### 1-8-4. Insert padding "
   ]
  },
  {
   "cell_type": "code",
   "execution_count": 253,
   "id": "55692cf2",
   "metadata": {},
   "outputs": [],
   "source": [
    "encoder_input_train = pad_sequences(encoder_input_train, maxlen=text_max_len, padding='pre')\n",
    "encoder_input_test = pad_sequences(encoder_input_test, maxlen=text_max_len, padding='pre')\n",
    "decoder_input_train = pad_sequences(decoder_input_train, maxlen=headline_max_len, padding='pre')\n",
    "decoder_target_train = pad_sequences(decoder_target_train, maxlen=headline_max_len, padding='pre')\n",
    "decoder_input_test = pad_sequences(decoder_input_test, maxlen=headline_max_len, padding='pre')\n",
    "decoder_target_test = pad_sequences(decoder_target_test, maxlen=headline_max_len, padding='pre')"
   ]
  },
  {
   "cell_type": "markdown",
   "id": "5a78ee5b",
   "metadata": {},
   "source": [
    "# 2. Create , trian and test the Model"
   ]
  },
  {
   "cell_type": "markdown",
   "id": "9592f879",
   "metadata": {},
   "source": [
    "## 2-1. Create the Model\n",
    "### 2-1-1. Create encoder"
   ]
  },
  {
   "cell_type": "code",
   "execution_count": 257,
   "id": "bfab1fa0",
   "metadata": {},
   "outputs": [],
   "source": [
    "from tensorflow.keras.layers import Input, LSTM, Embedding, Dense, Concatenate, TimeDistributed\n",
    "from tensorflow.keras.models import Model\n",
    "from tensorflow.keras.callbacks import EarlyStopping, ModelCheckpoint\n",
    "\n",
    "embedding_dim = 128\n",
    "hidden_size = 256\n",
    "\n",
    "encoder_inputs = Input(shape=(text_max_len,))\n",
    "\n",
    "# Encoder's Embedding Layer\n",
    "enc_emb = Embedding(src_vocab, embedding_dim)(encoder_inputs)\n",
    "\n",
    "# Encoder's LSTM 1\n",
    "encoder_lstm1 = LSTM(hidden_size, return_sequences=True, return_state=True, dropout=0.4)\n",
    "encoder_output1, state_h1, state_c1 = encoder_lstm1(enc_emb)\n",
    "\n",
    "# Encoder's LSTM 2\n",
    "encoder_lstm2 = LSTM(hidden_size, return_sequences=True, return_state=True, dropout=0.4)\n",
    "encoder_output2, state_h2, state_c2 = encoder_lstm2(encoder_output1)  \n",
    "\n",
    "# Encoder's LSTM 3\n",
    "encoder_lstm3 = LSTM(hidden_size, return_sequences=True, return_state=True, dropout=0.4)\n",
    "encoder_output3, state_h3, state_c3 = encoder_lstm3(encoder_output2)"
   ]
  },
  {
   "cell_type": "markdown",
   "id": "2110ca6b",
   "metadata": {},
   "source": [
    "### 2-1-1. Create decoder"
   ]
  },
  {
   "cell_type": "code",
   "execution_count": 260,
   "id": "06061ea4",
   "metadata": {},
   "outputs": [
    {
     "name": "stdout",
     "output_type": "stream",
     "text": [
      "Model: \"model_3\"\n",
      "__________________________________________________________________________________________________\n",
      "Layer (type)                    Output Shape         Param #     Connected to                     \n",
      "==================================================================================================\n",
      "input_4 (InputLayer)            [(None, 42)]         0                                            \n",
      "__________________________________________________________________________________________________\n",
      "embedding_3 (Embedding)         (None, 42, 128)      2591616     input_4[0][0]                    \n",
      "__________________________________________________________________________________________________\n",
      "lstm_5 (LSTM)                   [(None, 42, 256), (N 394240      embedding_3[0][0]                \n",
      "__________________________________________________________________________________________________\n",
      "input_7 (InputLayer)            [(None, None)]       0                                            \n",
      "__________________________________________________________________________________________________\n",
      "lstm_6 (LSTM)                   [(None, 42, 256), (N 525312      lstm_5[0][0]                     \n",
      "__________________________________________________________________________________________________\n",
      "embedding_6 (Embedding)         (None, None, 128)    1092864     input_7[0][0]                    \n",
      "__________________________________________________________________________________________________\n",
      "lstm_7 (LSTM)                   [(None, 42, 256), (N 525312      lstm_6[0][0]                     \n",
      "__________________________________________________________________________________________________\n",
      "lstm_10 (LSTM)                  [(None, None, 256),  394240      embedding_6[0][0]                \n",
      "                                                                 lstm_7[0][1]                     \n",
      "                                                                 lstm_7[0][2]                     \n",
      "__________________________________________________________________________________________________\n",
      "dense_3 (Dense)                 (None, None, 8538)   2194266     lstm_10[0][0]                    \n",
      "==================================================================================================\n",
      "Total params: 7,717,850\n",
      "Trainable params: 7,717,850\n",
      "Non-trainable params: 0\n",
      "__________________________________________________________________________________________________\n"
     ]
    }
   ],
   "source": [
    "# Decoder Design\n",
    "decoder_inputs = Input(shape=(None,))\n",
    "\n",
    "# Decoder's Embedding Layer\n",
    "dec_emb_layer = Embedding(tar_vocab, embedding_dim)\n",
    "dec_emb = dec_emb_layer(decoder_inputs)\n",
    "\n",
    "# Decoder's LSTM Layer\n",
    "decoder_lstm = LSTM(hidden_size, return_sequences=True, return_state=True, dropout=0.4)\n",
    "decoder_outputs, _, _ = decoder_lstm(dec_emb, initial_state=[state_h3, state_c3])\n",
    "\n",
    "# Decoder's Output Layer\n",
    "decoder_softmax_layer = Dense(tar_vocab, activation='softmax')\n",
    "decoder_softmax_outputs = decoder_softmax_layer(decoder_outputs)\n",
    "\n",
    "# Model Definition\n",
    "model = Model([encoder_inputs, decoder_inputs], decoder_softmax_outputs)\n",
    "model.summary()"
   ]
  },
  {
   "cell_type": "code",
   "execution_count": 261,
   "id": "8f1ca711",
   "metadata": {},
   "outputs": [
    {
     "name": "stdout",
     "output_type": "stream",
     "text": [
      "Model: \"model_4\"\n",
      "__________________________________________________________________________________________________\n",
      "Layer (type)                    Output Shape         Param #     Connected to                     \n",
      "==================================================================================================\n",
      "input_4 (InputLayer)            [(None, 42)]         0                                            \n",
      "__________________________________________________________________________________________________\n",
      "embedding_3 (Embedding)         (None, 42, 128)      2591616     input_4[0][0]                    \n",
      "__________________________________________________________________________________________________\n",
      "lstm_5 (LSTM)                   [(None, 42, 256), (N 394240      embedding_3[0][0]                \n",
      "__________________________________________________________________________________________________\n",
      "input_7 (InputLayer)            [(None, None)]       0                                            \n",
      "__________________________________________________________________________________________________\n",
      "lstm_6 (LSTM)                   [(None, 42, 256), (N 525312      lstm_5[0][0]                     \n",
      "__________________________________________________________________________________________________\n",
      "embedding_6 (Embedding)         (None, None, 128)    1092864     input_7[0][0]                    \n",
      "__________________________________________________________________________________________________\n",
      "lstm_7 (LSTM)                   [(None, 42, 256), (N 525312      lstm_6[0][0]                     \n",
      "__________________________________________________________________________________________________\n",
      "lstm_10 (LSTM)                  [(None, None, 256),  394240      embedding_6[0][0]                \n",
      "                                                                 lstm_7[0][1]                     \n",
      "                                                                 lstm_7[0][2]                     \n",
      "__________________________________________________________________________________________________\n",
      "attention_layer (AdditiveAttent (None, None, 256)    256         lstm_10[0][0]                    \n",
      "                                                                 lstm_7[0][0]                     \n",
      "__________________________________________________________________________________________________\n",
      "concat_layer (Concatenate)      (None, None, 512)    0           lstm_10[0][0]                    \n",
      "                                                                 attention_layer[0][0]            \n",
      "__________________________________________________________________________________________________\n",
      "dense_4 (Dense)                 (None, None, 8538)   4379994     concat_layer[0][0]               \n",
      "==================================================================================================\n",
      "Total params: 9,903,834\n",
      "Trainable params: 9,903,834\n",
      "Non-trainable params: 0\n",
      "__________________________________________________________________________________________________\n"
     ]
    }
   ],
   "source": [
    "from tensorflow.keras.layers import AdditiveAttention\n",
    "\n",
    "# Attention Layer (Attention Function)\n",
    "attn_layer = AdditiveAttention(name='attention_layer')\n",
    "\n",
    "# Pass the hidden states of all time steps from the encoder and decoder to the attention layer\n",
    "attn_out = attn_layer([decoder_outputs, encoder_output3])\n",
    "\n",
    "# Connect the output of the attention mechanism with the decoder's hidden states\n",
    "decoder_concat_input = Concatenate(axis=-1, name='concat_layer')([decoder_outputs, attn_out])\n",
    "\n",
    "# Decoder's Output Layer\n",
    "decoder_softmax_layer = Dense(tar_vocab, activation='softmax')\n",
    "decoder_softmax_outputs = decoder_softmax_layer(decoder_concat_input)\n",
    "\n",
    "# Model Definition\n",
    "model = Model([encoder_inputs, decoder_inputs], decoder_softmax_outputs)\n",
    "model.summary()"
   ]
  },
  {
   "cell_type": "markdown",
   "id": "f54167b5",
   "metadata": {},
   "source": [
    "## 2-2. Train the Model"
   ]
  },
  {
   "cell_type": "code",
   "execution_count": 262,
   "id": "6afe5c17",
   "metadata": {},
   "outputs": [
    {
     "name": "stdout",
     "output_type": "stream",
     "text": [
      "Epoch 1/50\n",
      "259/259 [==============================] - 30s 87ms/step - loss: 5.9583 - val_loss: 5.6393\n",
      "Epoch 2/50\n",
      "259/259 [==============================] - 22s 85ms/step - loss: 5.6790 - val_loss: 6.0293\n",
      "Epoch 3/50\n",
      "259/259 [==============================] - 23s 87ms/step - loss: 5.5496 - val_loss: 5.3424\n",
      "Epoch 4/50\n",
      "259/259 [==============================] - 23s 88ms/step - loss: 5.3007 - val_loss: 5.1538\n",
      "Epoch 5/50\n",
      "259/259 [==============================] - 23s 87ms/step - loss: 5.0485 - val_loss: 4.9761\n",
      "Epoch 6/50\n",
      "259/259 [==============================] - 22s 87ms/step - loss: 4.8100 - val_loss: 4.7906\n",
      "Epoch 7/50\n",
      "259/259 [==============================] - 23s 87ms/step - loss: 4.5998 - val_loss: 4.6716\n",
      "Epoch 8/50\n",
      "259/259 [==============================] - 23s 87ms/step - loss: 4.4067 - val_loss: 4.4958\n",
      "Epoch 9/50\n",
      "259/259 [==============================] - 23s 87ms/step - loss: 4.2356 - val_loss: 4.4335\n",
      "Epoch 10/50\n",
      "259/259 [==============================] - 23s 87ms/step - loss: 4.0853 - val_loss: 4.3421\n",
      "Epoch 11/50\n",
      "259/259 [==============================] - 23s 87ms/step - loss: 3.9493 - val_loss: 4.2787\n",
      "Epoch 12/50\n",
      "259/259 [==============================] - 23s 87ms/step - loss: 3.8217 - val_loss: 4.2268\n",
      "Epoch 13/50\n",
      "259/259 [==============================] - 23s 88ms/step - loss: 3.7075 - val_loss: 4.2064\n",
      "Epoch 14/50\n",
      "259/259 [==============================] - 23s 87ms/step - loss: 3.5990 - val_loss: 4.1545\n",
      "Epoch 15/50\n",
      "259/259 [==============================] - 23s 87ms/step - loss: 3.4968 - val_loss: 4.0747\n",
      "Epoch 16/50\n",
      "259/259 [==============================] - 23s 87ms/step - loss: 3.4068 - val_loss: 4.0980\n",
      "Epoch 17/50\n",
      "259/259 [==============================] - 23s 87ms/step - loss: 3.3222 - val_loss: 4.0377\n",
      "Epoch 18/50\n",
      "259/259 [==============================] - 23s 87ms/step - loss: 3.2420 - val_loss: 4.0489\n",
      "Epoch 19/50\n",
      "259/259 [==============================] - 23s 87ms/step - loss: 3.1665 - val_loss: 4.0151\n",
      "Epoch 20/50\n",
      "259/259 [==============================] - 23s 88ms/step - loss: 3.0951 - val_loss: 4.0141\n",
      "Epoch 21/50\n",
      "259/259 [==============================] - 23s 88ms/step - loss: 3.0315 - val_loss: 4.0123\n",
      "Epoch 22/50\n",
      "259/259 [==============================] - 23s 88ms/step - loss: 2.9694 - val_loss: 3.9940\n",
      "Epoch 23/50\n",
      "259/259 [==============================] - 23s 88ms/step - loss: 2.9108 - val_loss: 3.9880\n",
      "Epoch 24/50\n",
      "259/259 [==============================] - 23s 88ms/step - loss: 2.8524 - val_loss: 3.9848\n",
      "Epoch 25/50\n",
      "259/259 [==============================] - 23s 87ms/step - loss: 2.7949 - val_loss: 3.9882\n",
      "Epoch 26/50\n",
      "259/259 [==============================] - 23s 87ms/step - loss: 2.7415 - val_loss: 3.9803\n",
      "Epoch 27/50\n",
      "259/259 [==============================] - 23s 88ms/step - loss: 2.6958 - val_loss: 3.9820\n",
      "Epoch 28/50\n",
      "259/259 [==============================] - 23s 88ms/step - loss: 2.6506 - val_loss: 3.9908\n",
      "Epoch 00028: early stopping\n"
     ]
    }
   ],
   "source": [
    "model.compile(optimizer='rmsprop', loss='sparse_categorical_crossentropy')\n",
    "es = EarlyStopping(monitor='val_loss', patience=2, verbose=1)\n",
    "history = model.fit(x=[encoder_input_train, decoder_input_train], y=decoder_target_train, \\\n",
    "          validation_data=([encoder_input_test, decoder_input_test], decoder_target_test), \\\n",
    "          batch_size=256, callbacks=[es], epochs=50)"
   ]
  },
  {
   "cell_type": "markdown",
   "id": "343fc546",
   "metadata": {},
   "source": [
    "### 2-2-1. Visulaization the result"
   ]
  },
  {
   "cell_type": "code",
   "execution_count": 263,
   "id": "b29a3162",
   "metadata": {},
   "outputs": [
    {
     "data": {
      "image/png": "[encoded data removed]",
      "text/plain": [
       "<Figure size 432x288 with 1 Axes>"
      ]
     },
     "metadata": {
      "needs_background": "light"
     },
     "output_type": "display_data"
    }
   ],
   "source": [
    "plt.plot(history.history['loss'], label='train')\n",
    "plt.plot(history.history['val_loss'], label='test')\n",
    "plt.legend()\n",
    "plt.show()"
   ]
  },
  {
   "cell_type": "markdown",
   "id": "0f9e8414",
   "metadata": {},
   "source": [
    "## 2-3. Test the Model\n",
    "### 2-3-1.  Create the final step for coverting result of testing model"
   ]
  },
  {
   "cell_type": "code",
   "execution_count": 265,
   "id": "c5c9f9b5",
   "metadata": {},
   "outputs": [],
   "source": [
    "# Attention Function\n",
    "decoder_hidden_state_input = Input(shape=(text_max_len, hidden_size))\n",
    "attn_out_inf = attn_layer([decoder_outputs2, decoder_hidden_state_input])\n",
    "decoder_inf_concat = Concatenate(axis=-1, name='concat')([decoder_outputs2, attn_out_inf])\n",
    "\n",
    "# Decoder's Output Layer\n",
    "decoder_outputs2 = decoder_softmax_layer(decoder_inf_concat)\n",
    "\n",
    "# Final Decoder Model\n",
    "decoder_model = Model(\n",
    "    [decoder_inputs] + [decoder_hidden_state_input, decoder_state_input_h, decoder_state_input_c],\n",
    "    [decoder_outputs2] + [state_h2, state_c2])"
   ]
  },
  {
   "cell_type": "code",
   "execution_count": 269,
   "id": "31f390fa",
   "metadata": {},
   "outputs": [],
   "source": [
    "src_index_to_word = src_tokenizer.index_word\n",
    "tar_word_to_index = tar_tokenizer.word_index\n",
    "tar_index_to_word = tar_tokenizer.index_word\n",
    "\n",
    "def decode_sequence(input_seq):\n",
    "    # Obtain the encoder's states from the input\n",
    "    e_out, e_h, e_c = encoder_model.predict(input_seq)\n",
    "\n",
    "    # Generate the token for <SOS> (Start of Sentence)\n",
    "    target_seq = np.zeros((1, 1))\n",
    "    target_seq[0, 0] = tar_word_to_index['sostoken']\n",
    "\n",
    "    stop_condition = False\n",
    "    decoded_sentence = ''\n",
    "    while not stop_condition:  # Continue the loop until stop_condition becomes True\n",
    "\n",
    "        # Predict the next token in the sequence using the decoder model\n",
    "        output_tokens, h, c = decoder_model.predict([target_seq] + [e_out, e_h, e_c])\n",
    "        sampled_token_index = np.argmax(output_tokens[0, -1, :])\n",
    "        sampled_token = tar_index_to_word[sampled_token_index]\n",
    "\n",
    "        if sampled_token != 'eostoken':\n",
    "            decoded_sentence += ' ' + sampled_token\n",
    "\n",
    "        # Stop when <eos> is reached or maximum length is exceeded\n",
    "        if sampled_token == 'eostoken' or len(decoded_sentence.split()) >= (headline_max_len - 1):\n",
    "            stop_condition = True\n",
    "\n",
    "        # Update the target sequence with a length-1 token\n",
    "        target_seq = np.zeros((1, 1))\n",
    "        target_seq[0, 0] = sampled_token_index\n",
    "\n",
    "        # Update the states\n",
    "        e_h, e_c = h, c\n",
    "\n",
    "    return decoded_sentence"
   ]
  },
  {
   "cell_type": "code",
   "execution_count": 272,
   "id": "92a63bbe",
   "metadata": {},
   "outputs": [],
   "source": [
    "# Convert the integer sequence of the original text to a text sequence\n",
    "def seq2text(input_seq):\n",
    "    temp = ''\n",
    "    for i in input_seq:\n",
    "        if i != 0:\n",
    "            temp = temp + src_index_to_word[i] + ' '\n",
    "    return temp\n",
    "\n",
    "# Convert the integer sequence of the summary to a text sequence\n",
    "def seq2summary(input_seq):\n",
    "    temp = ''\n",
    "    for i in input_seq:\n",
    "        if i == 1:\n",
    "            temp = temp + ''\n",
    "        elif i == 2:\n",
    "            temp = temp + ''\n",
    "        elif i != 0:\n",
    "            temp = temp + tar_index_to_word[i] + ' '\n",
    "    return temp"
   ]
  },
  {
   "cell_type": "code",
   "execution_count": 277,
   "id": "9659e334",
   "metadata": {},
   "outputs": [
    {
     "name": "stdout",
     "output_type": "stream",
     "text": [
      "Original Text : year old girl allegedly gang raped three four accused men thrown drain jharkhand friday girl returning home maternal uncle residence alone accused started following committed crime girl rescued drain screamed help consciousness \n",
      "Actual Summary : girl thrown drain gang raped jharkhand \n",
      "Predicted Summary :  year old raped men raped men greater noida\n",
      "\n",
      "\n",
      "Original Text : actress ayesha said never felt nervous people accepting comeback bollywood added always person even two shifts day finish work pack go home get disconnected everything else ayesha took break films son birth \n",
      "Actual Summary : never felt nervous accepted post comeback \n",
      "Predicted Summary :  want people want want want work together film\n",
      "\n",
      "\n",
      "Original Text : lady gaga earned first nomination best actress category star born oscars roma also nominated making fourth actress shortlisted category seven time academy award nominee glenn close earned fourth nomination category performance wife \n",
      "Actual Summary : best actress oscars \n",
      "Predicted Summary :  st lady wins best award golden award years\n",
      "\n",
      "\n",
      "Original Text : mobile hotel rooms near small village finland rooms fit two people feature bed dining table gas heater external dry toilet also feature glass giving guests chance see northern lights inside hotel rooms \n",
      "Actual Summary : mobile hotel rooms finland \n",
      "Predicted Summary :  hotel lets people get hotel hotel guests food\n",
      "\n",
      "\n",
      "Original Text : actress tabu talking women playing comic characters said see era language internationally norm tabu added writing comic parts women easy common talking role golmaal tabu said lovely role fits beautifully \n",
      "Actual Summary : see women playing characters tabu \n",
      "Predicted Summary :  casting couch wood like actor says casting couch\n",
      "\n",
      "\n",
      "Original Text : world richest man jeff bezos revealed fantasy bartender bezos added craft fantasy bar would sign saying want good want fast bezos also said would software engineer jeff bezos \n",
      "Actual Summary : fantasy jeff bezos \n",
      "Predicted Summary :  bezos startup made bezos bezos sex claims report\n",
      "\n",
      "\n",
      "Original Text : dark matter dark energy believed make universe may exist according swiss researcher andr fitted hypothesis einstein theory general relativity found need factor dark energy explain universe accelerating expansion using newton speeding galaxies could explained without dark matter \n",
      "Actual Summary : dark matter dark energy may exist study claims \n",
      "Predicted Summary :  world smallest star time matter behind life study\n",
      "\n",
      "\n",
      "Original Text : dish network pay million us government four states using consumers call lists marking record fine violations dish sued violating two consumer laws making crore illegal calls dish however blamed contractors bad calls \n",
      "Actual Summary : dish fined record cr illegal calls \n",
      "Predicted Summary :  us firm fined mn fine mn fine suit\n",
      "\n",
      "\n",
      "Original Text : world largest retailer mart stores changing legal name walmart years effective february company said move shows growing emphasis serving shoppers different ways beyond physical stores also online mobile devices pickup delivery mart operates stores clubs countries \n",
      "Actual Summary : stores change name walmart years \n",
      "Predicted Summary :  world largest firm adds blockchain service walmart deal\n",
      "\n",
      "\n",
      "Original Text : paris banned sexist discriminatory ads billboards ban proposed department equality women men fight discrimination includes image deemed defame ethnicity nationality religion sex age paris preventing degrading images certain categories citizens officials said \n",
      "Actual Summary : paris bans sexist discriminatory ads \n",
      "Predicted Summary :  ban hijab banned women hijab law govt tells\n",
      "\n",
      "\n",
      "Original Text : blue species newly discovered south america already critically endangered hundred left existence bird experts believe individual blue left number could even lower live high elevation habitats \n",
      "Actual Summary : newly discovered already endangered \n",
      "Predicted Summary :  yr old blue whale sea found back home\n",
      "\n",
      "\n",
      "Original Text : madhya pradesh cabinet tuesday imposed ban using polythene carry bags state effect may cows eat polythene plastic bags leads death banning polythene use protect lives besides plastic polythene bags also harmful environment state public relations department minister mishra said \n",
      "Actual Summary : madhya pradesh bans bags may \n",
      "Predicted Summary :  kerala govt bans ban liquor ban plastic ban\n",
      "\n",
      "\n",
      "Original Text : former prime minister manmohan singh said take least year economy recover shock demonetisation implementation gst added demonetisation resulted slowing economic growth per cent per cent first quarter \n",
      "Actual Summary : economy take yr recover note ban gst ex pm \n",
      "Predicted Summary :  manmohan singh get job ex pm manmohan singh\n",
      "\n",
      "\n",
      "Original Text : year old constable nagaland voluntarily collects garbage old maruti van keep town located nearly km clean deposits pile garbage dumping site located several kilometres outside town reportedly took trips rid entire town garbage first day \n",
      "Actual Summary : constable collects garbage old van clean town \n",
      "Predicted Summary :  govt build drone drive km km km haryana\n",
      "\n",
      "\n",
      "Original Text : filmmaker anurag basu addressing people like jagga jasoos said rejection pave way next film promise try added basu also thanked fans liked film tweeted thank much ur love appreciation like oxygen right \n",
      "Actual Summary : rejection way next film basu jagga jasoos \n",
      "Predicted Summary :  anurag kashyap calls anurag kashyap kashyap anurag kashyap\n",
      "\n",
      "\n",
      "Original Text : spacex reportedly lost secret satellite zuma commissioned us government failed reach orbit strategic command monitors man made objects space said track new satellites since launch reports suggest payload separate falcon upper stage fell back earth \n",
      "Actual Summary : spacex loses secret us govt satellite latest launch \n",
      "Predicted Summary :  us space station launch first ever moon moon\n",
      "\n",
      "\n",
      "Original Text : supplier retail giant walmart recalled frozen pizzas available us states due concerns possible contamination supplier recalled pounds extra large supreme pizza shipped retail distribution centres walmart said unaware illnesses linked pizzas \n",
      "Actual Summary : walmart supplier recalls frozen fear \n",
      "Predicted Summary :  walmart may bn per week supply walmart years\n",
      "\n",
      "\n",
      "Original Text : kerala high court rejected bail plea actor dileep arrested two weeks ago connection abduction assault malayalam actress court noted dileep release point would affect ongoing investigation police suspect dileep paying men abduct assault actress \n",
      "Actual Summary : hc rejects dileep bail plea actress abduction case \n",
      "Predicted Summary :  dileep dileep accused dileep bail plea rejected hc\n",
      "\n",
      "\n",
      "Original Text : actor hrithik roshan lawyer mahesh jethmalani tv interview said police complaint filed kangana ranaut april year client stalked actress hrithik also reportedly alleged complaint sent sexually explicit emails despite maintaining strictly professional relationship \n",
      "Actual Summary : ranaut client hrithik lawyer police complaint \n",
      "Predicted Summary :  hrithik roshan hrithik roshan accuses hrithik roshan roshan\n",
      "\n",
      "\n",
      "Original Text : one eight french women nearly lakh country female population raped least lifetime study jean revealed think tank surveyed women assess extent sexual harassment france study revealed respondents sexually touched without consent \n",
      "Actual Summary : french women raped study \n",
      "Predicted Summary :  sex sex abuse may reported kerala study study\n",
      "\n",
      "\n",
      "Original Text : former madhya pradesh cm shivraj singh chouhan thursday said reports people given name farm loan waiver cruel joke claimed list beneficiaries published english confusing farmers comes farmer alleged received waiver loan \n",
      "Actual Summary : farm loan waiver cruel joke shivraj chouhan \n",
      "Predicted Summary :  mp cm chouhan singh singh singh singh mp\n",
      "\n",
      "\n",
      "Original Text : adil taj pakistani cricket fan sang indian national anthem india asia cup match pakistan wednesday said learnt india national anthem bollywood movie kabhi khushi kabhie gham taj added carry nations flags next asia cup match scheduled sunday \n",
      "Actual Summary : learnt indian anthem khushi pak fan \n",
      "Predicted Summary :  pak players play indian cricket pak play event\n",
      "\n",
      "\n",
      "Original Text : government exempted children age five years giving biometrics passport issuing authority mos external affairs general vk singh informed lok sabha wednesday however added physically present passport seva photographs taken passport \n",
      "Actual Summary : govt children years passport \n"
     ]
    },
    {
     "name": "stdout",
     "output_type": "stream",
     "text": [
      "Predicted Summary :  govt may give lakh child cases cases year\n",
      "\n",
      "\n",
      "Original Text : year old nepalese labourer died working one venues fifa world cup qatar tournament organising body said investigation launched first reported death qatar world cup venue since british worker died falling nearly metres khalifa international stadium january \n",
      "Actual Summary : nepalese worker dies world cup stadium site qatar \n",
      "Predicted Summary :  yr old dies fifa wc fifa wc trophy\n",
      "\n",
      "\n",
      "Original Text : actor vivek oberoi said wants actor salman khan upcoming film tubelight break records set ss rajamouli directorial baahubali become film feel tubelight capacity make hindi cinema proud around world added vivek notably tubelight scheduled release eid year \n",
      "Actual Summary : want salman tubelight break baahubali records vivek \n",
      "Predicted Summary :  salman khan make cr films wood film report\n",
      "\n",
      "\n",
      "Original Text : reacting ball tampering controversy australia head coach darren lehmann said going resign needs change need change play previously heads way play going forward added lehmann said players involved made grave mistake bad people \n",
      "Actual Summary : going resign need change aus coach \n",
      "Predicted Summary :  women cricket coach coach ex aus coach remark\n",
      "\n",
      "\n",
      "Original Text : rising pune supergiant player ms dhoni became second wicketkeeper complete dismissals ipl reaching landmark delhi daredevils friday dhoni th victim shreyas iyer former taking catch jaydev unadkat bowling dinesh karthik first wicketkeeper effect dismissals ipl reaching landmark last month \n",
      "Actual Summary : dhoni second keeper complete dismissals ipl \n",
      "Predicted Summary :  dhoni dhoni dhoni fastest ipl ipl ipl ipl\n",
      "\n",
      "\n",
      "Original Text : andhra pradesh government wednesday launched app agricultural marketplaces payments help farmers buy sell receive payments products phones easy secure way app developed mastercard labs financial inclusion kenya customised india team pune \n",
      "Actual Summary : andhra govt launches app marketplace farmers \n",
      "Predicted Summary :  maha govt launches app portal portal refund crore\n",
      "\n",
      "\n",
      "Original Text : human resource development ministry identified around ghost teachers various colleges universities introduction aadhaar ghost teachers identified state private universities central universities hrd minister prakash javadekar said use proxy methods apparently teaching multiple places full time added \n",
      "Actual Summary : govt ghost teachers using aadhaar \n",
      "Predicted Summary :  govt withdraws bill medical code schools health ministry\n",
      "\n",
      "\n",
      "Original Text : bengaluru elevated corridor project covering distance kilometres six corridors estimated cost crore proposed elevated corridors along peripheral ring road proposed answers decongest city roads project expected completed karnataka chief minister hd kumaraswamy nod \n",
      "Actual Summary : bengaluru km corridor cost cr \n",
      "Predicted Summary :  luru civic body canteens set km water roads\n",
      "\n",
      "\n",
      "Original Text : year old pakistani boy hearing speech disabilities lodged indian juvenile home crossing indian territory without travel documents may year acquitted comes pakistan high commission new delhi wrote indian external affairs ministry ensure early release repatriation boy \n",
      "Actual Summary : yr old differently abled pak boy held india acquitted \n",
      "Predicted Summary :  pak india st indian indian navy official reports\n",
      "\n",
      "\n",
      "Original Text : reacting pakistan four run loss new zealand first test user tweeted pakistan snatch defeat jaws victory users reacted loss tweets like wow turn around pakistan pakistan lose epic collective test match oye \n",
      "Actual Summary : pak defeat victory tweets user \n",
      "Predicted Summary :  pak captain tweets user tweets user pak ct\n",
      "\n",
      "\n",
      "Original Text : foot long carcass whale found washed ashore odisha puri beach monday suspected mammal died hit ship vessel deep sea global warming climate change increased pollution seawater could among reasons death sea mammals member coastal protection body said \n",
      "Actual Summary : foot long whale found dead odisha beach \n",
      "Predicted Summary :  dog carrying ship hit alive boat rescued maha\n",
      "\n",
      "\n",
      "Original Text : bollywood couple genelia riteish deshmukh invested undisclosed amount mumbai based online healthcare startup former tcs executive singh also invested startup founded startup provides treatment consultation online platform plans raise additional million \n",
      "Actual Summary : riteish invest health tech startup \n",
      "Predicted Summary :  amazon invests actress invests online sell stake startup\n",
      "\n",
      "\n",
      "Original Text : italian car designer turnaround ahead schedule though unfinished story mahindra group chairman anand mahindra said design going makes companies win idea acquiring company going finish story added designed ferrari sports cars acquired mahindra \n",
      "Actual Summary : revival italy story mahindra \n",
      "Predicted Summary :  anand mahindra mahindra puts sale stake model india\n",
      "\n",
      "\n",
      "Original Text : talking making sequel film ra one director sinha said shah rukh keep talking mind mind added nothing happening never easy make fi film know someday drink jump \n",
      "Actual Summary : making sequel one srk mind director \n",
      "Predicted Summary :  want love want want get film actor rao\n",
      "\n",
      "\n",
      "Original Text : jet airways passenger thursday tweeted pm narendra modi sir jet airways flight past looks like hijacked pl help triggering hijack scare agencies carried security checks mumbai delhi flight passenger offloaded questioning jet airways said flight delayed due air traffic congestion \n",
      "Actual Summary : hijack scare jet airways flyer tweets modi sir help \n",
      "Predicted Summary :  pm modi asks indigo flight flight security plane\n",
      "\n",
      "\n",
      "Original Text : talking priyanka chopra exit bharat salman khan said sweet tell us five days shoot could bharat revealed katrina kaif producer atul agnihotri first choice priyanka called ali said wanted bharat considered added salman \n",
      "Actual Summary : priyanka tell us days shoot salman exit \n",
      "Predicted Summary :  salman said like bharat bharat priyanka bharat reports\n",
      "\n",
      "\n",
      "Original Text : mumbai based man shared screenshots ola bill charged crore cancelled ride last week due technical glitch man claims ride cancelled driver even pickup tried booking another taxi ola app presented outstanding amount crore \n",
      "Actual Summary : man charged crore cancelled ola ride due glitch \n",
      "Predicted Summary :  man fined lakh fine drunk man delhi airport\n",
      "\n",
      "\n",
      "Original Text : flipkart co founder former ceo sachin bansal expected invest million towards ride hailing startup ola cabs one largest personal investments indian commerce space per reports amount would wealth made exit flipkart billion acquisition walmart \n",
      "Actual Summary : flipkart co founder sachin bansal may invest million ola \n",
      "Predicted Summary :  flipkart invests mn flipkart deal invests flipkart deal\n",
      "\n",
      "\n",
      "Original Text : year old indian man arrested thailand thursday allegedly raping year old girl july girl claimed met accused line chat app following took raped making drink beer man however denied rape charges claiming took drinks \n",
      "Actual Summary : indian man arrested thailand raping year old girl \n",
      "Predicted Summary :  man held raping year old girl raping minor\n",
      "\n",
      "\n",
      "Original Text : sahara group luxury resort town aamby valley city put auction supreme court spread acres consists lakes water bodies private airport features golf course spread acres water aircraft individual villas movie hall among others \n",
      "Actual Summary : sahara lakh cr aamby valley property \n",
      "Predicted Summary :  video shows delhi city land land land land\n",
      "\n",
      "\n",
      "Original Text : oxford university apologised picture one female cleaners surfaced online showing removing graffiti reading happy international women day flight stairs deeply sorry offence caused international women day hugely important oxford happened educational institution said \n",
      "Actual Summary : oxford university apologises women day controversy \n",
      "Predicted Summary :  canadian woman apologises remove tweet golden photo ad\n",
      "\n",
      "\n",
      "Original Text : hollywood actor hugh jackman said order convince people go theatres watch movies cinema offer get television landscape tv changing rapidly high quality writing acting added hugh \n",
      "Actual Summary : cinema offer people get tv hugh \n",
      "Predicted Summary :  film get film films films theatres sunny leone\n",
      "\n",
      "\n",
      "Original Text : uber co founder garrett camp launching cryptocurrency eco initial issue one trillion tokens would given away first one billion people sign interestingly means project would meanwhile camp founded venture fund would seed foundation million \n",
      "Actual Summary : uber co founder launches crypto give free \n"
     ]
    },
    {
     "name": "stdout",
     "output_type": "stream",
     "text": [
      "Predicted Summary :  uber co founder startup launches first ever ipo\n",
      "\n",
      "\n",
      "Original Text : uttar pradesh cm yogi adityanath thursday said bjp workers take law hands find development works carried state opposition dharna protest justified power work government schemes adityanath added \n",
      "Actual Summary : take law hands adityanath tells bjp workers \n",
      "Predicted Summary :  bjp led people make yogi bjp workers yogi\n",
      "\n",
      "\n",
      "Original Text : manesar palwal expressway also known western peripheral expressway became fully operational monday pm narendra modi inaugurated manesar stretch gurugram bring travel time sonipat manesar minutes along eastern peripheral expressway six lane expressway expected divert heavy vehicles away delhi \n",
      "Actual Summary : pm modi inaugurates western expressway gurugram \n",
      "Predicted Summary :  pm modi launch security security station delhi pm\n",
      "\n",
      "\n",
      "Original Text : sri lankan rounder thisara perera become seventh captain lead team three months named skipper upcoming pakistan since july dinesh chandimal lasith malinga angelo mathews tharanga led sri lanka international matches perera selected tharanga pulled lahore \n",
      "Actual Summary : sri lankan cricket team gets th captain months \n",
      "Predicted Summary :  sl player gets bat bat vs vs australia\n",
      "\n",
      "\n",
      "Original Text : actress aishwarya rai bachchan completed years bollywood tuesday debut hindi film aur pyaar ho gaya also co starred bobby deol released date year old actress known starring films like hum dil de chuke sanam devdas guru akbar \n",
      "Actual Summary : aishwarya rai completes yrs bollywood since debut film \n",
      "Predicted Summary :  aishwarya rai debut film debut film sequel report\n",
      "\n",
      "\n",
      "Original Text : national award winning actress neena gupta cast rishi kapoor wife sinha mulk asked work instagram saw instagram post hesitate pick phone call said added people film industry timeless neena one \n",
      "Actual Summary : neena cast rishi wife seeking work instagram \n",
      "Predicted Summary :  would find kid actress tv actress shashi kapoor\n",
      "\n",
      "\n"
     ]
    }
   ],
   "source": [
    "for i in range(50, 100):\n",
    "    print(\"Original Text :\", seq2text(encoder_input_test[i]))\n",
    "    print(\"Actual Summary :\", seq2summary(decoder_input_test[i]))\n",
    "    print(\"Predicted Summary :\", decode_sequence(encoder_input_test[i].reshape(1, text_max_len)))\n",
    "    print(\"\\n\")\n"
   ]
  },
  {
   "cell_type": "markdown",
   "id": "315bcf3c",
   "metadata": {},
   "source": [
    "# 3. Compare Extractive summary"
   ]
  },
  {
   "cell_type": "code",
   "execution_count": 297,
   "id": "da36e5e1",
   "metadata": {},
   "outputs": [
    {
     "name": "stdout",
     "output_type": "stream",
     "text": [
      "Original Text: year old girl allegedly gang raped three four accused men thrown drain jharkhand friday girl returning home maternal uncle residence alone accused started following committed crime girl rescued drain screamed help consciousness \n",
      "Actual Summary: girl thrown drain gang raped jharkhand \n",
      "Extractive Summary: \n",
      "Abstractive Summary:  year old raped men raped men greater noida\n",
      "\n",
      "\n",
      "Original Text: actress ayesha said never felt nervous people accepting comeback bollywood added always person even two shifts day finish work pack go home get disconnected everything else ayesha took break films son birth \n",
      "Actual Summary: never felt nervous accepted post comeback \n",
      "Extractive Summary: \n",
      "Abstractive Summary:  want people want want want work together film\n",
      "\n",
      "\n",
      "Original Text: lady gaga earned first nomination best actress category star born oscars roma also nominated making fourth actress shortlisted category seven time academy award nominee glenn close earned fourth nomination category performance wife \n",
      "Actual Summary: best actress oscars \n",
      "Extractive Summary: \n",
      "Abstractive Summary:  st lady wins best award golden award years\n",
      "\n",
      "\n",
      "Original Text: mobile hotel rooms near small village finland rooms fit two people feature bed dining table gas heater external dry toilet also feature glass giving guests chance see northern lights inside hotel rooms \n",
      "Actual Summary: mobile hotel rooms finland \n",
      "Extractive Summary: \n",
      "Abstractive Summary:  hotel lets people get hotel hotel guests food\n",
      "\n",
      "\n",
      "Original Text: actress tabu talking women playing comic characters said see era language internationally norm tabu added writing comic parts women easy common talking role golmaal tabu said lovely role fits beautifully \n",
      "Actual Summary: see women playing characters tabu \n",
      "Extractive Summary: \n",
      "Abstractive Summary:  casting couch wood like actor says casting couch\n",
      "\n",
      "\n",
      "Original Text: world richest man jeff bezos revealed fantasy bartender bezos added craft fantasy bar would sign saying want good want fast bezos also said would software engineer jeff bezos \n",
      "Actual Summary: fantasy jeff bezos \n",
      "Extractive Summary: \n",
      "Abstractive Summary:  bezos startup made bezos bezos sex claims report\n",
      "\n",
      "\n",
      "Original Text: dark matter dark energy believed make universe may exist according swiss researcher andr fitted hypothesis einstein theory general relativity found need factor dark energy explain universe accelerating expansion using newton speeding galaxies could explained without dark matter \n",
      "Actual Summary: dark matter dark energy may exist study claims \n",
      "Extractive Summary: \n",
      "Abstractive Summary:  world smallest star time matter behind life study\n",
      "\n",
      "\n",
      "Original Text: dish network pay million us government four states using consumers call lists marking record fine violations dish sued violating two consumer laws making crore illegal calls dish however blamed contractors bad calls \n",
      "Actual Summary: dish fined record cr illegal calls \n",
      "Extractive Summary: \n",
      "Abstractive Summary:  us firm fined mn fine mn fine suit\n",
      "\n",
      "\n",
      "Original Text: world largest retailer mart stores changing legal name walmart years effective february company said move shows growing emphasis serving shoppers different ways beyond physical stores also online mobile devices pickup delivery mart operates stores clubs countries \n",
      "Actual Summary: stores change name walmart years \n",
      "Extractive Summary: \n",
      "Abstractive Summary:  world largest firm adds blockchain service walmart deal\n",
      "\n",
      "\n",
      "Original Text: paris banned sexist discriminatory ads billboards ban proposed department equality women men fight discrimination includes image deemed defame ethnicity nationality religion sex age paris preventing degrading images certain categories citizens officials said \n",
      "Actual Summary: paris bans sexist discriminatory ads \n",
      "Extractive Summary: \n",
      "Abstractive Summary:  ban hijab banned women hijab law govt tells\n",
      "\n",
      "\n",
      "Original Text: blue species newly discovered south america already critically endangered hundred left existence bird experts believe individual blue left number could even lower live high elevation habitats \n",
      "Actual Summary: newly discovered already endangered \n",
      "Extractive Summary: \n",
      "Abstractive Summary:  yr old blue whale sea found back home\n",
      "\n",
      "\n",
      "Original Text: madhya pradesh cabinet tuesday imposed ban using polythene carry bags state effect may cows eat polythene plastic bags leads death banning polythene use protect lives besides plastic polythene bags also harmful environment state public relations department minister mishra said \n",
      "Actual Summary: madhya pradesh bans bags may \n",
      "Extractive Summary: \n",
      "Abstractive Summary:  kerala govt bans ban liquor ban plastic ban\n",
      "\n",
      "\n",
      "Original Text: former prime minister manmohan singh said take least year economy recover shock demonetisation implementation gst added demonetisation resulted slowing economic growth per cent per cent first quarter \n",
      "Actual Summary: economy take yr recover note ban gst ex pm \n",
      "Extractive Summary: \n",
      "Abstractive Summary:  manmohan singh get job ex pm manmohan singh\n",
      "\n",
      "\n",
      "Original Text: year old constable nagaland voluntarily collects garbage old maruti van keep town located nearly km clean deposits pile garbage dumping site located several kilometres outside town reportedly took trips rid entire town garbage first day \n",
      "Actual Summary: constable collects garbage old van clean town \n",
      "Extractive Summary: \n",
      "Abstractive Summary:  govt build drone drive km km km haryana\n",
      "\n",
      "\n",
      "Original Text: filmmaker anurag basu addressing people like jagga jasoos said rejection pave way next film promise try added basu also thanked fans liked film tweeted thank much ur love appreciation like oxygen right \n",
      "Actual Summary: rejection way next film basu jagga jasoos \n",
      "Extractive Summary: \n",
      "Abstractive Summary:  anurag kashyap calls anurag kashyap kashyap anurag kashyap\n",
      "\n",
      "\n",
      "Original Text: spacex reportedly lost secret satellite zuma commissioned us government failed reach orbit strategic command monitors man made objects space said track new satellites since launch reports suggest payload separate falcon upper stage fell back earth \n",
      "Actual Summary: spacex loses secret us govt satellite latest launch \n",
      "Extractive Summary: \n",
      "Abstractive Summary:  us space station launch first ever moon moon\n",
      "\n",
      "\n",
      "Original Text: supplier retail giant walmart recalled frozen pizzas available us states due concerns possible contamination supplier recalled pounds extra large supreme pizza shipped retail distribution centres walmart said unaware illnesses linked pizzas \n",
      "Actual Summary: walmart supplier recalls frozen fear \n",
      "Extractive Summary: \n",
      "Abstractive Summary:  walmart may bn per week supply walmart years\n",
      "\n",
      "\n",
      "Original Text: kerala high court rejected bail plea actor dileep arrested two weeks ago connection abduction assault malayalam actress court noted dileep release point would affect ongoing investigation police suspect dileep paying men abduct assault actress \n",
      "Actual Summary: hc rejects dileep bail plea actress abduction case \n",
      "Extractive Summary: \n",
      "Abstractive Summary:  dileep dileep accused dileep bail plea rejected hc\n",
      "\n",
      "\n",
      "Original Text: actor hrithik roshan lawyer mahesh jethmalani tv interview said police complaint filed kangana ranaut april year client stalked actress hrithik also reportedly alleged complaint sent sexually explicit emails despite maintaining strictly professional relationship \n",
      "Actual Summary: ranaut client hrithik lawyer police complaint \n",
      "Extractive Summary: \n",
      "Abstractive Summary:  hrithik roshan hrithik roshan accuses hrithik roshan roshan\n",
      "\n",
      "\n",
      "Original Text: one eight french women nearly lakh country female population raped least lifetime study jean revealed think tank surveyed women assess extent sexual harassment france study revealed respondents sexually touched without consent \n",
      "Actual Summary: french women raped study \n",
      "Extractive Summary: \n",
      "Abstractive Summary:  sex sex abuse may reported kerala study study\n",
      "\n",
      "\n",
      "Original Text: former madhya pradesh cm shivraj singh chouhan thursday said reports people given name farm loan waiver cruel joke claimed list beneficiaries published english confusing farmers comes farmer alleged received waiver loan \n",
      "Actual Summary: farm loan waiver cruel joke shivraj chouhan \n",
      "Extractive Summary: \n",
      "Abstractive Summary:  mp cm chouhan singh singh singh singh mp\n",
      "\n",
      "\n",
      "Original Text: adil taj pakistani cricket fan sang indian national anthem india asia cup match pakistan wednesday said learnt india national anthem bollywood movie kabhi khushi kabhie gham taj added carry nations flags next asia cup match scheduled sunday \n",
      "Actual Summary: learnt indian anthem khushi pak fan \n",
      "Extractive Summary: \n"
     ]
    },
    {
     "name": "stdout",
     "output_type": "stream",
     "text": [
      "Abstractive Summary:  pak players play indian cricket pak play event\n",
      "\n",
      "\n",
      "Original Text: government exempted children age five years giving biometrics passport issuing authority mos external affairs general vk singh informed lok sabha wednesday however added physically present passport seva photographs taken passport \n",
      "Actual Summary: govt children years passport \n",
      "Extractive Summary: \n",
      "Abstractive Summary:  govt may give lakh child cases cases year\n",
      "\n",
      "\n",
      "Original Text: year old nepalese labourer died working one venues fifa world cup qatar tournament organising body said investigation launched first reported death qatar world cup venue since british worker died falling nearly metres khalifa international stadium january \n",
      "Actual Summary: nepalese worker dies world cup stadium site qatar \n",
      "Extractive Summary: \n",
      "Abstractive Summary:  yr old dies fifa wc fifa wc trophy\n",
      "\n",
      "\n",
      "Original Text: actor vivek oberoi said wants actor salman khan upcoming film tubelight break records set ss rajamouli directorial baahubali become film feel tubelight capacity make hindi cinema proud around world added vivek notably tubelight scheduled release eid year \n",
      "Actual Summary: want salman tubelight break baahubali records vivek \n",
      "Extractive Summary: \n",
      "Abstractive Summary:  salman khan make cr films wood film report\n",
      "\n",
      "\n",
      "Original Text: reacting ball tampering controversy australia head coach darren lehmann said going resign needs change need change play previously heads way play going forward added lehmann said players involved made grave mistake bad people \n",
      "Actual Summary: going resign need change aus coach \n",
      "Extractive Summary: \n",
      "Abstractive Summary:  women cricket coach coach ex aus coach remark\n",
      "\n",
      "\n",
      "Original Text: rising pune supergiant player ms dhoni became second wicketkeeper complete dismissals ipl reaching landmark delhi daredevils friday dhoni th victim shreyas iyer former taking catch jaydev unadkat bowling dinesh karthik first wicketkeeper effect dismissals ipl reaching landmark last month \n",
      "Actual Summary: dhoni second keeper complete dismissals ipl \n",
      "Extractive Summary: \n",
      "Abstractive Summary:  dhoni dhoni dhoni fastest ipl ipl ipl ipl\n",
      "\n",
      "\n",
      "Original Text: andhra pradesh government wednesday launched app agricultural marketplaces payments help farmers buy sell receive payments products phones easy secure way app developed mastercard labs financial inclusion kenya customised india team pune \n",
      "Actual Summary: andhra govt launches app marketplace farmers \n",
      "Extractive Summary: \n",
      "Abstractive Summary:  maha govt launches app portal portal refund crore\n",
      "\n",
      "\n",
      "Original Text: human resource development ministry identified around ghost teachers various colleges universities introduction aadhaar ghost teachers identified state private universities central universities hrd minister prakash javadekar said use proxy methods apparently teaching multiple places full time added \n",
      "Actual Summary: govt ghost teachers using aadhaar \n",
      "Extractive Summary: \n",
      "Abstractive Summary:  govt withdraws bill medical code schools health ministry\n",
      "\n",
      "\n",
      "Original Text: bengaluru elevated corridor project covering distance kilometres six corridors estimated cost crore proposed elevated corridors along peripheral ring road proposed answers decongest city roads project expected completed karnataka chief minister hd kumaraswamy nod \n",
      "Actual Summary: bengaluru km corridor cost cr \n",
      "Extractive Summary: \n",
      "Abstractive Summary:  luru civic body canteens set km water roads\n",
      "\n",
      "\n",
      "Original Text: year old pakistani boy hearing speech disabilities lodged indian juvenile home crossing indian territory without travel documents may year acquitted comes pakistan high commission new delhi wrote indian external affairs ministry ensure early release repatriation boy \n",
      "Actual Summary: yr old differently abled pak boy held india acquitted \n",
      "Extractive Summary: \n",
      "Abstractive Summary:  pak india st indian indian navy official reports\n",
      "\n",
      "\n",
      "Original Text: reacting pakistan four run loss new zealand first test user tweeted pakistan snatch defeat jaws victory users reacted loss tweets like wow turn around pakistan pakistan lose epic collective test match oye \n",
      "Actual Summary: pak defeat victory tweets user \n",
      "Extractive Summary: \n",
      "Abstractive Summary:  pak captain tweets user tweets user pak ct\n",
      "\n",
      "\n",
      "Original Text: foot long carcass whale found washed ashore odisha puri beach monday suspected mammal died hit ship vessel deep sea global warming climate change increased pollution seawater could among reasons death sea mammals member coastal protection body said \n",
      "Actual Summary: foot long whale found dead odisha beach \n",
      "Extractive Summary: \n",
      "Abstractive Summary:  dog carrying ship hit alive boat rescued maha\n",
      "\n",
      "\n",
      "Original Text: bollywood couple genelia riteish deshmukh invested undisclosed amount mumbai based online healthcare startup former tcs executive singh also invested startup founded startup provides treatment consultation online platform plans raise additional million \n",
      "Actual Summary: riteish invest health tech startup \n",
      "Extractive Summary: \n",
      "Abstractive Summary:  amazon invests actress invests online sell stake startup\n",
      "\n",
      "\n",
      "Original Text: italian car designer turnaround ahead schedule though unfinished story mahindra group chairman anand mahindra said design going makes companies win idea acquiring company going finish story added designed ferrari sports cars acquired mahindra \n",
      "Actual Summary: revival italy story mahindra \n",
      "Extractive Summary: \n",
      "Abstractive Summary:  anand mahindra mahindra puts sale stake model india\n",
      "\n",
      "\n",
      "Original Text: talking making sequel film ra one director sinha said shah rukh keep talking mind mind added nothing happening never easy make fi film know someday drink jump \n",
      "Actual Summary: making sequel one srk mind director \n",
      "Extractive Summary: \n",
      "Abstractive Summary:  want love want want get film actor rao\n",
      "\n",
      "\n",
      "Original Text: jet airways passenger thursday tweeted pm narendra modi sir jet airways flight past looks like hijacked pl help triggering hijack scare agencies carried security checks mumbai delhi flight passenger offloaded questioning jet airways said flight delayed due air traffic congestion \n",
      "Actual Summary: hijack scare jet airways flyer tweets modi sir help \n",
      "Extractive Summary: \n",
      "Abstractive Summary:  pm modi asks indigo flight flight security plane\n",
      "\n",
      "\n",
      "Original Text: talking priyanka chopra exit bharat salman khan said sweet tell us five days shoot could bharat revealed katrina kaif producer atul agnihotri first choice priyanka called ali said wanted bharat considered added salman \n",
      "Actual Summary: priyanka tell us days shoot salman exit \n",
      "Extractive Summary: \n",
      "Abstractive Summary:  salman said like bharat bharat priyanka bharat reports\n",
      "\n",
      "\n",
      "Original Text: mumbai based man shared screenshots ola bill charged crore cancelled ride last week due technical glitch man claims ride cancelled driver even pickup tried booking another taxi ola app presented outstanding amount crore \n",
      "Actual Summary: man charged crore cancelled ola ride due glitch \n",
      "Extractive Summary: \n",
      "Abstractive Summary:  man fined lakh fine drunk man delhi airport\n",
      "\n",
      "\n",
      "Original Text: flipkart co founder former ceo sachin bansal expected invest million towards ride hailing startup ola cabs one largest personal investments indian commerce space per reports amount would wealth made exit flipkart billion acquisition walmart \n",
      "Actual Summary: flipkart co founder sachin bansal may invest million ola \n",
      "Extractive Summary: \n",
      "Abstractive Summary:  flipkart invests mn flipkart deal invests flipkart deal\n",
      "\n",
      "\n",
      "Original Text: year old indian man arrested thailand thursday allegedly raping year old girl july girl claimed met accused line chat app following took raped making drink beer man however denied rape charges claiming took drinks \n",
      "Actual Summary: indian man arrested thailand raping year old girl \n",
      "Extractive Summary: \n",
      "Abstractive Summary:  man held raping year old girl raping minor\n",
      "\n",
      "\n",
      "Original Text: sahara group luxury resort town aamby valley city put auction supreme court spread acres consists lakes water bodies private airport features golf course spread acres water aircraft individual villas movie hall among others \n",
      "Actual Summary: sahara lakh cr aamby valley property \n",
      "Extractive Summary: \n",
      "Abstractive Summary:  video shows delhi city land land land land\n",
      "\n",
      "\n",
      "Original Text: oxford university apologised picture one female cleaners surfaced online showing removing graffiti reading happy international women day flight stairs deeply sorry offence caused international women day hugely important oxford happened educational institution said \n",
      "Actual Summary: oxford university apologises women day controversy \n",
      "Extractive Summary: \n"
     ]
    },
    {
     "name": "stdout",
     "output_type": "stream",
     "text": [
      "Abstractive Summary:  canadian woman apologises remove tweet golden photo ad\n",
      "\n",
      "\n",
      "Original Text: hollywood actor hugh jackman said order convince people go theatres watch movies cinema offer get television landscape tv changing rapidly high quality writing acting added hugh \n",
      "Actual Summary: cinema offer people get tv hugh \n",
      "Extractive Summary: \n",
      "Abstractive Summary:  film get film films films theatres sunny leone\n",
      "\n",
      "\n",
      "Original Text: uber co founder garrett camp launching cryptocurrency eco initial issue one trillion tokens would given away first one billion people sign interestingly means project would meanwhile camp founded venture fund would seed foundation million \n",
      "Actual Summary: uber co founder launches crypto give free \n",
      "Extractive Summary: \n",
      "Abstractive Summary:  uber co founder startup launches first ever ipo\n",
      "\n",
      "\n",
      "Original Text: uttar pradesh cm yogi adityanath thursday said bjp workers take law hands find development works carried state opposition dharna protest justified power work government schemes adityanath added \n",
      "Actual Summary: take law hands adityanath tells bjp workers \n",
      "Extractive Summary: \n",
      "Abstractive Summary:  bjp led people make yogi bjp workers yogi\n",
      "\n",
      "\n",
      "Original Text: manesar palwal expressway also known western peripheral expressway became fully operational monday pm narendra modi inaugurated manesar stretch gurugram bring travel time sonipat manesar minutes along eastern peripheral expressway six lane expressway expected divert heavy vehicles away delhi \n",
      "Actual Summary: pm modi inaugurates western expressway gurugram \n",
      "Extractive Summary: \n",
      "Abstractive Summary:  pm modi launch security security station delhi pm\n",
      "\n",
      "\n",
      "Original Text: sri lankan rounder thisara perera become seventh captain lead team three months named skipper upcoming pakistan since july dinesh chandimal lasith malinga angelo mathews tharanga led sri lanka international matches perera selected tharanga pulled lahore \n",
      "Actual Summary: sri lankan cricket team gets th captain months \n",
      "Extractive Summary: \n",
      "Abstractive Summary:  sl player gets bat bat vs vs australia\n",
      "\n",
      "\n",
      "Original Text: actress aishwarya rai bachchan completed years bollywood tuesday debut hindi film aur pyaar ho gaya also co starred bobby deol released date year old actress known starring films like hum dil de chuke sanam devdas guru akbar \n",
      "Actual Summary: aishwarya rai completes yrs bollywood since debut film \n",
      "Extractive Summary: \n",
      "Abstractive Summary:  aishwarya rai debut film debut film sequel report\n",
      "\n",
      "\n",
      "Original Text: national award winning actress neena gupta cast rishi kapoor wife sinha mulk asked work instagram saw instagram post hesitate pick phone call said added people film industry timeless neena one \n",
      "Actual Summary: neena cast rishi wife seeking work instagram \n",
      "Extractive Summary: \n",
      "Abstractive Summary:  would find kid actress tv actress shashi kapoor\n",
      "\n",
      "\n"
     ]
    }
   ],
   "source": [
    "import requests\n",
    "from summa.summarizer import summarize\n",
    "\n",
    "for i in range(50, 100):\n",
    "    print(\"Original Text:\", seq2text(encoder_input_test[i]))\n",
    "    print(\"Actual Summary:\", seq2summary(decoder_input_test[i]))\n",
    "    print(\"Extractive Summary:\", summarize(seq2text(encoder_input_test[i]), words=3))\n",
    "    print(\"Abstractive Summary:\", decode_sequence(encoder_input_test[i].reshape(1, text_max_len)))\n",
    "    print(\"\\n\")\n"
   ]
  }
 ],
 "metadata": {
  "kernelspec": {
   "display_name": "Python 3 (ipykernel)",
   "language": "python",
   "name": "python3"
  },
  "language_info": {
   "codemirror_mode": {
    "name": "ipython",
    "version": 3
   },
   "file_extension": ".py",
   "mimetype": "text/x-python",
   "name": "python",
   "nbconvert_exporter": "python",
   "pygments_lexer": "ipython3",
   "version": "3.9.7"
  }
 },
 "nbformat": 4,
 "nbformat_minor": 5
}
